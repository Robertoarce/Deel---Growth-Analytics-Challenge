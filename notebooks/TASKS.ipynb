{
 "cells": [
  {
   "cell_type": "code",
   "execution_count": 30,
   "metadata": {},
   "outputs": [],
   "source": [
    "import pandas as pd\n",
    "import numpy as np \n",
    "import matplotlib.pyplot as plt\n",
    "import seaborn as sns\n",
    "import plotly.graph_objs as go\n"
   ]
  },
  {
   "cell_type": "markdown",
   "metadata": {},
   "source": [
    "# Data Extraction"
   ]
  },
  {
   "cell_type": "code",
   "execution_count": 31,
   "metadata": {},
   "outputs": [
    {
     "data": {
      "text/html": [
       "<div>\n",
       "<style scoped>\n",
       "    .dataframe tbody tr th:only-of-type {\n",
       "        vertical-align: middle;\n",
       "    }\n",
       "\n",
       "    .dataframe tbody tr th {\n",
       "        vertical-align: top;\n",
       "    }\n",
       "\n",
       "    .dataframe thead th {\n",
       "        text-align: right;\n",
       "    }\n",
       "</style>\n",
       "<table border=\"1\" class=\"dataframe\">\n",
       "  <thead>\n",
       "    <tr style=\"text-align: right;\">\n",
       "      <th></th>\n",
       "      <th>Utm Medium</th>\n",
       "      <th>Utm Source</th>\n",
       "      <th>Traffic Week</th>\n",
       "      <th># Impressions</th>\n",
       "      <th># Clicks</th>\n",
       "      <th>$ Cost</th>\n",
       "    </tr>\n",
       "  </thead>\n",
       "  <tbody>\n",
       "    <tr>\n",
       "      <th>0</th>\n",
       "      <td>paid-social</td>\n",
       "      <td>linkedin</td>\n",
       "      <td>2023-10-23</td>\n",
       "      <td>4881796</td>\n",
       "      <td>21954</td>\n",
       "      <td>$169,017.58</td>\n",
       "    </tr>\n",
       "    <tr>\n",
       "      <th>1</th>\n",
       "      <td>paid-social</td>\n",
       "      <td>linkedin</td>\n",
       "      <td>2023-10-16</td>\n",
       "      <td>6335386</td>\n",
       "      <td>15776</td>\n",
       "      <td>$174,972.20</td>\n",
       "    </tr>\n",
       "    <tr>\n",
       "      <th>2</th>\n",
       "      <td>paid-social</td>\n",
       "      <td>linkedin</td>\n",
       "      <td>2023-10-09</td>\n",
       "      <td>4485024</td>\n",
       "      <td>35009</td>\n",
       "      <td>$327,466.25</td>\n",
       "    </tr>\n",
       "    <tr>\n",
       "      <th>3</th>\n",
       "      <td>paid-social</td>\n",
       "      <td>linkedin</td>\n",
       "      <td>2023-10-02</td>\n",
       "      <td>4348074</td>\n",
       "      <td>27765</td>\n",
       "      <td>$272,559.09</td>\n",
       "    </tr>\n",
       "    <tr>\n",
       "      <th>4</th>\n",
       "      <td>paid-social</td>\n",
       "      <td>linkedin</td>\n",
       "      <td>2023-09-25</td>\n",
       "      <td>5962092</td>\n",
       "      <td>31388</td>\n",
       "      <td>$249,770.65</td>\n",
       "    </tr>\n",
       "    <tr>\n",
       "      <th>...</th>\n",
       "      <td>...</td>\n",
       "      <td>...</td>\n",
       "      <td>...</td>\n",
       "      <td>...</td>\n",
       "      <td>...</td>\n",
       "      <td>...</td>\n",
       "    </tr>\n",
       "    <tr>\n",
       "      <th>79</th>\n",
       "      <td>paid-search</td>\n",
       "      <td>bing</td>\n",
       "      <td>2023-07-03</td>\n",
       "      <td>48173</td>\n",
       "      <td>5662</td>\n",
       "      <td>$28,060.26</td>\n",
       "    </tr>\n",
       "    <tr>\n",
       "      <th>80</th>\n",
       "      <td>paid-search</td>\n",
       "      <td>bing</td>\n",
       "      <td>2023-06-26</td>\n",
       "      <td>52959</td>\n",
       "      <td>5267</td>\n",
       "      <td>$23,667.38</td>\n",
       "    </tr>\n",
       "    <tr>\n",
       "      <th>81</th>\n",
       "      <td>paid-search</td>\n",
       "      <td>bing</td>\n",
       "      <td>2023-06-19</td>\n",
       "      <td>57243</td>\n",
       "      <td>3996</td>\n",
       "      <td>$23,881.69</td>\n",
       "    </tr>\n",
       "    <tr>\n",
       "      <th>82</th>\n",
       "      <td>paid-search</td>\n",
       "      <td>bing</td>\n",
       "      <td>2023-06-12</td>\n",
       "      <td>23783</td>\n",
       "      <td>3195</td>\n",
       "      <td>$18,257.71</td>\n",
       "    </tr>\n",
       "    <tr>\n",
       "      <th>83</th>\n",
       "      <td>paid-search</td>\n",
       "      <td>bing</td>\n",
       "      <td>2023-06-05</td>\n",
       "      <td>62515</td>\n",
       "      <td>2544</td>\n",
       "      <td>$14,681.04</td>\n",
       "    </tr>\n",
       "  </tbody>\n",
       "</table>\n",
       "<p>84 rows × 6 columns</p>\n",
       "</div>"
      ],
      "text/plain": [
       "     Utm Medium Utm Source Traffic Week  # Impressions  # Clicks       $ Cost\n",
       "0   paid-social   linkedin   2023-10-23        4881796     21954  $169,017.58\n",
       "1   paid-social   linkedin   2023-10-16        6335386     15776  $174,972.20\n",
       "2   paid-social   linkedin   2023-10-09        4485024     35009  $327,466.25\n",
       "3   paid-social   linkedin   2023-10-02        4348074     27765  $272,559.09\n",
       "4   paid-social   linkedin   2023-09-25        5962092     31388  $249,770.65\n",
       "..          ...        ...          ...            ...       ...          ...\n",
       "79  paid-search       bing   2023-07-03          48173      5662   $28,060.26\n",
       "80  paid-search       bing   2023-06-26          52959      5267   $23,667.38\n",
       "81  paid-search       bing   2023-06-19          57243      3996   $23,881.69\n",
       "82  paid-search       bing   2023-06-12          23783      3195   $18,257.71\n",
       "83  paid-search       bing   2023-06-05          62515      2544   $14,681.04\n",
       "\n",
       "[84 rows x 6 columns]"
      ]
     },
     "execution_count": 31,
     "metadata": {},
     "output_type": "execute_result"
    }
   ],
   "source": [
    "paid = pd.read_csv(\"./../data/paid_platform.csv\")\n",
    "paid"
   ]
  },
  {
   "cell_type": "code",
   "execution_count": 32,
   "metadata": {},
   "outputs": [
    {
     "data": {
      "text/html": [
       "<div>\n",
       "<style scoped>\n",
       "    .dataframe tbody tr th:only-of-type {\n",
       "        vertical-align: middle;\n",
       "    }\n",
       "\n",
       "    .dataframe tbody tr th {\n",
       "        vertical-align: top;\n",
       "    }\n",
       "\n",
       "    .dataframe thead th {\n",
       "        text-align: right;\n",
       "    }\n",
       "</style>\n",
       "<table border=\"1\" class=\"dataframe\">\n",
       "  <thead>\n",
       "    <tr style=\"text-align: right;\">\n",
       "      <th></th>\n",
       "      <th>Touched Date</th>\n",
       "      <th>Utm Medium</th>\n",
       "      <th>Utm Source</th>\n",
       "      <th>Utm Campaign</th>\n",
       "      <th># Demo Occurred</th>\n",
       "      <th># Sales Qualified Opportunity</th>\n",
       "      <th># Closed Won Opportunity</th>\n",
       "    </tr>\n",
       "  </thead>\n",
       "  <tbody>\n",
       "    <tr>\n",
       "      <th>0</th>\n",
       "      <td>2023-10-29</td>\n",
       "      <td>paid-search</td>\n",
       "      <td>google</td>\n",
       "      <td>nam-t1_acq_searchnonbranded_google_search_coun...</td>\n",
       "      <td>2.5</td>\n",
       "      <td>0.0</td>\n",
       "      <td>0.0</td>\n",
       "    </tr>\n",
       "    <tr>\n",
       "      <th>1</th>\n",
       "      <td>2023-10-29</td>\n",
       "      <td>paid-listicle</td>\n",
       "      <td>peoplemanagingpeople</td>\n",
       "      <td>ww_acq_prosp_pmp_paidlist_cadpayroll-pmp-__all</td>\n",
       "      <td>2.5</td>\n",
       "      <td>2.5</td>\n",
       "      <td>0.0</td>\n",
       "    </tr>\n",
       "    <tr>\n",
       "      <th>2</th>\n",
       "      <td>2023-10-29</td>\n",
       "      <td>paid-social</td>\n",
       "      <td>facebook</td>\n",
       "      <td>nam-t1_consider_calculate_fb_image_all-reengag...</td>\n",
       "      <td>2.4</td>\n",
       "      <td>0.0</td>\n",
       "      <td>0.0</td>\n",
       "    </tr>\n",
       "    <tr>\n",
       "      <th>3</th>\n",
       "      <td>2023-10-29</td>\n",
       "      <td>paid-search</td>\n",
       "      <td>google</td>\n",
       "      <td>emea-t1a_acq_searchnonbranded_google_search_pa...</td>\n",
       "      <td>0.0</td>\n",
       "      <td>0.0</td>\n",
       "      <td>0.0</td>\n",
       "    </tr>\n",
       "    <tr>\n",
       "      <th>4</th>\n",
       "      <td>2023-10-29</td>\n",
       "      <td>sponsored-newsletter</td>\n",
       "      <td>hrci</td>\n",
       "      <td>ww_engage_download_hrci_sponnewsletter_hr-hrbu...</td>\n",
       "      <td>0.0</td>\n",
       "      <td>0.0</td>\n",
       "      <td>0.0</td>\n",
       "    </tr>\n",
       "    <tr>\n",
       "      <th>...</th>\n",
       "      <td>...</td>\n",
       "      <td>...</td>\n",
       "      <td>...</td>\n",
       "      <td>...</td>\n",
       "      <td>...</td>\n",
       "      <td>...</td>\n",
       "      <td>...</td>\n",
       "    </tr>\n",
       "    <tr>\n",
       "      <th>11006</th>\n",
       "      <td>2023-06-05</td>\n",
       "      <td>659706244314</td>\n",
       "      <td>149096095629</td>\n",
       "      <td>NaN</td>\n",
       "      <td>1.9</td>\n",
       "      <td>2.5</td>\n",
       "      <td>0.0</td>\n",
       "    </tr>\n",
       "    <tr>\n",
       "      <th>11007</th>\n",
       "      <td>2023-06-05</td>\n",
       "      <td>webinar</td>\n",
       "      <td>webinar</td>\n",
       "      <td>ww_acq_prosp_webinar__defaultcamp--__all</td>\n",
       "      <td>0.0</td>\n",
       "      <td>0.0</td>\n",
       "      <td>0.0</td>\n",
       "    </tr>\n",
       "    <tr>\n",
       "      <th>11008</th>\n",
       "      <td>2023-06-05</td>\n",
       "      <td>cpc</td>\n",
       "      <td>bing</td>\n",
       "      <td>NaN</td>\n",
       "      <td>0.0</td>\n",
       "      <td>0.0</td>\n",
       "      <td>0.0</td>\n",
       "    </tr>\n",
       "    <tr>\n",
       "      <th>11009</th>\n",
       "      <td>2023-06-05</td>\n",
       "      <td>paid-social</td>\n",
       "      <td>facebook</td>\n",
       "      <td>emea-t2_acq_prosp_fb_image_all-cb-__smbmm</td>\n",
       "      <td>3.1</td>\n",
       "      <td>0.0</td>\n",
       "      <td>0.0</td>\n",
       "    </tr>\n",
       "    <tr>\n",
       "      <th>11010</th>\n",
       "      <td>2023-06-05</td>\n",
       "      <td>642450914603</td>\n",
       "      <td>148350216607</td>\n",
       "      <td>NaN</td>\n",
       "      <td>2.5</td>\n",
       "      <td>0.0</td>\n",
       "      <td>0.0</td>\n",
       "    </tr>\n",
       "  </tbody>\n",
       "</table>\n",
       "<p>11011 rows × 7 columns</p>\n",
       "</div>"
      ],
      "text/plain": [
       "      Touched Date            Utm Medium            Utm Source  \\\n",
       "0       2023-10-29           paid-search                google   \n",
       "1       2023-10-29         paid-listicle  peoplemanagingpeople   \n",
       "2       2023-10-29           paid-social              facebook   \n",
       "3       2023-10-29           paid-search                google   \n",
       "4       2023-10-29  sponsored-newsletter                  hrci   \n",
       "...            ...                   ...                   ...   \n",
       "11006   2023-06-05          659706244314          149096095629   \n",
       "11007   2023-06-05               webinar               webinar   \n",
       "11008   2023-06-05                   cpc                  bing   \n",
       "11009   2023-06-05           paid-social              facebook   \n",
       "11010   2023-06-05          642450914603          148350216607   \n",
       "\n",
       "                                            Utm Campaign  # Demo Occurred  \\\n",
       "0      nam-t1_acq_searchnonbranded_google_search_coun...              2.5   \n",
       "1         ww_acq_prosp_pmp_paidlist_cadpayroll-pmp-__all              2.5   \n",
       "2      nam-t1_consider_calculate_fb_image_all-reengag...              2.4   \n",
       "3      emea-t1a_acq_searchnonbranded_google_search_pa...              0.0   \n",
       "4      ww_engage_download_hrci_sponnewsletter_hr-hrbu...              0.0   \n",
       "...                                                  ...              ...   \n",
       "11006                                                NaN              1.9   \n",
       "11007           ww_acq_prosp_webinar__defaultcamp--__all              0.0   \n",
       "11008                                                NaN              0.0   \n",
       "11009          emea-t2_acq_prosp_fb_image_all-cb-__smbmm              3.1   \n",
       "11010                                                NaN              2.5   \n",
       "\n",
       "       # Sales Qualified Opportunity  # Closed Won Opportunity  \n",
       "0                                0.0                       0.0  \n",
       "1                                2.5                       0.0  \n",
       "2                                0.0                       0.0  \n",
       "3                                0.0                       0.0  \n",
       "4                                0.0                       0.0  \n",
       "...                              ...                       ...  \n",
       "11006                            2.5                       0.0  \n",
       "11007                            0.0                       0.0  \n",
       "11008                            0.0                       0.0  \n",
       "11009                            0.0                       0.0  \n",
       "11010                            0.0                       0.0  \n",
       "\n",
       "[11011 rows x 7 columns]"
      ]
     },
     "execution_count": 32,
     "metadata": {},
     "output_type": "execute_result"
    }
   ],
   "source": [
    "conversion = pd.read_csv(\"./../data/conversion_data.csv\")\n",
    "conversion"
   ]
  },
  {
   "cell_type": "markdown",
   "metadata": {},
   "source": [
    "# Task 1: Analyzing Sales Funnel Data"
   ]
  },
  {
   "cell_type": "markdown",
   "metadata": {},
   "source": [
    "## 1) Analyzing Seasonality in Sales:"
   ]
  },
  {
   "cell_type": "code",
   "execution_count": 33,
   "metadata": {},
   "outputs": [],
   "source": [
    "# Convert to datetime and extract the weekday\n",
    "conversion['Touched Date'] = pd.to_datetime(conversion['Touched Date'])"
   ]
  },
  {
   "cell_type": "markdown",
   "metadata": {},
   "source": [
    "### By Monthly Level"
   ]
  },
  {
   "cell_type": "code",
   "execution_count": 34,
   "metadata": {},
   "outputs": [
    {
     "data": {
      "text/html": [
       "<div>\n",
       "<style scoped>\n",
       "    .dataframe tbody tr th:only-of-type {\n",
       "        vertical-align: middle;\n",
       "    }\n",
       "\n",
       "    .dataframe tbody tr th {\n",
       "        vertical-align: top;\n",
       "    }\n",
       "\n",
       "    .dataframe thead th {\n",
       "        text-align: right;\n",
       "    }\n",
       "</style>\n",
       "<table border=\"1\" class=\"dataframe\">\n",
       "  <thead>\n",
       "    <tr style=\"text-align: right;\">\n",
       "      <th></th>\n",
       "      <th>Month</th>\n",
       "      <th># Demo Occurred</th>\n",
       "      <th># Sales Qualified Opportunity</th>\n",
       "      <th># Closed Won Opportunity</th>\n",
       "    </tr>\n",
       "  </thead>\n",
       "  <tbody>\n",
       "    <tr>\n",
       "      <th>0</th>\n",
       "      <td>2023-06</td>\n",
       "      <td>3883.8</td>\n",
       "      <td>2242.9</td>\n",
       "      <td>632.5</td>\n",
       "    </tr>\n",
       "    <tr>\n",
       "      <th>1</th>\n",
       "      <td>2023-07</td>\n",
       "      <td>4008.2</td>\n",
       "      <td>1953.4</td>\n",
       "      <td>575.8</td>\n",
       "    </tr>\n",
       "    <tr>\n",
       "      <th>2</th>\n",
       "      <td>2023-08</td>\n",
       "      <td>4017.5</td>\n",
       "      <td>2122.1</td>\n",
       "      <td>458.5</td>\n",
       "    </tr>\n",
       "    <tr>\n",
       "      <th>3</th>\n",
       "      <td>2023-09</td>\n",
       "      <td>3832.6</td>\n",
       "      <td>2070.6</td>\n",
       "      <td>426.1</td>\n",
       "    </tr>\n",
       "    <tr>\n",
       "      <th>4</th>\n",
       "      <td>2023-10</td>\n",
       "      <td>4000.6</td>\n",
       "      <td>2143.1</td>\n",
       "      <td>254.0</td>\n",
       "    </tr>\n",
       "  </tbody>\n",
       "</table>\n",
       "</div>"
      ],
      "text/plain": [
       "     Month  # Demo Occurred  # Sales Qualified Opportunity  \\\n",
       "0  2023-06           3883.8                         2242.9   \n",
       "1  2023-07           4008.2                         1953.4   \n",
       "2  2023-08           4017.5                         2122.1   \n",
       "3  2023-09           3832.6                         2070.6   \n",
       "4  2023-10           4000.6                         2143.1   \n",
       "\n",
       "   # Closed Won Opportunity  \n",
       "0                     632.5  \n",
       "1                     575.8  \n",
       "2                     458.5  \n",
       "3                     426.1  \n",
       "4                     254.0  "
      ]
     },
     "execution_count": 34,
     "metadata": {},
     "output_type": "execute_result"
    }
   ],
   "source": [
    "conversion['Month'] = conversion['Touched Date'].dt.to_period('M')\n",
    "monthly_data = conversion.groupby('Month').agg({\n",
    "    '# Demo Occurred': 'sum',\n",
    "    '# Sales Qualified Opportunity': 'sum',\n",
    "    '# Closed Won Opportunity': 'sum'\n",
    "}).reset_index()\n",
    "monthly_data"
   ]
  },
  {
   "cell_type": "code",
   "execution_count": 35,
   "metadata": {},
   "outputs": [
    {
     "data": {
      "application/vnd.plotly.v1+json": {
       "config": {
        "plotlyServerURL": "https://plot.ly"
       },
       "data": [
        {
         "line": {
          "color": "royalblue"
         },
         "mode": "lines+markers",
         "name": "# Demo Occurred",
         "type": "scatter",
         "x": [
          "2023-06",
          "2023-07",
          "2023-08",
          "2023-09",
          "2023-10"
         ],
         "y": [
          3883.8,
          4008.2,
          4017.5,
          3832.6,
          4000.6
         ]
        },
        {
         "line": {
          "color": "royalblue",
          "dash": "dash"
         },
         "mode": "lines",
         "name": "Avg # Demo Occurred",
         "type": "scatter",
         "x": [
          "2023-06",
          "2023-07",
          "2023-08",
          "2023-09",
          "2023-10"
         ],
         "y": [
          3948.54,
          3948.54,
          3948.54,
          3948.54,
          3948.54
         ]
        },
        {
         "line": {
          "color": "firebrick"
         },
         "mode": "lines+markers",
         "name": "# Sales Qualified Opportunity",
         "type": "scatter",
         "x": [
          "2023-06",
          "2023-07",
          "2023-08",
          "2023-09",
          "2023-10"
         ],
         "y": [
          2242.9,
          1953.4,
          2122.1,
          2070.6,
          2143.1
         ]
        },
        {
         "line": {
          "color": "firebrick",
          "dash": "dash"
         },
         "mode": "lines",
         "name": "Avg # Sales Qualified Opportunity",
         "type": "scatter",
         "x": [
          "2023-06",
          "2023-07",
          "2023-08",
          "2023-09",
          "2023-10"
         ],
         "y": [
          2106.42,
          2106.42,
          2106.42,
          2106.42,
          2106.42
         ]
        },
        {
         "line": {
          "color": "green"
         },
         "mode": "lines+markers",
         "name": "# Closed Won Opportunity",
         "type": "scatter",
         "x": [
          "2023-06",
          "2023-07",
          "2023-08",
          "2023-09",
          "2023-10"
         ],
         "y": [
          632.5,
          575.8,
          458.5,
          426.09999999999997,
          254
         ]
        },
        {
         "line": {
          "color": "green",
          "dash": "dash"
         },
         "mode": "lines",
         "name": "Avg # Closed Won Opportunity",
         "type": "scatter",
         "x": [
          "2023-06",
          "2023-07",
          "2023-08",
          "2023-09",
          "2023-10"
         ],
         "y": [
          469.38,
          469.38,
          469.38,
          469.38,
          469.38
         ]
        }
       ],
       "layout": {
        "annotations": [
         {
          "showarrow": false,
          "text": "3883.80 (-1.64% vs avg)",
          "x": "2023-06",
          "y": 4123.8
         },
         {
          "showarrow": false,
          "text": "4008.20 (1.51% vs avg)",
          "x": "2023-07",
          "y": 4248.2
         },
         {
          "showarrow": false,
          "text": "4017.50 (1.75% vs avg)",
          "x": "2023-08",
          "y": 4257.5
         },
         {
          "showarrow": false,
          "text": "3832.60 (-2.94% vs avg)",
          "x": "2023-09",
          "y": 4072.6
         },
         {
          "showarrow": false,
          "text": "4000.60 (1.32% vs avg)",
          "x": "2023-10",
          "y": 4240.6
         },
         {
          "showarrow": false,
          "text": "2242.90 (6.48% vs avg)",
          "x": "2023-06",
          "y": 2482.9
         },
         {
          "showarrow": false,
          "text": "1953.40 (-7.26% vs avg)",
          "x": "2023-07",
          "y": 2193.4
         },
         {
          "showarrow": false,
          "text": "2122.10 (0.74% vs avg)",
          "x": "2023-08",
          "y": 2362.1
         },
         {
          "showarrow": false,
          "text": "2070.60 (-1.70% vs avg)",
          "x": "2023-09",
          "y": 2310.6
         },
         {
          "showarrow": false,
          "text": "2143.10 (1.74% vs avg)",
          "x": "2023-10",
          "y": 2383.1
         },
         {
          "showarrow": false,
          "text": "632.50 (34.75% vs avg)",
          "x": "2023-06",
          "y": 872.5
         },
         {
          "showarrow": false,
          "text": "575.80 (22.67% vs avg)",
          "x": "2023-07",
          "y": 815.8
         },
         {
          "showarrow": false,
          "text": "458.50 (-2.32% vs avg)",
          "x": "2023-08",
          "y": 698.5
         },
         {
          "showarrow": false,
          "text": "426.10 (-9.22% vs avg)",
          "x": "2023-09",
          "y": 666.0999999999999
         },
         {
          "showarrow": false,
          "text": "254.00 (-45.89% vs avg)",
          "x": "2023-10",
          "y": 494
         }
        ],
        "height": 600,
        "plot_bgcolor": "white",
        "template": {
         "data": {
          "bar": [
           {
            "error_x": {
             "color": "#2a3f5f"
            },
            "error_y": {
             "color": "#2a3f5f"
            },
            "marker": {
             "line": {
              "color": "#E5ECF6",
              "width": 0.5
             },
             "pattern": {
              "fillmode": "overlay",
              "size": 10,
              "solidity": 0.2
             }
            },
            "type": "bar"
           }
          ],
          "barpolar": [
           {
            "marker": {
             "line": {
              "color": "#E5ECF6",
              "width": 0.5
             },
             "pattern": {
              "fillmode": "overlay",
              "size": 10,
              "solidity": 0.2
             }
            },
            "type": "barpolar"
           }
          ],
          "carpet": [
           {
            "aaxis": {
             "endlinecolor": "#2a3f5f",
             "gridcolor": "white",
             "linecolor": "white",
             "minorgridcolor": "white",
             "startlinecolor": "#2a3f5f"
            },
            "baxis": {
             "endlinecolor": "#2a3f5f",
             "gridcolor": "white",
             "linecolor": "white",
             "minorgridcolor": "white",
             "startlinecolor": "#2a3f5f"
            },
            "type": "carpet"
           }
          ],
          "choropleth": [
           {
            "colorbar": {
             "outlinewidth": 0,
             "ticks": ""
            },
            "type": "choropleth"
           }
          ],
          "contour": [
           {
            "colorbar": {
             "outlinewidth": 0,
             "ticks": ""
            },
            "colorscale": [
             [
              0,
              "#0d0887"
             ],
             [
              0.1111111111111111,
              "#46039f"
             ],
             [
              0.2222222222222222,
              "#7201a8"
             ],
             [
              0.3333333333333333,
              "#9c179e"
             ],
             [
              0.4444444444444444,
              "#bd3786"
             ],
             [
              0.5555555555555556,
              "#d8576b"
             ],
             [
              0.6666666666666666,
              "#ed7953"
             ],
             [
              0.7777777777777778,
              "#fb9f3a"
             ],
             [
              0.8888888888888888,
              "#fdca26"
             ],
             [
              1,
              "#f0f921"
             ]
            ],
            "type": "contour"
           }
          ],
          "contourcarpet": [
           {
            "colorbar": {
             "outlinewidth": 0,
             "ticks": ""
            },
            "type": "contourcarpet"
           }
          ],
          "heatmap": [
           {
            "colorbar": {
             "outlinewidth": 0,
             "ticks": ""
            },
            "colorscale": [
             [
              0,
              "#0d0887"
             ],
             [
              0.1111111111111111,
              "#46039f"
             ],
             [
              0.2222222222222222,
              "#7201a8"
             ],
             [
              0.3333333333333333,
              "#9c179e"
             ],
             [
              0.4444444444444444,
              "#bd3786"
             ],
             [
              0.5555555555555556,
              "#d8576b"
             ],
             [
              0.6666666666666666,
              "#ed7953"
             ],
             [
              0.7777777777777778,
              "#fb9f3a"
             ],
             [
              0.8888888888888888,
              "#fdca26"
             ],
             [
              1,
              "#f0f921"
             ]
            ],
            "type": "heatmap"
           }
          ],
          "heatmapgl": [
           {
            "colorbar": {
             "outlinewidth": 0,
             "ticks": ""
            },
            "colorscale": [
             [
              0,
              "#0d0887"
             ],
             [
              0.1111111111111111,
              "#46039f"
             ],
             [
              0.2222222222222222,
              "#7201a8"
             ],
             [
              0.3333333333333333,
              "#9c179e"
             ],
             [
              0.4444444444444444,
              "#bd3786"
             ],
             [
              0.5555555555555556,
              "#d8576b"
             ],
             [
              0.6666666666666666,
              "#ed7953"
             ],
             [
              0.7777777777777778,
              "#fb9f3a"
             ],
             [
              0.8888888888888888,
              "#fdca26"
             ],
             [
              1,
              "#f0f921"
             ]
            ],
            "type": "heatmapgl"
           }
          ],
          "histogram": [
           {
            "marker": {
             "pattern": {
              "fillmode": "overlay",
              "size": 10,
              "solidity": 0.2
             }
            },
            "type": "histogram"
           }
          ],
          "histogram2d": [
           {
            "colorbar": {
             "outlinewidth": 0,
             "ticks": ""
            },
            "colorscale": [
             [
              0,
              "#0d0887"
             ],
             [
              0.1111111111111111,
              "#46039f"
             ],
             [
              0.2222222222222222,
              "#7201a8"
             ],
             [
              0.3333333333333333,
              "#9c179e"
             ],
             [
              0.4444444444444444,
              "#bd3786"
             ],
             [
              0.5555555555555556,
              "#d8576b"
             ],
             [
              0.6666666666666666,
              "#ed7953"
             ],
             [
              0.7777777777777778,
              "#fb9f3a"
             ],
             [
              0.8888888888888888,
              "#fdca26"
             ],
             [
              1,
              "#f0f921"
             ]
            ],
            "type": "histogram2d"
           }
          ],
          "histogram2dcontour": [
           {
            "colorbar": {
             "outlinewidth": 0,
             "ticks": ""
            },
            "colorscale": [
             [
              0,
              "#0d0887"
             ],
             [
              0.1111111111111111,
              "#46039f"
             ],
             [
              0.2222222222222222,
              "#7201a8"
             ],
             [
              0.3333333333333333,
              "#9c179e"
             ],
             [
              0.4444444444444444,
              "#bd3786"
             ],
             [
              0.5555555555555556,
              "#d8576b"
             ],
             [
              0.6666666666666666,
              "#ed7953"
             ],
             [
              0.7777777777777778,
              "#fb9f3a"
             ],
             [
              0.8888888888888888,
              "#fdca26"
             ],
             [
              1,
              "#f0f921"
             ]
            ],
            "type": "histogram2dcontour"
           }
          ],
          "mesh3d": [
           {
            "colorbar": {
             "outlinewidth": 0,
             "ticks": ""
            },
            "type": "mesh3d"
           }
          ],
          "parcoords": [
           {
            "line": {
             "colorbar": {
              "outlinewidth": 0,
              "ticks": ""
             }
            },
            "type": "parcoords"
           }
          ],
          "pie": [
           {
            "automargin": true,
            "type": "pie"
           }
          ],
          "scatter": [
           {
            "fillpattern": {
             "fillmode": "overlay",
             "size": 10,
             "solidity": 0.2
            },
            "type": "scatter"
           }
          ],
          "scatter3d": [
           {
            "line": {
             "colorbar": {
              "outlinewidth": 0,
              "ticks": ""
             }
            },
            "marker": {
             "colorbar": {
              "outlinewidth": 0,
              "ticks": ""
             }
            },
            "type": "scatter3d"
           }
          ],
          "scattercarpet": [
           {
            "marker": {
             "colorbar": {
              "outlinewidth": 0,
              "ticks": ""
             }
            },
            "type": "scattercarpet"
           }
          ],
          "scattergeo": [
           {
            "marker": {
             "colorbar": {
              "outlinewidth": 0,
              "ticks": ""
             }
            },
            "type": "scattergeo"
           }
          ],
          "scattergl": [
           {
            "marker": {
             "colorbar": {
              "outlinewidth": 0,
              "ticks": ""
             }
            },
            "type": "scattergl"
           }
          ],
          "scattermapbox": [
           {
            "marker": {
             "colorbar": {
              "outlinewidth": 0,
              "ticks": ""
             }
            },
            "type": "scattermapbox"
           }
          ],
          "scatterpolar": [
           {
            "marker": {
             "colorbar": {
              "outlinewidth": 0,
              "ticks": ""
             }
            },
            "type": "scatterpolar"
           }
          ],
          "scatterpolargl": [
           {
            "marker": {
             "colorbar": {
              "outlinewidth": 0,
              "ticks": ""
             }
            },
            "type": "scatterpolargl"
           }
          ],
          "scatterternary": [
           {
            "marker": {
             "colorbar": {
              "outlinewidth": 0,
              "ticks": ""
             }
            },
            "type": "scatterternary"
           }
          ],
          "surface": [
           {
            "colorbar": {
             "outlinewidth": 0,
             "ticks": ""
            },
            "colorscale": [
             [
              0,
              "#0d0887"
             ],
             [
              0.1111111111111111,
              "#46039f"
             ],
             [
              0.2222222222222222,
              "#7201a8"
             ],
             [
              0.3333333333333333,
              "#9c179e"
             ],
             [
              0.4444444444444444,
              "#bd3786"
             ],
             [
              0.5555555555555556,
              "#d8576b"
             ],
             [
              0.6666666666666666,
              "#ed7953"
             ],
             [
              0.7777777777777778,
              "#fb9f3a"
             ],
             [
              0.8888888888888888,
              "#fdca26"
             ],
             [
              1,
              "#f0f921"
             ]
            ],
            "type": "surface"
           }
          ],
          "table": [
           {
            "cells": {
             "fill": {
              "color": "#EBF0F8"
             },
             "line": {
              "color": "white"
             }
            },
            "header": {
             "fill": {
              "color": "#C8D4E3"
             },
             "line": {
              "color": "white"
             }
            },
            "type": "table"
           }
          ]
         },
         "layout": {
          "annotationdefaults": {
           "arrowcolor": "#2a3f5f",
           "arrowhead": 0,
           "arrowwidth": 1
          },
          "autotypenumbers": "strict",
          "coloraxis": {
           "colorbar": {
            "outlinewidth": 0,
            "ticks": ""
           }
          },
          "colorscale": {
           "diverging": [
            [
             0,
             "#8e0152"
            ],
            [
             0.1,
             "#c51b7d"
            ],
            [
             0.2,
             "#de77ae"
            ],
            [
             0.3,
             "#f1b6da"
            ],
            [
             0.4,
             "#fde0ef"
            ],
            [
             0.5,
             "#f7f7f7"
            ],
            [
             0.6,
             "#e6f5d0"
            ],
            [
             0.7,
             "#b8e186"
            ],
            [
             0.8,
             "#7fbc41"
            ],
            [
             0.9,
             "#4d9221"
            ],
            [
             1,
             "#276419"
            ]
           ],
           "sequential": [
            [
             0,
             "#0d0887"
            ],
            [
             0.1111111111111111,
             "#46039f"
            ],
            [
             0.2222222222222222,
             "#7201a8"
            ],
            [
             0.3333333333333333,
             "#9c179e"
            ],
            [
             0.4444444444444444,
             "#bd3786"
            ],
            [
             0.5555555555555556,
             "#d8576b"
            ],
            [
             0.6666666666666666,
             "#ed7953"
            ],
            [
             0.7777777777777778,
             "#fb9f3a"
            ],
            [
             0.8888888888888888,
             "#fdca26"
            ],
            [
             1,
             "#f0f921"
            ]
           ],
           "sequentialminus": [
            [
             0,
             "#0d0887"
            ],
            [
             0.1111111111111111,
             "#46039f"
            ],
            [
             0.2222222222222222,
             "#7201a8"
            ],
            [
             0.3333333333333333,
             "#9c179e"
            ],
            [
             0.4444444444444444,
             "#bd3786"
            ],
            [
             0.5555555555555556,
             "#d8576b"
            ],
            [
             0.6666666666666666,
             "#ed7953"
            ],
            [
             0.7777777777777778,
             "#fb9f3a"
            ],
            [
             0.8888888888888888,
             "#fdca26"
            ],
            [
             1,
             "#f0f921"
            ]
           ]
          },
          "colorway": [
           "#636efa",
           "#EF553B",
           "#00cc96",
           "#ab63fa",
           "#FFA15A",
           "#19d3f3",
           "#FF6692",
           "#B6E880",
           "#FF97FF",
           "#FECB52"
          ],
          "font": {
           "color": "#2a3f5f"
          },
          "geo": {
           "bgcolor": "white",
           "lakecolor": "white",
           "landcolor": "#E5ECF6",
           "showlakes": true,
           "showland": true,
           "subunitcolor": "white"
          },
          "hoverlabel": {
           "align": "left"
          },
          "hovermode": "closest",
          "mapbox": {
           "style": "light"
          },
          "paper_bgcolor": "white",
          "plot_bgcolor": "#E5ECF6",
          "polar": {
           "angularaxis": {
            "gridcolor": "white",
            "linecolor": "white",
            "ticks": ""
           },
           "bgcolor": "#E5ECF6",
           "radialaxis": {
            "gridcolor": "white",
            "linecolor": "white",
            "ticks": ""
           }
          },
          "scene": {
           "xaxis": {
            "backgroundcolor": "#E5ECF6",
            "gridcolor": "white",
            "gridwidth": 2,
            "linecolor": "white",
            "showbackground": true,
            "ticks": "",
            "zerolinecolor": "white"
           },
           "yaxis": {
            "backgroundcolor": "#E5ECF6",
            "gridcolor": "white",
            "gridwidth": 2,
            "linecolor": "white",
            "showbackground": true,
            "ticks": "",
            "zerolinecolor": "white"
           },
           "zaxis": {
            "backgroundcolor": "#E5ECF6",
            "gridcolor": "white",
            "gridwidth": 2,
            "linecolor": "white",
            "showbackground": true,
            "ticks": "",
            "zerolinecolor": "white"
           }
          },
          "shapedefaults": {
           "line": {
            "color": "#2a3f5f"
           }
          },
          "ternary": {
           "aaxis": {
            "gridcolor": "white",
            "linecolor": "white",
            "ticks": ""
           },
           "baxis": {
            "gridcolor": "white",
            "linecolor": "white",
            "ticks": ""
           },
           "bgcolor": "#E5ECF6",
           "caxis": {
            "gridcolor": "white",
            "linecolor": "white",
            "ticks": ""
           }
          },
          "title": {
           "x": 0.05
          },
          "xaxis": {
           "automargin": true,
           "gridcolor": "white",
           "linecolor": "white",
           "ticks": "",
           "title": {
            "standoff": 15
           },
           "zerolinecolor": "white",
           "zerolinewidth": 2
          },
          "yaxis": {
           "automargin": true,
           "gridcolor": "white",
           "linecolor": "white",
           "ticks": "",
           "title": {
            "standoff": 15
           },
           "zerolinecolor": "white",
           "zerolinewidth": 2
          }
         }
        },
        "title": {
         "text": "Monthly Trends of Conversion Metrics"
        },
        "width": 1300,
        "xaxis": {
         "title": {
          "text": "Months"
         }
        },
        "yaxis": {
         "title": {
          "text": "Metric Values"
         }
        }
       }
      }
     },
     "metadata": {},
     "output_type": "display_data"
    }
   ],
   "source": [
    " \n",
    "# Conversion to datetime and extracting the month\n",
    "conversion['Touched Date'] = pd.to_datetime(conversion['Touched Date'])\n",
    "conversion['Month'] = conversion['Touched Date'].dt.to_period('M')\n",
    "\n",
    "# Monthly aggregation\n",
    "monthly_data = conversion.groupby('Month').agg({\n",
    "    '# Demo Occurred': 'sum',\n",
    "    '# Sales Qualified Opportunity': 'sum',\n",
    "    '# Closed Won Opportunity': 'sum'\n",
    "}).reset_index()\n",
    "\n",
    "# Calculating averages\n",
    "avg_demo = monthly_data['# Demo Occurred'].mean()\n",
    "avg_sqo = monthly_data['# Sales Qualified Opportunity'].mean()\n",
    "avg_cwo = monthly_data['# Closed Won Opportunity'].mean()\n",
    "\n",
    "# Calculating percent differences\n",
    "monthly_data['Demo % Diff'] = ((monthly_data['# Demo Occurred'] / avg_demo) - 1) * 100\n",
    "monthly_data['SQO % Diff'] = ((monthly_data['# Sales Qualified Opportunity'] / avg_sqo) - 1) * 100\n",
    "monthly_data['CWO % Diff'] = ((monthly_data['# Closed Won Opportunity'] / avg_cwo) - 1) * 100\n",
    "\n",
    "# Preparing data for plotting\n",
    "months = monthly_data['Month'].astype(str).tolist()\n",
    "demo_values = monthly_data['# Demo Occurred'].tolist()\n",
    "sqo_values = monthly_data['# Sales Qualified Opportunity'].tolist()\n",
    "cwo_values = monthly_data['# Closed Won Opportunity'].tolist()\n",
    "demo_diff = monthly_data['Demo % Diff'].tolist()\n",
    "sqo_diff = monthly_data['SQO % Diff'].tolist()\n",
    "cwo_diff = monthly_data['CWO % Diff'].tolist()\n",
    "\n",
    "# Creating the figure and adding traces\n",
    "fig = go.Figure()  \n",
    "fig.add_trace(go.Scatter(x=months, y=demo_values,\n",
    "                         mode='lines+markers',\n",
    "                         name='# Demo Occurred',\n",
    "                         line=dict(color='royalblue')))\n",
    "\n",
    "fig.add_trace(go.Scatter(x=months, y=[avg_demo] * len(months),\n",
    "                         mode='lines',\n",
    "                         name='Avg # Demo Occurred',\n",
    "                         line=dict(color='royalblue', dash='dash')))\n",
    "\n",
    "for i, (month, demo_val, demo_d) in enumerate(zip(months, demo_values, demo_diff)):\n",
    "    fig.add_annotation(x=month, y=demo_val + 240,\n",
    "                       text=f\"{demo_val:.2f} ({demo_d:.2f}% vs avg)\",\n",
    "                       showarrow=False)\n",
    "\n",
    "fig.add_trace(go.Scatter(x=months, y=sqo_values,\n",
    "                         mode='lines+markers',\n",
    "                         name='# Sales Qualified Opportunity',\n",
    "                         line=dict(color='firebrick')))\n",
    "\n",
    "fig.add_trace(go.Scatter(x=months, y=[avg_sqo] * len(months),\n",
    "                         mode='lines',\n",
    "                         name='Avg # Sales Qualified Opportunity',\n",
    "                         line=dict(color='firebrick', dash='dash')))\n",
    "\n",
    "for i, (month, sqo_val, sqo_d) in enumerate(zip(months, sqo_values, sqo_diff)):\n",
    "    fig.add_annotation(x=month, y=sqo_val + 240,\n",
    "                       text=f\"{sqo_val:.2f} ({sqo_d:.2f}% vs avg)\",\n",
    "                       showarrow=False)\n",
    "\n",
    "fig.add_trace(go.Scatter(x=months, y=cwo_values,\n",
    "                         mode='lines+markers',\n",
    "                         name='# Closed Won Opportunity',\n",
    "                         line=dict(color='green')))\n",
    "\n",
    "fig.add_trace(go.Scatter(x=months, y=[avg_cwo] * len(months),\n",
    "                         mode='lines',\n",
    "                         name='Avg # Closed Won Opportunity',\n",
    "                         line=dict(color='green', dash='dash')))\n",
    "\n",
    "for i, (month, cwo_val, cwo_d) in enumerate(zip(months, cwo_values, cwo_diff)):\n",
    "    fig.add_annotation(x=month, y=cwo_val + 240,\n",
    "                       text=f\"{cwo_val:.2f} ({cwo_d:.2f}% vs avg)\",\n",
    "                       showarrow=False)\n",
    " \n",
    "fig.update_layout(title='Monthly Trends of Conversion Metrics',\n",
    "                  xaxis_title='Months',\n",
    "                  yaxis_title='Metric Values',\n",
    "                  plot_bgcolor='white',\n",
    "                  height=600,\n",
    "                  width=1300)   \n",
    "fig.show()\n"
   ]
  },
  {
   "cell_type": "markdown",
   "metadata": {},
   "source": [
    ">__Demo Occurrences__: This metric shows good stability (small variability vs average), indicating a consistency on the initial engagement.\n",
    "\n",
    ">__Sales Qualified Opportunities__: Similar to Demo Occurrences.\n",
    "\n",
    ">__Closed Won Opportunities__: There's a noticeable decline trend. Specially in the last months. More information should be dig to find out why and where the decline is happening."
   ]
  },
  {
   "cell_type": "markdown",
   "metadata": {},
   "source": [
    "## Funnel"
   ]
  },
  {
   "cell_type": "code",
   "execution_count": 36,
   "metadata": {},
   "outputs": [
    {
     "name": "stdout",
     "output_type": "stream",
     "text": [
      "     Month  # Demo Occurred  # Sales Qualified Opportunity  \\\n",
      "0  2023-06           3883.8                         2242.9   \n",
      "1  2023-07           4008.2                         1953.4   \n",
      "2  2023-08           4017.5                         2122.1   \n",
      "3  2023-09           3832.6                         2070.6   \n",
      "4  2023-10           4000.6                         2143.1   \n",
      "\n",
      "   # Closed Won Opportunity  Demo % Diff  SQO % Diff  CWO % Diff  \n",
      "0                     632.5    -1.639593    6.479240   34.752226  \n",
      "1                     575.8     1.510938   -7.264458   22.672462  \n",
      "2                     458.5     1.746468    0.744391   -2.317951  \n",
      "3                     426.1    -2.936275   -1.700516   -9.220674  \n",
      "4                     254.0     1.318462    1.741343  -45.886062  \n"
     ]
    }
   ],
   "source": [
    "print(monthly_data)"
   ]
  },
  {
   "cell_type": "code",
   "execution_count": 37,
   "metadata": {},
   "outputs": [
    {
     "data": {
      "image/png": "[encoded data removed]",
      "text/plain": [
       "<Figure size 1500x500 with 5 Axes>"
      ]
     },
     "metadata": {},
     "output_type": "display_data"
    }
   ],
   "source": [
    "# Extracting data from DataFrame\n",
    "months = monthly_data['Month'].tolist()\n",
    "demo_occurred = monthly_data['# Demo Occurred'].tolist()\n",
    "sales_qualified_opportunity = monthly_data['# Sales Qualified Opportunity'].tolist()\n",
    "closed_won_opportunity = monthly_data['# Closed Won Opportunity'].tolist()\n",
    "\n",
    "fig, axes = plt.subplots(1, 5, figsize=(15, 5), sharey=True)\n",
    "\n",
    "# Titles for each subplot\n",
    "axes[0].set_ylabel('Stages')\n",
    "\n",
    "# Plotting each month as a separate funnel\n",
    "for i, ax in enumerate(axes):\n",
    "    stages = ['Demo Occurred', 'Sales Qualified', 'Closed Won']\n",
    "    values = [demo_occurred[i], sales_qualified_opportunity[i], closed_won_opportunity[i]]\n",
    "    ax.invert_yaxis()  # Invert y axis to have the funnel look\n",
    "    ax.barh(stages, values, color=['#1f77b4', '#ff7f0e', '#2ca02c'])\n",
    "    ax.set_title(months[i])\n",
    "    for j, value in enumerate(values):\n",
    "        ax.text(value, j, f'{value:.1f}', va='center', ha='right', color='black', fontsize=8)\n",
    "\n",
    "plt.tight_layout()\n",
    "plt.show()"
   ]
  },
  {
   "cell_type": "code",
   "execution_count": 38,
   "metadata": {},
   "outputs": [
    {
     "data": {
      "application/vnd.plotly.v1+json": {
       "config": {
        "plotlyServerURL": "https://plot.ly"
       },
       "data": [
        {
         "name": "2023-06",
         "textfont": {
          "size": 16
         },
         "textinfo": "value+percent initial",
         "type": "funnel",
         "x": [
          3883.8,
          2242.9,
          632.5
         ],
         "y": [
          "# Demo Occurred",
          "# Sales Qualified Opportunity",
          "# Closed Won Opportunity"
         ]
        },
        {
         "name": "2023-07",
         "textfont": {
          "size": 16
         },
         "textinfo": "value+percent initial",
         "type": "funnel",
         "x": [
          4008.2,
          1953.4,
          575.8
         ],
         "y": [
          "# Demo Occurred",
          "# Sales Qualified Opportunity",
          "# Closed Won Opportunity"
         ]
        },
        {
         "name": "2023-08",
         "textfont": {
          "size": 16
         },
         "textinfo": "value+percent initial",
         "type": "funnel",
         "x": [
          4017.5,
          2122.1,
          458.5
         ],
         "y": [
          "# Demo Occurred",
          "# Sales Qualified Opportunity",
          "# Closed Won Opportunity"
         ]
        },
        {
         "name": "2023-09",
         "textfont": {
          "size": 16
         },
         "textinfo": "value+percent initial",
         "type": "funnel",
         "x": [
          3832.6,
          2070.6,
          426.09999999999997
         ],
         "y": [
          "# Demo Occurred",
          "# Sales Qualified Opportunity",
          "# Closed Won Opportunity"
         ]
        },
        {
         "name": "2023-10",
         "textfont": {
          "size": 16
         },
         "textinfo": "value+percent initial",
         "type": "funnel",
         "x": [
          4000.6,
          2143.1,
          254
         ],
         "y": [
          "# Demo Occurred",
          "# Sales Qualified Opportunity",
          "# Closed Won Opportunity"
         ]
        }
       ],
       "layout": {
        "height": 500,
        "template": {
         "data": {
          "bar": [
           {
            "error_x": {
             "color": "#2a3f5f"
            },
            "error_y": {
             "color": "#2a3f5f"
            },
            "marker": {
             "line": {
              "color": "#E5ECF6",
              "width": 0.5
             },
             "pattern": {
              "fillmode": "overlay",
              "size": 10,
              "solidity": 0.2
             }
            },
            "type": "bar"
           }
          ],
          "barpolar": [
           {
            "marker": {
             "line": {
              "color": "#E5ECF6",
              "width": 0.5
             },
             "pattern": {
              "fillmode": "overlay",
              "size": 10,
              "solidity": 0.2
             }
            },
            "type": "barpolar"
           }
          ],
          "carpet": [
           {
            "aaxis": {
             "endlinecolor": "#2a3f5f",
             "gridcolor": "white",
             "linecolor": "white",
             "minorgridcolor": "white",
             "startlinecolor": "#2a3f5f"
            },
            "baxis": {
             "endlinecolor": "#2a3f5f",
             "gridcolor": "white",
             "linecolor": "white",
             "minorgridcolor": "white",
             "startlinecolor": "#2a3f5f"
            },
            "type": "carpet"
           }
          ],
          "choropleth": [
           {
            "colorbar": {
             "outlinewidth": 0,
             "ticks": ""
            },
            "type": "choropleth"
           }
          ],
          "contour": [
           {
            "colorbar": {
             "outlinewidth": 0,
             "ticks": ""
            },
            "colorscale": [
             [
              0,
              "#0d0887"
             ],
             [
              0.1111111111111111,
              "#46039f"
             ],
             [
              0.2222222222222222,
              "#7201a8"
             ],
             [
              0.3333333333333333,
              "#9c179e"
             ],
             [
              0.4444444444444444,
              "#bd3786"
             ],
             [
              0.5555555555555556,
              "#d8576b"
             ],
             [
              0.6666666666666666,
              "#ed7953"
             ],
             [
              0.7777777777777778,
              "#fb9f3a"
             ],
             [
              0.8888888888888888,
              "#fdca26"
             ],
             [
              1,
              "#f0f921"
             ]
            ],
            "type": "contour"
           }
          ],
          "contourcarpet": [
           {
            "colorbar": {
             "outlinewidth": 0,
             "ticks": ""
            },
            "type": "contourcarpet"
           }
          ],
          "heatmap": [
           {
            "colorbar": {
             "outlinewidth": 0,
             "ticks": ""
            },
            "colorscale": [
             [
              0,
              "#0d0887"
             ],
             [
              0.1111111111111111,
              "#46039f"
             ],
             [
              0.2222222222222222,
              "#7201a8"
             ],
             [
              0.3333333333333333,
              "#9c179e"
             ],
             [
              0.4444444444444444,
              "#bd3786"
             ],
             [
              0.5555555555555556,
              "#d8576b"
             ],
             [
              0.6666666666666666,
              "#ed7953"
             ],
             [
              0.7777777777777778,
              "#fb9f3a"
             ],
             [
              0.8888888888888888,
              "#fdca26"
             ],
             [
              1,
              "#f0f921"
             ]
            ],
            "type": "heatmap"
           }
          ],
          "heatmapgl": [
           {
            "colorbar": {
             "outlinewidth": 0,
             "ticks": ""
            },
            "colorscale": [
             [
              0,
              "#0d0887"
             ],
             [
              0.1111111111111111,
              "#46039f"
             ],
             [
              0.2222222222222222,
              "#7201a8"
             ],
             [
              0.3333333333333333,
              "#9c179e"
             ],
             [
              0.4444444444444444,
              "#bd3786"
             ],
             [
              0.5555555555555556,
              "#d8576b"
             ],
             [
              0.6666666666666666,
              "#ed7953"
             ],
             [
              0.7777777777777778,
              "#fb9f3a"
             ],
             [
              0.8888888888888888,
              "#fdca26"
             ],
             [
              1,
              "#f0f921"
             ]
            ],
            "type": "heatmapgl"
           }
          ],
          "histogram": [
           {
            "marker": {
             "pattern": {
              "fillmode": "overlay",
              "size": 10,
              "solidity": 0.2
             }
            },
            "type": "histogram"
           }
          ],
          "histogram2d": [
           {
            "colorbar": {
             "outlinewidth": 0,
             "ticks": ""
            },
            "colorscale": [
             [
              0,
              "#0d0887"
             ],
             [
              0.1111111111111111,
              "#46039f"
             ],
             [
              0.2222222222222222,
              "#7201a8"
             ],
             [
              0.3333333333333333,
              "#9c179e"
             ],
             [
              0.4444444444444444,
              "#bd3786"
             ],
             [
              0.5555555555555556,
              "#d8576b"
             ],
             [
              0.6666666666666666,
              "#ed7953"
             ],
             [
              0.7777777777777778,
              "#fb9f3a"
             ],
             [
              0.8888888888888888,
              "#fdca26"
             ],
             [
              1,
              "#f0f921"
             ]
            ],
            "type": "histogram2d"
           }
          ],
          "histogram2dcontour": [
           {
            "colorbar": {
             "outlinewidth": 0,
             "ticks": ""
            },
            "colorscale": [
             [
              0,
              "#0d0887"
             ],
             [
              0.1111111111111111,
              "#46039f"
             ],
             [
              0.2222222222222222,
              "#7201a8"
             ],
             [
              0.3333333333333333,
              "#9c179e"
             ],
             [
              0.4444444444444444,
              "#bd3786"
             ],
             [
              0.5555555555555556,
              "#d8576b"
             ],
             [
              0.6666666666666666,
              "#ed7953"
             ],
             [
              0.7777777777777778,
              "#fb9f3a"
             ],
             [
              0.8888888888888888,
              "#fdca26"
             ],
             [
              1,
              "#f0f921"
             ]
            ],
            "type": "histogram2dcontour"
           }
          ],
          "mesh3d": [
           {
            "colorbar": {
             "outlinewidth": 0,
             "ticks": ""
            },
            "type": "mesh3d"
           }
          ],
          "parcoords": [
           {
            "line": {
             "colorbar": {
              "outlinewidth": 0,
              "ticks": ""
             }
            },
            "type": "parcoords"
           }
          ],
          "pie": [
           {
            "automargin": true,
            "type": "pie"
           }
          ],
          "scatter": [
           {
            "fillpattern": {
             "fillmode": "overlay",
             "size": 10,
             "solidity": 0.2
            },
            "type": "scatter"
           }
          ],
          "scatter3d": [
           {
            "line": {
             "colorbar": {
              "outlinewidth": 0,
              "ticks": ""
             }
            },
            "marker": {
             "colorbar": {
              "outlinewidth": 0,
              "ticks": ""
             }
            },
            "type": "scatter3d"
           }
          ],
          "scattercarpet": [
           {
            "marker": {
             "colorbar": {
              "outlinewidth": 0,
              "ticks": ""
             }
            },
            "type": "scattercarpet"
           }
          ],
          "scattergeo": [
           {
            "marker": {
             "colorbar": {
              "outlinewidth": 0,
              "ticks": ""
             }
            },
            "type": "scattergeo"
           }
          ],
          "scattergl": [
           {
            "marker": {
             "colorbar": {
              "outlinewidth": 0,
              "ticks": ""
             }
            },
            "type": "scattergl"
           }
          ],
          "scattermapbox": [
           {
            "marker": {
             "colorbar": {
              "outlinewidth": 0,
              "ticks": ""
             }
            },
            "type": "scattermapbox"
           }
          ],
          "scatterpolar": [
           {
            "marker": {
             "colorbar": {
              "outlinewidth": 0,
              "ticks": ""
             }
            },
            "type": "scatterpolar"
           }
          ],
          "scatterpolargl": [
           {
            "marker": {
             "colorbar": {
              "outlinewidth": 0,
              "ticks": ""
             }
            },
            "type": "scatterpolargl"
           }
          ],
          "scatterternary": [
           {
            "marker": {
             "colorbar": {
              "outlinewidth": 0,
              "ticks": ""
             }
            },
            "type": "scatterternary"
           }
          ],
          "surface": [
           {
            "colorbar": {
             "outlinewidth": 0,
             "ticks": ""
            },
            "colorscale": [
             [
              0,
              "#0d0887"
             ],
             [
              0.1111111111111111,
              "#46039f"
             ],
             [
              0.2222222222222222,
              "#7201a8"
             ],
             [
              0.3333333333333333,
              "#9c179e"
             ],
             [
              0.4444444444444444,
              "#bd3786"
             ],
             [
              0.5555555555555556,
              "#d8576b"
             ],
             [
              0.6666666666666666,
              "#ed7953"
             ],
             [
              0.7777777777777778,
              "#fb9f3a"
             ],
             [
              0.8888888888888888,
              "#fdca26"
             ],
             [
              1,
              "#f0f921"
             ]
            ],
            "type": "surface"
           }
          ],
          "table": [
           {
            "cells": {
             "fill": {
              "color": "#EBF0F8"
             },
             "line": {
              "color": "white"
             }
            },
            "header": {
             "fill": {
              "color": "#C8D4E3"
             },
             "line": {
              "color": "white"
             }
            },
            "type": "table"
           }
          ]
         },
         "layout": {
          "annotationdefaults": {
           "arrowcolor": "#2a3f5f",
           "arrowhead": 0,
           "arrowwidth": 1
          },
          "autotypenumbers": "strict",
          "coloraxis": {
           "colorbar": {
            "outlinewidth": 0,
            "ticks": ""
           }
          },
          "colorscale": {
           "diverging": [
            [
             0,
             "#8e0152"
            ],
            [
             0.1,
             "#c51b7d"
            ],
            [
             0.2,
             "#de77ae"
            ],
            [
             0.3,
             "#f1b6da"
            ],
            [
             0.4,
             "#fde0ef"
            ],
            [
             0.5,
             "#f7f7f7"
            ],
            [
             0.6,
             "#e6f5d0"
            ],
            [
             0.7,
             "#b8e186"
            ],
            [
             0.8,
             "#7fbc41"
            ],
            [
             0.9,
             "#4d9221"
            ],
            [
             1,
             "#276419"
            ]
           ],
           "sequential": [
            [
             0,
             "#0d0887"
            ],
            [
             0.1111111111111111,
             "#46039f"
            ],
            [
             0.2222222222222222,
             "#7201a8"
            ],
            [
             0.3333333333333333,
             "#9c179e"
            ],
            [
             0.4444444444444444,
             "#bd3786"
            ],
            [
             0.5555555555555556,
             "#d8576b"
            ],
            [
             0.6666666666666666,
             "#ed7953"
            ],
            [
             0.7777777777777778,
             "#fb9f3a"
            ],
            [
             0.8888888888888888,
             "#fdca26"
            ],
            [
             1,
             "#f0f921"
            ]
           ],
           "sequentialminus": [
            [
             0,
             "#0d0887"
            ],
            [
             0.1111111111111111,
             "#46039f"
            ],
            [
             0.2222222222222222,
             "#7201a8"
            ],
            [
             0.3333333333333333,
             "#9c179e"
            ],
            [
             0.4444444444444444,
             "#bd3786"
            ],
            [
             0.5555555555555556,
             "#d8576b"
            ],
            [
             0.6666666666666666,
             "#ed7953"
            ],
            [
             0.7777777777777778,
             "#fb9f3a"
            ],
            [
             0.8888888888888888,
             "#fdca26"
            ],
            [
             1,
             "#f0f921"
            ]
           ]
          },
          "colorway": [
           "#636efa",
           "#EF553B",
           "#00cc96",
           "#ab63fa",
           "#FFA15A",
           "#19d3f3",
           "#FF6692",
           "#B6E880",
           "#FF97FF",
           "#FECB52"
          ],
          "font": {
           "color": "#2a3f5f"
          },
          "geo": {
           "bgcolor": "white",
           "lakecolor": "white",
           "landcolor": "#E5ECF6",
           "showlakes": true,
           "showland": true,
           "subunitcolor": "white"
          },
          "hoverlabel": {
           "align": "left"
          },
          "hovermode": "closest",
          "mapbox": {
           "style": "light"
          },
          "paper_bgcolor": "white",
          "plot_bgcolor": "#E5ECF6",
          "polar": {
           "angularaxis": {
            "gridcolor": "white",
            "linecolor": "white",
            "ticks": ""
           },
           "bgcolor": "#E5ECF6",
           "radialaxis": {
            "gridcolor": "white",
            "linecolor": "white",
            "ticks": ""
           }
          },
          "scene": {
           "xaxis": {
            "backgroundcolor": "#E5ECF6",
            "gridcolor": "white",
            "gridwidth": 2,
            "linecolor": "white",
            "showbackground": true,
            "ticks": "",
            "zerolinecolor": "white"
           },
           "yaxis": {
            "backgroundcolor": "#E5ECF6",
            "gridcolor": "white",
            "gridwidth": 2,
            "linecolor": "white",
            "showbackground": true,
            "ticks": "",
            "zerolinecolor": "white"
           },
           "zaxis": {
            "backgroundcolor": "#E5ECF6",
            "gridcolor": "white",
            "gridwidth": 2,
            "linecolor": "white",
            "showbackground": true,
            "ticks": "",
            "zerolinecolor": "white"
           }
          },
          "shapedefaults": {
           "line": {
            "color": "#2a3f5f"
           }
          },
          "ternary": {
           "aaxis": {
            "gridcolor": "white",
            "linecolor": "white",
            "ticks": ""
           },
           "baxis": {
            "gridcolor": "white",
            "linecolor": "white",
            "ticks": ""
           },
           "bgcolor": "#E5ECF6",
           "caxis": {
            "gridcolor": "white",
            "linecolor": "white",
            "ticks": ""
           }
          },
          "title": {
           "x": 0.05
          },
          "xaxis": {
           "automargin": true,
           "gridcolor": "white",
           "linecolor": "white",
           "ticks": "",
           "title": {
            "standoff": 15
           },
           "zerolinecolor": "white",
           "zerolinewidth": 2
          },
          "yaxis": {
           "automargin": true,
           "gridcolor": "white",
           "linecolor": "white",
           "ticks": "",
           "title": {
            "standoff": 15
           },
           "zerolinecolor": "white",
           "zerolinewidth": 2
          }
         }
        },
        "width": 1500
       }
      }
     },
     "metadata": {},
     "output_type": "display_data"
    }
   ],
   "source": [
    "# Prepare data for funnel chart - assuming the funnel follows: # Demo Occurred -> # Sales Qualified Opportunity -> # Closed Won Opportunity\n",
    "funnel_stages = ['# Demo Occurred', '# Sales Qualified Opportunity', '# Closed Won Opportunity']\n",
    "\n",
    "# Convert 'Month' column to string type\n",
    "monthly_data['Month'] = monthly_data['Month'].astype(str)\n",
    "\n",
    "# Extract unique months\n",
    "months = monthly_data['Month'].unique().tolist()\n",
    "\n",
    "fig = go.Figure()\n",
    "for month_name in months:\n",
    "    month_data = monthly_data[monthly_data['Month'] == month_name]\n",
    "    x_values = [month_data[stage].values[0] for stage in funnel_stages]\n",
    "    fig.add_trace(go.Funnel(\n",
    "        name=month_name,\n",
    "        y=funnel_stages,\n",
    "        x=x_values,\n",
    "        textfont = {'size': 16},\n",
    "         \n",
    "        textinfo=\"value+percent initial\"))\n",
    "fig.update_layout(height=500,\n",
    "                  width=1500) \n",
    "fig.show()"
   ]
  },
  {
   "cell_type": "markdown",
   "metadata": {},
   "source": [
    "> Here we can clearly see the proportion decline in the last step (Closed Won Opportunity), it has diminish to less than half of the usual values which are around 11-16% to 6%."
   ]
  },
  {
   "cell_type": "markdown",
   "metadata": {},
   "source": [
    "### By  Weekday level"
   ]
  },
  {
   "cell_type": "code",
   "execution_count": 39,
   "metadata": {},
   "outputs": [
    {
     "data": {
      "text/html": [
       "<div>\n",
       "<style scoped>\n",
       "    .dataframe tbody tr th:only-of-type {\n",
       "        vertical-align: middle;\n",
       "    }\n",
       "\n",
       "    .dataframe tbody tr th {\n",
       "        vertical-align: top;\n",
       "    }\n",
       "\n",
       "    .dataframe thead th {\n",
       "        text-align: right;\n",
       "    }\n",
       "</style>\n",
       "<table border=\"1\" class=\"dataframe\">\n",
       "  <thead>\n",
       "    <tr style=\"text-align: right;\">\n",
       "      <th></th>\n",
       "      <th>Touched Date</th>\n",
       "      <th>Utm Medium</th>\n",
       "      <th>Utm Source</th>\n",
       "      <th>Utm Campaign</th>\n",
       "      <th># Demo Occurred</th>\n",
       "      <th># Sales Qualified Opportunity</th>\n",
       "      <th># Closed Won Opportunity</th>\n",
       "      <th>Month</th>\n",
       "      <th>Weekday</th>\n",
       "    </tr>\n",
       "  </thead>\n",
       "  <tbody>\n",
       "    <tr>\n",
       "      <th>0</th>\n",
       "      <td>2023-10-29</td>\n",
       "      <td>paid-search</td>\n",
       "      <td>google</td>\n",
       "      <td>nam-t1_acq_searchnonbranded_google_search_coun...</td>\n",
       "      <td>2.5</td>\n",
       "      <td>0.0</td>\n",
       "      <td>0.0</td>\n",
       "      <td>2023-10</td>\n",
       "      <td>Sunday</td>\n",
       "    </tr>\n",
       "    <tr>\n",
       "      <th>1</th>\n",
       "      <td>2023-10-29</td>\n",
       "      <td>paid-listicle</td>\n",
       "      <td>peoplemanagingpeople</td>\n",
       "      <td>ww_acq_prosp_pmp_paidlist_cadpayroll-pmp-__all</td>\n",
       "      <td>2.5</td>\n",
       "      <td>2.5</td>\n",
       "      <td>0.0</td>\n",
       "      <td>2023-10</td>\n",
       "      <td>Sunday</td>\n",
       "    </tr>\n",
       "    <tr>\n",
       "      <th>2</th>\n",
       "      <td>2023-10-29</td>\n",
       "      <td>paid-social</td>\n",
       "      <td>facebook</td>\n",
       "      <td>nam-t1_consider_calculate_fb_image_all-reengag...</td>\n",
       "      <td>2.4</td>\n",
       "      <td>0.0</td>\n",
       "      <td>0.0</td>\n",
       "      <td>2023-10</td>\n",
       "      <td>Sunday</td>\n",
       "    </tr>\n",
       "    <tr>\n",
       "      <th>3</th>\n",
       "      <td>2023-10-29</td>\n",
       "      <td>paid-search</td>\n",
       "      <td>google</td>\n",
       "      <td>emea-t1a_acq_searchnonbranded_google_search_pa...</td>\n",
       "      <td>0.0</td>\n",
       "      <td>0.0</td>\n",
       "      <td>0.0</td>\n",
       "      <td>2023-10</td>\n",
       "      <td>Sunday</td>\n",
       "    </tr>\n",
       "    <tr>\n",
       "      <th>4</th>\n",
       "      <td>2023-10-29</td>\n",
       "      <td>sponsored-newsletter</td>\n",
       "      <td>hrci</td>\n",
       "      <td>ww_engage_download_hrci_sponnewsletter_hr-hrbu...</td>\n",
       "      <td>0.0</td>\n",
       "      <td>0.0</td>\n",
       "      <td>0.0</td>\n",
       "      <td>2023-10</td>\n",
       "      <td>Sunday</td>\n",
       "    </tr>\n",
       "    <tr>\n",
       "      <th>...</th>\n",
       "      <td>...</td>\n",
       "      <td>...</td>\n",
       "      <td>...</td>\n",
       "      <td>...</td>\n",
       "      <td>...</td>\n",
       "      <td>...</td>\n",
       "      <td>...</td>\n",
       "      <td>...</td>\n",
       "      <td>...</td>\n",
       "    </tr>\n",
       "    <tr>\n",
       "      <th>11006</th>\n",
       "      <td>2023-06-05</td>\n",
       "      <td>659706244314</td>\n",
       "      <td>149096095629</td>\n",
       "      <td>NaN</td>\n",
       "      <td>1.9</td>\n",
       "      <td>2.5</td>\n",
       "      <td>0.0</td>\n",
       "      <td>2023-06</td>\n",
       "      <td>Monday</td>\n",
       "    </tr>\n",
       "    <tr>\n",
       "      <th>11007</th>\n",
       "      <td>2023-06-05</td>\n",
       "      <td>webinar</td>\n",
       "      <td>webinar</td>\n",
       "      <td>ww_acq_prosp_webinar__defaultcamp--__all</td>\n",
       "      <td>0.0</td>\n",
       "      <td>0.0</td>\n",
       "      <td>0.0</td>\n",
       "      <td>2023-06</td>\n",
       "      <td>Monday</td>\n",
       "    </tr>\n",
       "    <tr>\n",
       "      <th>11008</th>\n",
       "      <td>2023-06-05</td>\n",
       "      <td>cpc</td>\n",
       "      <td>bing</td>\n",
       "      <td>NaN</td>\n",
       "      <td>0.0</td>\n",
       "      <td>0.0</td>\n",
       "      <td>0.0</td>\n",
       "      <td>2023-06</td>\n",
       "      <td>Monday</td>\n",
       "    </tr>\n",
       "    <tr>\n",
       "      <th>11009</th>\n",
       "      <td>2023-06-05</td>\n",
       "      <td>paid-social</td>\n",
       "      <td>facebook</td>\n",
       "      <td>emea-t2_acq_prosp_fb_image_all-cb-__smbmm</td>\n",
       "      <td>3.1</td>\n",
       "      <td>0.0</td>\n",
       "      <td>0.0</td>\n",
       "      <td>2023-06</td>\n",
       "      <td>Monday</td>\n",
       "    </tr>\n",
       "    <tr>\n",
       "      <th>11010</th>\n",
       "      <td>2023-06-05</td>\n",
       "      <td>642450914603</td>\n",
       "      <td>148350216607</td>\n",
       "      <td>NaN</td>\n",
       "      <td>2.5</td>\n",
       "      <td>0.0</td>\n",
       "      <td>0.0</td>\n",
       "      <td>2023-06</td>\n",
       "      <td>Monday</td>\n",
       "    </tr>\n",
       "  </tbody>\n",
       "</table>\n",
       "<p>11011 rows × 9 columns</p>\n",
       "</div>"
      ],
      "text/plain": [
       "      Touched Date            Utm Medium            Utm Source  \\\n",
       "0       2023-10-29           paid-search                google   \n",
       "1       2023-10-29         paid-listicle  peoplemanagingpeople   \n",
       "2       2023-10-29           paid-social              facebook   \n",
       "3       2023-10-29           paid-search                google   \n",
       "4       2023-10-29  sponsored-newsletter                  hrci   \n",
       "...            ...                   ...                   ...   \n",
       "11006   2023-06-05          659706244314          149096095629   \n",
       "11007   2023-06-05               webinar               webinar   \n",
       "11008   2023-06-05                   cpc                  bing   \n",
       "11009   2023-06-05           paid-social              facebook   \n",
       "11010   2023-06-05          642450914603          148350216607   \n",
       "\n",
       "                                            Utm Campaign  # Demo Occurred  \\\n",
       "0      nam-t1_acq_searchnonbranded_google_search_coun...              2.5   \n",
       "1         ww_acq_prosp_pmp_paidlist_cadpayroll-pmp-__all              2.5   \n",
       "2      nam-t1_consider_calculate_fb_image_all-reengag...              2.4   \n",
       "3      emea-t1a_acq_searchnonbranded_google_search_pa...              0.0   \n",
       "4      ww_engage_download_hrci_sponnewsletter_hr-hrbu...              0.0   \n",
       "...                                                  ...              ...   \n",
       "11006                                                NaN              1.9   \n",
       "11007           ww_acq_prosp_webinar__defaultcamp--__all              0.0   \n",
       "11008                                                NaN              0.0   \n",
       "11009          emea-t2_acq_prosp_fb_image_all-cb-__smbmm              3.1   \n",
       "11010                                                NaN              2.5   \n",
       "\n",
       "       # Sales Qualified Opportunity  # Closed Won Opportunity    Month  \\\n",
       "0                                0.0                       0.0  2023-10   \n",
       "1                                2.5                       0.0  2023-10   \n",
       "2                                0.0                       0.0  2023-10   \n",
       "3                                0.0                       0.0  2023-10   \n",
       "4                                0.0                       0.0  2023-10   \n",
       "...                              ...                       ...      ...   \n",
       "11006                            2.5                       0.0  2023-06   \n",
       "11007                            0.0                       0.0  2023-06   \n",
       "11008                            0.0                       0.0  2023-06   \n",
       "11009                            0.0                       0.0  2023-06   \n",
       "11010                            0.0                       0.0  2023-06   \n",
       "\n",
       "      Weekday  \n",
       "0      Sunday  \n",
       "1      Sunday  \n",
       "2      Sunday  \n",
       "3      Sunday  \n",
       "4      Sunday  \n",
       "...       ...  \n",
       "11006  Monday  \n",
       "11007  Monday  \n",
       "11008  Monday  \n",
       "11009  Monday  \n",
       "11010  Monday  \n",
       "\n",
       "[11011 rows x 9 columns]"
      ]
     },
     "execution_count": 39,
     "metadata": {},
     "output_type": "execute_result"
    }
   ],
   "source": [
    "conversion['Weekday'] = conversion['Touched Date'].dt.day_name()\n",
    "conversion"
   ]
  },
  {
   "cell_type": "code",
   "execution_count": 40,
   "metadata": {},
   "outputs": [],
   "source": [
    "weekly_data = conversion.groupby('Weekday').sum([['# Demo Occurred','# Sales Qualified Opportunity','# Closed Won Opportunity']])\\\n",
    "  .reindex(['Monday', 'Tuesday', 'Wednesday', 'Thursday', 'Friday', 'Saturday', 'Sunday'])"
   ]
  },
  {
   "cell_type": "code",
   "execution_count": 41,
   "metadata": {},
   "outputs": [
    {
     "data": {
      "application/vnd.plotly.v1+json": {
       "config": {
        "plotlyServerURL": "https://plot.ly"
       },
       "data": [
        {
         "marker": {
          "color": "royalblue"
         },
         "mode": "lines+markers+text",
         "name": "# Demo Occurred",
         "text": [
          "3600.50 (-7% vs max)",
          "3881.80 (+0% vs max)",
          "3775.90 (-3% vs max)",
          "3615.00 (-7% vs max)",
          "2954.70 (-24% vs max)",
          "848.60 (-78% vs max)",
          "1066.20 (-73% vs max)"
         ],
         "textposition": "top center",
         "type": "scatter",
         "x": [
          "Monday",
          "Tuesday",
          "Wednesday",
          "Thursday",
          "Friday",
          "Saturday",
          "Sunday"
         ],
         "y": [
          3600.5,
          3881.8,
          3775.9,
          3615,
          2954.7,
          848.6,
          1066.2
         ]
        },
        {
         "marker": {
          "color": "firebrick"
         },
         "mode": "lines+markers+text",
         "name": "# Sales Qualified Opportunity",
         "text": [
          "2038.20 (-8% vs max)",
          "2226.40 (+0% vs max)",
          "2022.20 (-9% vs max)",
          "2037.00 (-9% vs max)",
          "1572.90 (-29% vs max)",
          "294.80 (-87% vs max)",
          "340.60 (-85% vs max)"
         ],
         "textposition": "top center",
         "type": "scatter",
         "x": [
          "Monday",
          "Tuesday",
          "Wednesday",
          "Thursday",
          "Friday",
          "Saturday",
          "Sunday"
         ],
         "y": [
          2038.2,
          2226.4,
          2022.2,
          2037,
          1572.9,
          294.8,
          340.6
         ]
        },
        {
         "marker": {
          "color": "green"
         },
         "mode": "lines+markers+text",
         "name": "# Closed Won Opportunity",
         "text": [
          "411.40 (-21% vs max)",
          "523.70 (+0% vs max)",
          "471.10 (-10% vs max)",
          "507.40 (-3% vs max)",
          "337.20 (-36% vs max)",
          "36.70 (-93% vs max)",
          "59.40 (-89% vs max)"
         ],
         "textposition": "top center",
         "type": "scatter",
         "x": [
          "Monday",
          "Tuesday",
          "Wednesday",
          "Thursday",
          "Friday",
          "Saturday",
          "Sunday"
         ],
         "y": [
          411.4,
          523.7,
          471.1,
          507.4,
          337.2,
          36.7,
          59.4
         ]
        }
       ],
       "layout": {
        "plot_bgcolor": "white",
        "template": {
         "data": {
          "bar": [
           {
            "error_x": {
             "color": "#2a3f5f"
            },
            "error_y": {
             "color": "#2a3f5f"
            },
            "marker": {
             "line": {
              "color": "#E5ECF6",
              "width": 0.5
             },
             "pattern": {
              "fillmode": "overlay",
              "size": 10,
              "solidity": 0.2
             }
            },
            "type": "bar"
           }
          ],
          "barpolar": [
           {
            "marker": {
             "line": {
              "color": "#E5ECF6",
              "width": 0.5
             },
             "pattern": {
              "fillmode": "overlay",
              "size": 10,
              "solidity": 0.2
             }
            },
            "type": "barpolar"
           }
          ],
          "carpet": [
           {
            "aaxis": {
             "endlinecolor": "#2a3f5f",
             "gridcolor": "white",
             "linecolor": "white",
             "minorgridcolor": "white",
             "startlinecolor": "#2a3f5f"
            },
            "baxis": {
             "endlinecolor": "#2a3f5f",
             "gridcolor": "white",
             "linecolor": "white",
             "minorgridcolor": "white",
             "startlinecolor": "#2a3f5f"
            },
            "type": "carpet"
           }
          ],
          "choropleth": [
           {
            "colorbar": {
             "outlinewidth": 0,
             "ticks": ""
            },
            "type": "choropleth"
           }
          ],
          "contour": [
           {
            "colorbar": {
             "outlinewidth": 0,
             "ticks": ""
            },
            "colorscale": [
             [
              0,
              "#0d0887"
             ],
             [
              0.1111111111111111,
              "#46039f"
             ],
             [
              0.2222222222222222,
              "#7201a8"
             ],
             [
              0.3333333333333333,
              "#9c179e"
             ],
             [
              0.4444444444444444,
              "#bd3786"
             ],
             [
              0.5555555555555556,
              "#d8576b"
             ],
             [
              0.6666666666666666,
              "#ed7953"
             ],
             [
              0.7777777777777778,
              "#fb9f3a"
             ],
             [
              0.8888888888888888,
              "#fdca26"
             ],
             [
              1,
              "#f0f921"
             ]
            ],
            "type": "contour"
           }
          ],
          "contourcarpet": [
           {
            "colorbar": {
             "outlinewidth": 0,
             "ticks": ""
            },
            "type": "contourcarpet"
           }
          ],
          "heatmap": [
           {
            "colorbar": {
             "outlinewidth": 0,
             "ticks": ""
            },
            "colorscale": [
             [
              0,
              "#0d0887"
             ],
             [
              0.1111111111111111,
              "#46039f"
             ],
             [
              0.2222222222222222,
              "#7201a8"
             ],
             [
              0.3333333333333333,
              "#9c179e"
             ],
             [
              0.4444444444444444,
              "#bd3786"
             ],
             [
              0.5555555555555556,
              "#d8576b"
             ],
             [
              0.6666666666666666,
              "#ed7953"
             ],
             [
              0.7777777777777778,
              "#fb9f3a"
             ],
             [
              0.8888888888888888,
              "#fdca26"
             ],
             [
              1,
              "#f0f921"
             ]
            ],
            "type": "heatmap"
           }
          ],
          "heatmapgl": [
           {
            "colorbar": {
             "outlinewidth": 0,
             "ticks": ""
            },
            "colorscale": [
             [
              0,
              "#0d0887"
             ],
             [
              0.1111111111111111,
              "#46039f"
             ],
             [
              0.2222222222222222,
              "#7201a8"
             ],
             [
              0.3333333333333333,
              "#9c179e"
             ],
             [
              0.4444444444444444,
              "#bd3786"
             ],
             [
              0.5555555555555556,
              "#d8576b"
             ],
             [
              0.6666666666666666,
              "#ed7953"
             ],
             [
              0.7777777777777778,
              "#fb9f3a"
             ],
             [
              0.8888888888888888,
              "#fdca26"
             ],
             [
              1,
              "#f0f921"
             ]
            ],
            "type": "heatmapgl"
           }
          ],
          "histogram": [
           {
            "marker": {
             "pattern": {
              "fillmode": "overlay",
              "size": 10,
              "solidity": 0.2
             }
            },
            "type": "histogram"
           }
          ],
          "histogram2d": [
           {
            "colorbar": {
             "outlinewidth": 0,
             "ticks": ""
            },
            "colorscale": [
             [
              0,
              "#0d0887"
             ],
             [
              0.1111111111111111,
              "#46039f"
             ],
             [
              0.2222222222222222,
              "#7201a8"
             ],
             [
              0.3333333333333333,
              "#9c179e"
             ],
             [
              0.4444444444444444,
              "#bd3786"
             ],
             [
              0.5555555555555556,
              "#d8576b"
             ],
             [
              0.6666666666666666,
              "#ed7953"
             ],
             [
              0.7777777777777778,
              "#fb9f3a"
             ],
             [
              0.8888888888888888,
              "#fdca26"
             ],
             [
              1,
              "#f0f921"
             ]
            ],
            "type": "histogram2d"
           }
          ],
          "histogram2dcontour": [
           {
            "colorbar": {
             "outlinewidth": 0,
             "ticks": ""
            },
            "colorscale": [
             [
              0,
              "#0d0887"
             ],
             [
              0.1111111111111111,
              "#46039f"
             ],
             [
              0.2222222222222222,
              "#7201a8"
             ],
             [
              0.3333333333333333,
              "#9c179e"
             ],
             [
              0.4444444444444444,
              "#bd3786"
             ],
             [
              0.5555555555555556,
              "#d8576b"
             ],
             [
              0.6666666666666666,
              "#ed7953"
             ],
             [
              0.7777777777777778,
              "#fb9f3a"
             ],
             [
              0.8888888888888888,
              "#fdca26"
             ],
             [
              1,
              "#f0f921"
             ]
            ],
            "type": "histogram2dcontour"
           }
          ],
          "mesh3d": [
           {
            "colorbar": {
             "outlinewidth": 0,
             "ticks": ""
            },
            "type": "mesh3d"
           }
          ],
          "parcoords": [
           {
            "line": {
             "colorbar": {
              "outlinewidth": 0,
              "ticks": ""
             }
            },
            "type": "parcoords"
           }
          ],
          "pie": [
           {
            "automargin": true,
            "type": "pie"
           }
          ],
          "scatter": [
           {
            "fillpattern": {
             "fillmode": "overlay",
             "size": 10,
             "solidity": 0.2
            },
            "type": "scatter"
           }
          ],
          "scatter3d": [
           {
            "line": {
             "colorbar": {
              "outlinewidth": 0,
              "ticks": ""
             }
            },
            "marker": {
             "colorbar": {
              "outlinewidth": 0,
              "ticks": ""
             }
            },
            "type": "scatter3d"
           }
          ],
          "scattercarpet": [
           {
            "marker": {
             "colorbar": {
              "outlinewidth": 0,
              "ticks": ""
             }
            },
            "type": "scattercarpet"
           }
          ],
          "scattergeo": [
           {
            "marker": {
             "colorbar": {
              "outlinewidth": 0,
              "ticks": ""
             }
            },
            "type": "scattergeo"
           }
          ],
          "scattergl": [
           {
            "marker": {
             "colorbar": {
              "outlinewidth": 0,
              "ticks": ""
             }
            },
            "type": "scattergl"
           }
          ],
          "scattermapbox": [
           {
            "marker": {
             "colorbar": {
              "outlinewidth": 0,
              "ticks": ""
             }
            },
            "type": "scattermapbox"
           }
          ],
          "scatterpolar": [
           {
            "marker": {
             "colorbar": {
              "outlinewidth": 0,
              "ticks": ""
             }
            },
            "type": "scatterpolar"
           }
          ],
          "scatterpolargl": [
           {
            "marker": {
             "colorbar": {
              "outlinewidth": 0,
              "ticks": ""
             }
            },
            "type": "scatterpolargl"
           }
          ],
          "scatterternary": [
           {
            "marker": {
             "colorbar": {
              "outlinewidth": 0,
              "ticks": ""
             }
            },
            "type": "scatterternary"
           }
          ],
          "surface": [
           {
            "colorbar": {
             "outlinewidth": 0,
             "ticks": ""
            },
            "colorscale": [
             [
              0,
              "#0d0887"
             ],
             [
              0.1111111111111111,
              "#46039f"
             ],
             [
              0.2222222222222222,
              "#7201a8"
             ],
             [
              0.3333333333333333,
              "#9c179e"
             ],
             [
              0.4444444444444444,
              "#bd3786"
             ],
             [
              0.5555555555555556,
              "#d8576b"
             ],
             [
              0.6666666666666666,
              "#ed7953"
             ],
             [
              0.7777777777777778,
              "#fb9f3a"
             ],
             [
              0.8888888888888888,
              "#fdca26"
             ],
             [
              1,
              "#f0f921"
             ]
            ],
            "type": "surface"
           }
          ],
          "table": [
           {
            "cells": {
             "fill": {
              "color": "#EBF0F8"
             },
             "line": {
              "color": "white"
             }
            },
            "header": {
             "fill": {
              "color": "#C8D4E3"
             },
             "line": {
              "color": "white"
             }
            },
            "type": "table"
           }
          ]
         },
         "layout": {
          "annotationdefaults": {
           "arrowcolor": "#2a3f5f",
           "arrowhead": 0,
           "arrowwidth": 1
          },
          "autotypenumbers": "strict",
          "coloraxis": {
           "colorbar": {
            "outlinewidth": 0,
            "ticks": ""
           }
          },
          "colorscale": {
           "diverging": [
            [
             0,
             "#8e0152"
            ],
            [
             0.1,
             "#c51b7d"
            ],
            [
             0.2,
             "#de77ae"
            ],
            [
             0.3,
             "#f1b6da"
            ],
            [
             0.4,
             "#fde0ef"
            ],
            [
             0.5,
             "#f7f7f7"
            ],
            [
             0.6,
             "#e6f5d0"
            ],
            [
             0.7,
             "#b8e186"
            ],
            [
             0.8,
             "#7fbc41"
            ],
            [
             0.9,
             "#4d9221"
            ],
            [
             1,
             "#276419"
            ]
           ],
           "sequential": [
            [
             0,
             "#0d0887"
            ],
            [
             0.1111111111111111,
             "#46039f"
            ],
            [
             0.2222222222222222,
             "#7201a8"
            ],
            [
             0.3333333333333333,
             "#9c179e"
            ],
            [
             0.4444444444444444,
             "#bd3786"
            ],
            [
             0.5555555555555556,
             "#d8576b"
            ],
            [
             0.6666666666666666,
             "#ed7953"
            ],
            [
             0.7777777777777778,
             "#fb9f3a"
            ],
            [
             0.8888888888888888,
             "#fdca26"
            ],
            [
             1,
             "#f0f921"
            ]
           ],
           "sequentialminus": [
            [
             0,
             "#0d0887"
            ],
            [
             0.1111111111111111,
             "#46039f"
            ],
            [
             0.2222222222222222,
             "#7201a8"
            ],
            [
             0.3333333333333333,
             "#9c179e"
            ],
            [
             0.4444444444444444,
             "#bd3786"
            ],
            [
             0.5555555555555556,
             "#d8576b"
            ],
            [
             0.6666666666666666,
             "#ed7953"
            ],
            [
             0.7777777777777778,
             "#fb9f3a"
            ],
            [
             0.8888888888888888,
             "#fdca26"
            ],
            [
             1,
             "#f0f921"
            ]
           ]
          },
          "colorway": [
           "#636efa",
           "#EF553B",
           "#00cc96",
           "#ab63fa",
           "#FFA15A",
           "#19d3f3",
           "#FF6692",
           "#B6E880",
           "#FF97FF",
           "#FECB52"
          ],
          "font": {
           "color": "#2a3f5f"
          },
          "geo": {
           "bgcolor": "white",
           "lakecolor": "white",
           "landcolor": "#E5ECF6",
           "showlakes": true,
           "showland": true,
           "subunitcolor": "white"
          },
          "hoverlabel": {
           "align": "left"
          },
          "hovermode": "closest",
          "mapbox": {
           "style": "light"
          },
          "paper_bgcolor": "white",
          "plot_bgcolor": "#E5ECF6",
          "polar": {
           "angularaxis": {
            "gridcolor": "white",
            "linecolor": "white",
            "ticks": ""
           },
           "bgcolor": "#E5ECF6",
           "radialaxis": {
            "gridcolor": "white",
            "linecolor": "white",
            "ticks": ""
           }
          },
          "scene": {
           "xaxis": {
            "backgroundcolor": "#E5ECF6",
            "gridcolor": "white",
            "gridwidth": 2,
            "linecolor": "white",
            "showbackground": true,
            "ticks": "",
            "zerolinecolor": "white"
           },
           "yaxis": {
            "backgroundcolor": "#E5ECF6",
            "gridcolor": "white",
            "gridwidth": 2,
            "linecolor": "white",
            "showbackground": true,
            "ticks": "",
            "zerolinecolor": "white"
           },
           "zaxis": {
            "backgroundcolor": "#E5ECF6",
            "gridcolor": "white",
            "gridwidth": 2,
            "linecolor": "white",
            "showbackground": true,
            "ticks": "",
            "zerolinecolor": "white"
           }
          },
          "shapedefaults": {
           "line": {
            "color": "#2a3f5f"
           }
          },
          "ternary": {
           "aaxis": {
            "gridcolor": "white",
            "linecolor": "white",
            "ticks": ""
           },
           "baxis": {
            "gridcolor": "white",
            "linecolor": "white",
            "ticks": ""
           },
           "bgcolor": "#E5ECF6",
           "caxis": {
            "gridcolor": "white",
            "linecolor": "white",
            "ticks": ""
           }
          },
          "title": {
           "x": 0.05
          },
          "xaxis": {
           "automargin": true,
           "gridcolor": "white",
           "linecolor": "white",
           "ticks": "",
           "title": {
            "standoff": 15
           },
           "zerolinecolor": "white",
           "zerolinewidth": 2
          },
          "yaxis": {
           "automargin": true,
           "gridcolor": "white",
           "linecolor": "white",
           "ticks": "",
           "title": {
            "standoff": 15
           },
           "zerolinecolor": "white",
           "zerolinewidth": 2
          }
         }
        },
        "title": {
         "text": "Weekly Trends of Conversion Metrics"
        },
        "xaxis": {
         "title": {
          "text": "Weekday"
         }
        },
        "yaxis": {
         "title": {
          "text": "Metric Values"
         }
        }
       }
      }
     },
     "metadata": {},
     "output_type": "display_data"
    }
   ],
   "source": [
    "\n",
    "#get max values for each metric\n",
    "max_demo = weekly_data['# Demo Occurred'].max()\n",
    "max_sqo = weekly_data['# Sales Qualified Opportunity'].max()\n",
    "max_cwo = weekly_data['# Closed Won Opportunity'].max()\n",
    "\n",
    "#get % difference with max\n",
    "weekly_data['Demo % Diff'] = ((weekly_data['# Demo Occurred'] / max_demo) - 1) * 100\n",
    "weekly_data['SQO % Diff'] = ((weekly_data['# Sales Qualified Opportunity'] / max_sqo) - 1) * 100\n",
    "weekly_data['CWO % Diff'] = ((weekly_data['# Closed Won Opportunity'] / max_cwo) - 1) * 100\n",
    "\n",
    "\n",
    "fig = go.Figure()\n",
    "fig.add_trace(go.Scatter(x=weekly_data.index, y=weekly_data['# Demo Occurred'],\n",
    "                         mode='lines+markers+text',\n",
    "                         name='# Demo Occurred',\n",
    "                         text=[f\"{v:.2f} ({d:+.0f}% vs max)\" for v, d in zip(weekly_data['# Demo Occurred'], weekly_data['Demo % Diff'])],\n",
    "                         textposition=\"top center\",\n",
    "                         marker=dict(color='royalblue')))\n",
    "\n",
    "fig.add_trace(go.Scatter(x=weekly_data.index, y=weekly_data['# Sales Qualified Opportunity'],\n",
    "                         mode='lines+markers+text',\n",
    "                         name='# Sales Qualified Opportunity',\n",
    "                         text=[f\"{v:.2f} ({d:+.0f}% vs max)\" for v, d in zip(weekly_data['# Sales Qualified Opportunity'], weekly_data['SQO % Diff'])],\n",
    "                         textposition=\"top center\",\n",
    "                         marker=dict(color='firebrick')))\n",
    "\n",
    "fig.add_trace(go.Scatter(x=weekly_data.index, y=weekly_data['# Closed Won Opportunity'],\n",
    "                         mode='lines+markers+text',\n",
    "                         name='# Closed Won Opportunity',\n",
    "                         text=[f\"{v:.2f} ({d:+.0f}% vs max)\" for v, d in zip(weekly_data['# Closed Won Opportunity'], weekly_data['CWO % Diff'])],\n",
    "                         textposition=\"top center\",\n",
    "                         marker=dict(color='green')))\n",
    "\n",
    "# Update layout\n",
    "fig.update_layout(title='Weekly Trends of Conversion Metrics',\n",
    "                  xaxis_title='Weekday',\n",
    "                  yaxis_title='Metric Values',\n",
    "                  plot_bgcolor='white',)\n",
    "\n",
    "fig.show()"
   ]
  },
  {
   "cell_type": "code",
   "execution_count": 42,
   "metadata": {},
   "outputs": [
    {
     "data": {
      "text/html": [
       "<div>\n",
       "<style scoped>\n",
       "    .dataframe tbody tr th:only-of-type {\n",
       "        vertical-align: middle;\n",
       "    }\n",
       "\n",
       "    .dataframe tbody tr th {\n",
       "        vertical-align: top;\n",
       "    }\n",
       "\n",
       "    .dataframe thead th {\n",
       "        text-align: right;\n",
       "    }\n",
       "</style>\n",
       "<table border=\"1\" class=\"dataframe\">\n",
       "  <thead>\n",
       "    <tr style=\"text-align: right;\">\n",
       "      <th></th>\n",
       "      <th># Demo Occurred</th>\n",
       "      <th># Sales Qualified Opportunity</th>\n",
       "      <th># Closed Won Opportunity</th>\n",
       "      <th>Demo % Diff</th>\n",
       "      <th>SQO % Diff</th>\n",
       "      <th>CWO % Diff</th>\n",
       "      <th>demo-close</th>\n",
       "      <th>demo-sales</th>\n",
       "      <th>sales-close</th>\n",
       "    </tr>\n",
       "    <tr>\n",
       "      <th>Weekday</th>\n",
       "      <th></th>\n",
       "      <th></th>\n",
       "      <th></th>\n",
       "      <th></th>\n",
       "      <th></th>\n",
       "      <th></th>\n",
       "      <th></th>\n",
       "      <th></th>\n",
       "      <th></th>\n",
       "    </tr>\n",
       "  </thead>\n",
       "  <tbody>\n",
       "    <tr>\n",
       "      <th>Monday</th>\n",
       "      <td>3600.5</td>\n",
       "      <td>2038.2</td>\n",
       "      <td>411.4</td>\n",
       "      <td>-7.246638</td>\n",
       "      <td>-8.453108</td>\n",
       "      <td>-21.443575</td>\n",
       "      <td>0.114262</td>\n",
       "      <td>0.566088</td>\n",
       "      <td>0.201845</td>\n",
       "    </tr>\n",
       "    <tr>\n",
       "      <th>Tuesday</th>\n",
       "      <td>3881.8</td>\n",
       "      <td>2226.4</td>\n",
       "      <td>523.7</td>\n",
       "      <td>0.000000</td>\n",
       "      <td>0.000000</td>\n",
       "      <td>0.000000</td>\n",
       "      <td>0.134912</td>\n",
       "      <td>0.573548</td>\n",
       "      <td>0.235223</td>\n",
       "    </tr>\n",
       "    <tr>\n",
       "      <th>Wednesday</th>\n",
       "      <td>3775.9</td>\n",
       "      <td>2022.2</td>\n",
       "      <td>471.1</td>\n",
       "      <td>-2.728116</td>\n",
       "      <td>-9.171757</td>\n",
       "      <td>-10.043918</td>\n",
       "      <td>0.124765</td>\n",
       "      <td>0.535554</td>\n",
       "      <td>0.232964</td>\n",
       "    </tr>\n",
       "    <tr>\n",
       "      <th>Thursday</th>\n",
       "      <td>3615.0</td>\n",
       "      <td>2037.0</td>\n",
       "      <td>507.4</td>\n",
       "      <td>-6.873100</td>\n",
       "      <td>-8.507007</td>\n",
       "      <td>-3.112469</td>\n",
       "      <td>0.140360</td>\n",
       "      <td>0.563485</td>\n",
       "      <td>0.249092</td>\n",
       "    </tr>\n",
       "    <tr>\n",
       "      <th>Friday</th>\n",
       "      <td>2954.7</td>\n",
       "      <td>1572.9</td>\n",
       "      <td>337.2</td>\n",
       "      <td>-23.883250</td>\n",
       "      <td>-29.352318</td>\n",
       "      <td>-35.611992</td>\n",
       "      <td>0.114123</td>\n",
       "      <td>0.532338</td>\n",
       "      <td>0.214381</td>\n",
       "    </tr>\n",
       "    <tr>\n",
       "      <th>Saturday</th>\n",
       "      <td>848.6</td>\n",
       "      <td>294.8</td>\n",
       "      <td>36.7</td>\n",
       "      <td>-78.139008</td>\n",
       "      <td>-86.758893</td>\n",
       "      <td>-92.992171</td>\n",
       "      <td>0.043248</td>\n",
       "      <td>0.347396</td>\n",
       "      <td>0.124491</td>\n",
       "    </tr>\n",
       "    <tr>\n",
       "      <th>Sunday</th>\n",
       "      <td>1066.2</td>\n",
       "      <td>340.6</td>\n",
       "      <td>59.4</td>\n",
       "      <td>-72.533361</td>\n",
       "      <td>-84.701761</td>\n",
       "      <td>-88.657628</td>\n",
       "      <td>0.055712</td>\n",
       "      <td>0.319452</td>\n",
       "      <td>0.174398</td>\n",
       "    </tr>\n",
       "  </tbody>\n",
       "</table>\n",
       "</div>"
      ],
      "text/plain": [
       "           # Demo Occurred  # Sales Qualified Opportunity  \\\n",
       "Weekday                                                     \n",
       "Monday              3600.5                         2038.2   \n",
       "Tuesday             3881.8                         2226.4   \n",
       "Wednesday           3775.9                         2022.2   \n",
       "Thursday            3615.0                         2037.0   \n",
       "Friday              2954.7                         1572.9   \n",
       "Saturday             848.6                          294.8   \n",
       "Sunday              1066.2                          340.6   \n",
       "\n",
       "           # Closed Won Opportunity  Demo % Diff  SQO % Diff  CWO % Diff  \\\n",
       "Weekday                                                                    \n",
       "Monday                        411.4    -7.246638   -8.453108  -21.443575   \n",
       "Tuesday                       523.7     0.000000    0.000000    0.000000   \n",
       "Wednesday                     471.1    -2.728116   -9.171757  -10.043918   \n",
       "Thursday                      507.4    -6.873100   -8.507007   -3.112469   \n",
       "Friday                        337.2   -23.883250  -29.352318  -35.611992   \n",
       "Saturday                       36.7   -78.139008  -86.758893  -92.992171   \n",
       "Sunday                         59.4   -72.533361  -84.701761  -88.657628   \n",
       "\n",
       "           demo-close  demo-sales  sales-close  \n",
       "Weekday                                         \n",
       "Monday       0.114262    0.566088     0.201845  \n",
       "Tuesday      0.134912    0.573548     0.235223  \n",
       "Wednesday    0.124765    0.535554     0.232964  \n",
       "Thursday     0.140360    0.563485     0.249092  \n",
       "Friday       0.114123    0.532338     0.214381  \n",
       "Saturday     0.043248    0.347396     0.124491  \n",
       "Sunday       0.055712    0.319452     0.174398  "
      ]
     },
     "execution_count": 42,
     "metadata": {},
     "output_type": "execute_result"
    }
   ],
   "source": [
    "a = weekly_data['# Demo Occurred'] \n",
    "b = weekly_data['# Sales Qualified Opportunity'] \n",
    "c = weekly_data['# Closed Won Opportunity'] \n",
    "weekly_data['demo-close'] = c/a\n",
    "weekly_data['demo-sales'] = b/a\n",
    "weekly_data['sales-close'] = c/b\n",
    "weekly_data"
   ]
  },
  {
   "cell_type": "code",
   "execution_count": 44,
   "metadata": {},
   "outputs": [
    {
     "data": {
      "text/plain": [
       "Day Type\n",
       "Weekday    0.125684\n",
       "Weekend    0.049480\n",
       "Name: demo-close, dtype: float64"
      ]
     },
     "execution_count": 44,
     "metadata": {},
     "output_type": "execute_result"
    }
   ],
   "source": [
    "weekly_data = weekly_data.reset_index(drop=False)\n",
    "weekly_data['Day Type'] = weekly_data['Weekday'].apply(lambda x: 'Weekday' if x in ['Monday', 'Tuesday', 'Wednesday', 'Thursday', 'Friday'] else 'Weekend')\n",
    "weekly_data.groupby('Day Type')['demo-close'].mean()"
   ]
  },
  {
   "cell_type": "markdown",
   "metadata": {},
   "source": [
    "## Autocorrelation"
   ]
  },
  {
   "cell_type": "code",
   "execution_count": 45,
   "metadata": {},
   "outputs": [],
   "source": [
    "import matplotlib.pyplot as plt\n",
    "from statsmodels.graphics.tsaplots import plot_acf, plot_pacf\n"
   ]
  },
  {
   "cell_type": "code",
   "execution_count": 46,
   "metadata": {},
   "outputs": [],
   "source": [
    "demo ='# Demo Occurred' \n",
    "sales ='# Sales Qualified Opportunity' \n",
    "close ='# Closed Won Opportunity' \n",
    "df = conversion[['Touched Date',demo]].set_index('Touched Date')"
   ]
  },
  {
   "cell_type": "code",
   "execution_count": 47,
   "metadata": {},
   "outputs": [
    {
     "data": {
      "image/png": "[encoded data removed]",
      "text/plain": [
       "<Figure size 1200x800 with 1 Axes>"
      ]
     },
     "metadata": {},
     "output_type": "display_data"
    },
    {
     "data": {
      "image/png": "[encoded data removed]",
      "text/plain": [
       "<Figure size 1200x800 with 1 Axes>"
      ]
     },
     "metadata": {},
     "output_type": "display_data"
    }
   ],
   "source": [
    "\n",
    "# AF\n",
    "fig, ax = plt.subplots(figsize=(12, 8))  \n",
    "plot_acf(df[demo], ax=ax)  \n",
    "ax.set_title('Autocorrelation Function')  \n",
    "plt.show()  \n",
    "\n",
    "#PAF\n",
    "fig, ax = plt.subplots(figsize=(12, 8))  \n",
    "plot_pacf(df[demo], ax=ax)  \n",
    "ax.set_title('Partial Autocorrelation Function')  \n",
    "plt.show()  \n"
   ]
  },
  {
   "cell_type": "markdown",
   "metadata": {},
   "source": [
    "The lack of significant spikes in both ACF and PACF plots suggests that there is NO strong autocorrelation"
   ]
  },
  {
   "cell_type": "markdown",
   "metadata": {},
   "source": [
    "# Task 2: Paid Marketing Channel Analysis"
   ]
  },
  {
   "cell_type": "code",
   "execution_count": 49,
   "metadata": {},
   "outputs": [],
   "source": [
    "\n",
    "#format\n",
    "paid.rename(columns={col: col.lower().replace('# ', '').replace(' ', '_').replace('$_', '').replace('utm_', '') for col in paid.columns}, inplace=True)\n",
    "conversion.rename(columns={col: col.lower().replace('# ', '').replace(' ', '_').replace('$_', '').replace('utm_', '') for col in conversion.columns}, inplace=True)\n",
    "\n",
    "#Change type\n",
    "paid['cost'] = paid.cost.str.replace(\"$\",'').str.replace(',','').astype(float)"
   ]
  },
  {
   "cell_type": "markdown",
   "metadata": {},
   "source": [
    "### 1) Click-through rate (CTR)"
   ]
  },
  {
   "cell_type": "markdown",
   "metadata": {},
   "source": [
    "#### Formula:\n",
    "CTR = Number of Clicks /Number of Impressions *100\n"
   ]
  },
  {
   "cell_type": "code",
   "execution_count": 69,
   "metadata": {},
   "outputs": [],
   "source": [
    "paid['year_week'] = paid.traffic_week.str[:7]\n",
    "paid['CTR'] = paid['clicks'] / paid['impressions'] * 100"
   ]
  },
  {
   "cell_type": "code",
   "execution_count": 70,
   "metadata": {},
   "outputs": [
    {
     "data": {
      "text/plain": [
       "source    year_week\n",
       "bing      2023-06       7.634606\n",
       "          2023-07       1.535376\n",
       "          2023-08       1.737344\n",
       "          2023-09       0.847437\n",
       "          2023-10       7.847773\n",
       "facebook  2023-06       0.284178\n",
       "          2023-07       0.328870\n",
       "          2023-08       0.370344\n",
       "          2023-09       0.301313\n",
       "          2023-10       0.176097\n",
       "google    2023-06       5.628710\n",
       "          2023-07       8.867458\n",
       "          2023-08      10.127181\n",
       "          2023-09       9.766993\n",
       "          2023-10       8.945787\n",
       "linkedin  2023-06       0.375684\n",
       "          2023-07       0.445956\n",
       "          2023-08       0.501376\n",
       "          2023-09       0.467287\n",
       "          2023-10       0.501260\n",
       "dtype: float64"
      ]
     },
     "execution_count": 70,
     "metadata": {},
     "output_type": "execute_result"
    }
   ],
   "source": [
    "paid.groupby(['source', 'year_week']).agg({'clicks': 'sum', 'impressions': 'sum'})\\\n",
    "  .apply(lambda x: x['clicks'] / x['impressions']*100, axis=1)\n"
   ]
  },
  {
   "cell_type": "code",
   "execution_count": 95,
   "metadata": {},
   "outputs": [
    {
     "name": "stderr",
     "output_type": "stream",
     "text": [
      "C:\\Users\\rober\\AppData\\Local\\Temp\\ipykernel_24456\\759046985.py:5: FutureWarning:\n",
      "\n",
      "\n",
      "\n",
      "The `ci` parameter is deprecated. Use `errorbar=None` for the same effect.\n",
      "\n",
      "\n"
     ]
    },
    {
     "data": {
      "image/png": "[encoded data removed]",
      "text/plain": [
       "<Figure size 2000x600 with 1 Axes>"
      ]
     },
     "metadata": {},
     "output_type": "display_data"
    }
   ],
   "source": [
    " \n",
    "paid_sorted = paid.sort_values(by='traffic_week')\n",
    "\n",
    "plt.figure(figsize=(20, 6))\n",
    " \n",
    "sns.lineplot(data=paid_sorted, x='traffic_week', y='CTR', hue='source', ci=None)\n",
    " \n",
    "for _, row in paid_sorted.iterrows():\n",
    "    plt.text(row['traffic_week'], row['CTR'], f\"{row['CTR']:.2f}\", ha='center', va='bottom')\n",
    "\n",
    "plt.title('Click-Through Rate (CTR) by Source')\n",
    "plt.xlabel('Traffic Week')\n",
    "plt.ylabel('CTR (%)')\n",
    "plt.xticks(rotation=45)\n",
    "plt.grid(True)\n",
    "plt.tight_layout()\n",
    "plt.show()\n"
   ]
  },
  {
   "cell_type": "code",
   "execution_count": 99,
   "metadata": {},
   "outputs": [
    {
     "data": {
      "text/html": [
       "<div>\n",
       "<style scoped>\n",
       "    .dataframe tbody tr th:only-of-type {\n",
       "        vertical-align: middle;\n",
       "    }\n",
       "\n",
       "    .dataframe tbody tr th {\n",
       "        vertical-align: top;\n",
       "    }\n",
       "\n",
       "    .dataframe thead th {\n",
       "        text-align: right;\n",
       "    }\n",
       "</style>\n",
       "<table border=\"1\" class=\"dataframe\">\n",
       "  <thead>\n",
       "    <tr style=\"text-align: right;\">\n",
       "      <th></th>\n",
       "      <th>source</th>\n",
       "      <th>traffic_week</th>\n",
       "      <th>cost</th>\n",
       "    </tr>\n",
       "  </thead>\n",
       "  <tbody>\n",
       "    <tr>\n",
       "      <th>0</th>\n",
       "      <td>bing</td>\n",
       "      <td>2023-06-05</td>\n",
       "      <td>14681.04</td>\n",
       "    </tr>\n",
       "    <tr>\n",
       "      <th>1</th>\n",
       "      <td>bing</td>\n",
       "      <td>2023-06-12</td>\n",
       "      <td>18257.71</td>\n",
       "    </tr>\n",
       "    <tr>\n",
       "      <th>2</th>\n",
       "      <td>bing</td>\n",
       "      <td>2023-06-19</td>\n",
       "      <td>23881.69</td>\n",
       "    </tr>\n",
       "    <tr>\n",
       "      <th>3</th>\n",
       "      <td>bing</td>\n",
       "      <td>2023-06-26</td>\n",
       "      <td>23667.38</td>\n",
       "    </tr>\n",
       "    <tr>\n",
       "      <th>4</th>\n",
       "      <td>bing</td>\n",
       "      <td>2023-07-03</td>\n",
       "      <td>28060.26</td>\n",
       "    </tr>\n",
       "    <tr>\n",
       "      <th>...</th>\n",
       "      <td>...</td>\n",
       "      <td>...</td>\n",
       "      <td>...</td>\n",
       "    </tr>\n",
       "    <tr>\n",
       "      <th>79</th>\n",
       "      <td>linkedin</td>\n",
       "      <td>2023-09-25</td>\n",
       "      <td>249770.65</td>\n",
       "    </tr>\n",
       "    <tr>\n",
       "      <th>80</th>\n",
       "      <td>linkedin</td>\n",
       "      <td>2023-10-02</td>\n",
       "      <td>272559.09</td>\n",
       "    </tr>\n",
       "    <tr>\n",
       "      <th>81</th>\n",
       "      <td>linkedin</td>\n",
       "      <td>2023-10-09</td>\n",
       "      <td>327466.25</td>\n",
       "    </tr>\n",
       "    <tr>\n",
       "      <th>82</th>\n",
       "      <td>linkedin</td>\n",
       "      <td>2023-10-16</td>\n",
       "      <td>174972.20</td>\n",
       "    </tr>\n",
       "    <tr>\n",
       "      <th>83</th>\n",
       "      <td>linkedin</td>\n",
       "      <td>2023-10-23</td>\n",
       "      <td>169017.58</td>\n",
       "    </tr>\n",
       "  </tbody>\n",
       "</table>\n",
       "<p>84 rows × 3 columns</p>\n",
       "</div>"
      ],
      "text/plain": [
       "      source traffic_week       cost\n",
       "0       bing   2023-06-05   14681.04\n",
       "1       bing   2023-06-12   18257.71\n",
       "2       bing   2023-06-19   23881.69\n",
       "3       bing   2023-06-26   23667.38\n",
       "4       bing   2023-07-03   28060.26\n",
       "..       ...          ...        ...\n",
       "79  linkedin   2023-09-25  249770.65\n",
       "80  linkedin   2023-10-02  272559.09\n",
       "81  linkedin   2023-10-09  327466.25\n",
       "82  linkedin   2023-10-16  174972.20\n",
       "83  linkedin   2023-10-23  169017.58\n",
       "\n",
       "[84 rows x 3 columns]"
      ]
     },
     "execution_count": 99,
     "metadata": {},
     "output_type": "execute_result"
    }
   ],
   "source": [
    "paid.groupby(['source', 'traffic_week'])['cost'].sum().reset_index()"
   ]
  },
  {
   "cell_type": "code",
   "execution_count": 98,
   "metadata": {},
   "outputs": [
    {
     "data": {
      "image/png": "[encoded data removed]",
      "text/plain": [
       "<Figure size 1200x600 with 1 Axes>"
      ]
     },
     "metadata": {},
     "output_type": "display_data"
    }
   ],
   "source": [
    "plt.figure(figsize=(12, 6))\n",
    "\n",
    "# Aggregate the data by 'source' and 'traffic_week' and calculate the sum of the 'cost' column\n",
    "cost_per_source = paid.groupby(['source', 'traffic_week'])['cost'].sum().reset_index()\n",
    "\n",
    "# Sort the DataFrame by 'traffic_week' within each 'source'\n",
    "cost_per_source_sorted = cost_per_source.sort_values(by=['source', 'traffic_week'])\n",
    "\n",
    "# Bar plot\n",
    "sns.barplot(data=cost_per_source_sorted, x='traffic_week', y='cost', hue='source')\n",
    "\n",
    "plt.title('Cost per Source by Traffic Week')\n",
    "plt.xlabel('Traffic Week')\n",
    "plt.ylabel('Cost')\n",
    "plt.xticks(rotation=45)\n",
    "plt.grid(True)\n",
    "plt.tight_layout()\n",
    "plt.legend(title='Source', loc='upper left')\n",
    "plt.show()\n"
   ]
  },
  {
   "cell_type": "markdown",
   "metadata": {},
   "source": [
    "COST PER ACQUISITION"
   ]
  },
  {
   "cell_type": "markdown",
   "metadata": {},
   "source": [
    "This is done in tableaux.\n",
    "\n",
    "The formula is the following:"
   ]
  },
  {
   "cell_type": "markdown",
   "metadata": {},
   "source": []
  }
 ],
 "metadata": {
  "kernelspec": {
   "display_name": "base",
   "language": "python",
   "name": "python3"
  },
  "language_info": {
   "codemirror_mode": {
    "name": "ipython",
    "version": 3
   },
   "file_extension": ".py",
   "mimetype": "text/x-python",
   "name": "python",
   "nbconvert_exporter": "python",
   "pygments_lexer": "ipython3",
   "version": "3.11.5"
  }
 },
 "nbformat": 4,
 "nbformat_minor": 2
}
