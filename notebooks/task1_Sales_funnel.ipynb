{
 "cells": [
  {
   "cell_type": "code",
   "execution_count": 1,
   "metadata": {},
   "outputs": [],
   "source": [
    "import pandas as pd\n",
    "import numpy as np \n",
    "import matplotlib.pyplot as plt\n",
    "import seaborn as sns\n",
    "import plotly.graph_objs as go\n"
   ]
  },
  {
   "cell_type": "code",
   "execution_count": null,
   "metadata": {},
   "outputs": [],
   "source": []
  },
  {
   "cell_type": "markdown",
   "metadata": {},
   "source": [
    "# Data Extraction"
   ]
  },
  {
   "cell_type": "code",
   "execution_count": 2,
   "metadata": {},
   "outputs": [
    {
     "data": {
      "text/html": [
       "<div>\n",
       "<style scoped>\n",
       "    .dataframe tbody tr th:only-of-type {\n",
       "        vertical-align: middle;\n",
       "    }\n",
       "\n",
       "    .dataframe tbody tr th {\n",
       "        vertical-align: top;\n",
       "    }\n",
       "\n",
       "    .dataframe thead th {\n",
       "        text-align: right;\n",
       "    }\n",
       "</style>\n",
       "<table border=\"1\" class=\"dataframe\">\n",
       "  <thead>\n",
       "    <tr style=\"text-align: right;\">\n",
       "      <th></th>\n",
       "      <th>Utm Medium</th>\n",
       "      <th>Utm Source</th>\n",
       "      <th>Traffic Week</th>\n",
       "      <th># Impressions</th>\n",
       "      <th># Clicks</th>\n",
       "      <th>$ Cost</th>\n",
       "    </tr>\n",
       "  </thead>\n",
       "  <tbody>\n",
       "    <tr>\n",
       "      <th>0</th>\n",
       "      <td>paid-social</td>\n",
       "      <td>linkedin</td>\n",
       "      <td>2023-10-23</td>\n",
       "      <td>4881796</td>\n",
       "      <td>21954</td>\n",
       "      <td>$169,017.58</td>\n",
       "    </tr>\n",
       "    <tr>\n",
       "      <th>1</th>\n",
       "      <td>paid-social</td>\n",
       "      <td>linkedin</td>\n",
       "      <td>2023-10-16</td>\n",
       "      <td>6335386</td>\n",
       "      <td>15776</td>\n",
       "      <td>$174,972.20</td>\n",
       "    </tr>\n",
       "    <tr>\n",
       "      <th>2</th>\n",
       "      <td>paid-social</td>\n",
       "      <td>linkedin</td>\n",
       "      <td>2023-10-09</td>\n",
       "      <td>4485024</td>\n",
       "      <td>35009</td>\n",
       "      <td>$327,466.25</td>\n",
       "    </tr>\n",
       "    <tr>\n",
       "      <th>3</th>\n",
       "      <td>paid-social</td>\n",
       "      <td>linkedin</td>\n",
       "      <td>2023-10-02</td>\n",
       "      <td>4348074</td>\n",
       "      <td>27765</td>\n",
       "      <td>$272,559.09</td>\n",
       "    </tr>\n",
       "    <tr>\n",
       "      <th>4</th>\n",
       "      <td>paid-social</td>\n",
       "      <td>linkedin</td>\n",
       "      <td>2023-09-25</td>\n",
       "      <td>5962092</td>\n",
       "      <td>31388</td>\n",
       "      <td>$249,770.65</td>\n",
       "    </tr>\n",
       "    <tr>\n",
       "      <th>...</th>\n",
       "      <td>...</td>\n",
       "      <td>...</td>\n",
       "      <td>...</td>\n",
       "      <td>...</td>\n",
       "      <td>...</td>\n",
       "      <td>...</td>\n",
       "    </tr>\n",
       "    <tr>\n",
       "      <th>79</th>\n",
       "      <td>paid-search</td>\n",
       "      <td>bing</td>\n",
       "      <td>2023-07-03</td>\n",
       "      <td>48173</td>\n",
       "      <td>5662</td>\n",
       "      <td>$28,060.26</td>\n",
       "    </tr>\n",
       "    <tr>\n",
       "      <th>80</th>\n",
       "      <td>paid-search</td>\n",
       "      <td>bing</td>\n",
       "      <td>2023-06-26</td>\n",
       "      <td>52959</td>\n",
       "      <td>5267</td>\n",
       "      <td>$23,667.38</td>\n",
       "    </tr>\n",
       "    <tr>\n",
       "      <th>81</th>\n",
       "      <td>paid-search</td>\n",
       "      <td>bing</td>\n",
       "      <td>2023-06-19</td>\n",
       "      <td>57243</td>\n",
       "      <td>3996</td>\n",
       "      <td>$23,881.69</td>\n",
       "    </tr>\n",
       "    <tr>\n",
       "      <th>82</th>\n",
       "      <td>paid-search</td>\n",
       "      <td>bing</td>\n",
       "      <td>2023-06-12</td>\n",
       "      <td>23783</td>\n",
       "      <td>3195</td>\n",
       "      <td>$18,257.71</td>\n",
       "    </tr>\n",
       "    <tr>\n",
       "      <th>83</th>\n",
       "      <td>paid-search</td>\n",
       "      <td>bing</td>\n",
       "      <td>2023-06-05</td>\n",
       "      <td>62515</td>\n",
       "      <td>2544</td>\n",
       "      <td>$14,681.04</td>\n",
       "    </tr>\n",
       "  </tbody>\n",
       "</table>\n",
       "<p>84 rows × 6 columns</p>\n",
       "</div>"
      ],
      "text/plain": [
       "     Utm Medium Utm Source Traffic Week  # Impressions  # Clicks       $ Cost\n",
       "0   paid-social   linkedin   2023-10-23        4881796     21954  $169,017.58\n",
       "1   paid-social   linkedin   2023-10-16        6335386     15776  $174,972.20\n",
       "2   paid-social   linkedin   2023-10-09        4485024     35009  $327,466.25\n",
       "3   paid-social   linkedin   2023-10-02        4348074     27765  $272,559.09\n",
       "4   paid-social   linkedin   2023-09-25        5962092     31388  $249,770.65\n",
       "..          ...        ...          ...            ...       ...          ...\n",
       "79  paid-search       bing   2023-07-03          48173      5662   $28,060.26\n",
       "80  paid-search       bing   2023-06-26          52959      5267   $23,667.38\n",
       "81  paid-search       bing   2023-06-19          57243      3996   $23,881.69\n",
       "82  paid-search       bing   2023-06-12          23783      3195   $18,257.71\n",
       "83  paid-search       bing   2023-06-05          62515      2544   $14,681.04\n",
       "\n",
       "[84 rows x 6 columns]"
      ]
     },
     "execution_count": 2,
     "metadata": {},
     "output_type": "execute_result"
    }
   ],
   "source": [
    "paid = pd.read_csv(\"./../data/paid_platform.csv\")\n",
    "paid"
   ]
  },
  {
   "cell_type": "code",
   "execution_count": 3,
   "metadata": {},
   "outputs": [
    {
     "data": {
      "text/html": [
       "<div>\n",
       "<style scoped>\n",
       "    .dataframe tbody tr th:only-of-type {\n",
       "        vertical-align: middle;\n",
       "    }\n",
       "\n",
       "    .dataframe tbody tr th {\n",
       "        vertical-align: top;\n",
       "    }\n",
       "\n",
       "    .dataframe thead th {\n",
       "        text-align: right;\n",
       "    }\n",
       "</style>\n",
       "<table border=\"1\" class=\"dataframe\">\n",
       "  <thead>\n",
       "    <tr style=\"text-align: right;\">\n",
       "      <th></th>\n",
       "      <th>Touched Date</th>\n",
       "      <th>Utm Medium</th>\n",
       "      <th>Utm Source</th>\n",
       "      <th>Utm Campaign</th>\n",
       "      <th># Demo Occurred</th>\n",
       "      <th># Sales Qualified Opportunity</th>\n",
       "      <th># Closed Won Opportunity</th>\n",
       "    </tr>\n",
       "  </thead>\n",
       "  <tbody>\n",
       "    <tr>\n",
       "      <th>0</th>\n",
       "      <td>2023-10-29</td>\n",
       "      <td>paid-search</td>\n",
       "      <td>google</td>\n",
       "      <td>nam-t1_acq_searchnonbranded_google_search_coun...</td>\n",
       "      <td>2.5</td>\n",
       "      <td>0.0</td>\n",
       "      <td>0.0</td>\n",
       "    </tr>\n",
       "    <tr>\n",
       "      <th>1</th>\n",
       "      <td>2023-10-29</td>\n",
       "      <td>paid-listicle</td>\n",
       "      <td>peoplemanagingpeople</td>\n",
       "      <td>ww_acq_prosp_pmp_paidlist_cadpayroll-pmp-__all</td>\n",
       "      <td>2.5</td>\n",
       "      <td>2.5</td>\n",
       "      <td>0.0</td>\n",
       "    </tr>\n",
       "    <tr>\n",
       "      <th>2</th>\n",
       "      <td>2023-10-29</td>\n",
       "      <td>paid-social</td>\n",
       "      <td>facebook</td>\n",
       "      <td>nam-t1_consider_calculate_fb_image_all-reengag...</td>\n",
       "      <td>2.4</td>\n",
       "      <td>0.0</td>\n",
       "      <td>0.0</td>\n",
       "    </tr>\n",
       "    <tr>\n",
       "      <th>3</th>\n",
       "      <td>2023-10-29</td>\n",
       "      <td>paid-search</td>\n",
       "      <td>google</td>\n",
       "      <td>emea-t1a_acq_searchnonbranded_google_search_pa...</td>\n",
       "      <td>0.0</td>\n",
       "      <td>0.0</td>\n",
       "      <td>0.0</td>\n",
       "    </tr>\n",
       "    <tr>\n",
       "      <th>4</th>\n",
       "      <td>2023-10-29</td>\n",
       "      <td>sponsored-newsletter</td>\n",
       "      <td>hrci</td>\n",
       "      <td>ww_engage_download_hrci_sponnewsletter_hr-hrbu...</td>\n",
       "      <td>0.0</td>\n",
       "      <td>0.0</td>\n",
       "      <td>0.0</td>\n",
       "    </tr>\n",
       "    <tr>\n",
       "      <th>...</th>\n",
       "      <td>...</td>\n",
       "      <td>...</td>\n",
       "      <td>...</td>\n",
       "      <td>...</td>\n",
       "      <td>...</td>\n",
       "      <td>...</td>\n",
       "      <td>...</td>\n",
       "    </tr>\n",
       "    <tr>\n",
       "      <th>11006</th>\n",
       "      <td>2023-06-05</td>\n",
       "      <td>659706244314</td>\n",
       "      <td>149096095629</td>\n",
       "      <td>NaN</td>\n",
       "      <td>1.9</td>\n",
       "      <td>2.5</td>\n",
       "      <td>0.0</td>\n",
       "    </tr>\n",
       "    <tr>\n",
       "      <th>11007</th>\n",
       "      <td>2023-06-05</td>\n",
       "      <td>webinar</td>\n",
       "      <td>webinar</td>\n",
       "      <td>ww_acq_prosp_webinar__defaultcamp--__all</td>\n",
       "      <td>0.0</td>\n",
       "      <td>0.0</td>\n",
       "      <td>0.0</td>\n",
       "    </tr>\n",
       "    <tr>\n",
       "      <th>11008</th>\n",
       "      <td>2023-06-05</td>\n",
       "      <td>cpc</td>\n",
       "      <td>bing</td>\n",
       "      <td>NaN</td>\n",
       "      <td>0.0</td>\n",
       "      <td>0.0</td>\n",
       "      <td>0.0</td>\n",
       "    </tr>\n",
       "    <tr>\n",
       "      <th>11009</th>\n",
       "      <td>2023-06-05</td>\n",
       "      <td>paid-social</td>\n",
       "      <td>facebook</td>\n",
       "      <td>emea-t2_acq_prosp_fb_image_all-cb-__smbmm</td>\n",
       "      <td>3.1</td>\n",
       "      <td>0.0</td>\n",
       "      <td>0.0</td>\n",
       "    </tr>\n",
       "    <tr>\n",
       "      <th>11010</th>\n",
       "      <td>2023-06-05</td>\n",
       "      <td>642450914603</td>\n",
       "      <td>148350216607</td>\n",
       "      <td>NaN</td>\n",
       "      <td>2.5</td>\n",
       "      <td>0.0</td>\n",
       "      <td>0.0</td>\n",
       "    </tr>\n",
       "  </tbody>\n",
       "</table>\n",
       "<p>11011 rows × 7 columns</p>\n",
       "</div>"
      ],
      "text/plain": [
       "      Touched Date            Utm Medium            Utm Source  \\\n",
       "0       2023-10-29           paid-search                google   \n",
       "1       2023-10-29         paid-listicle  peoplemanagingpeople   \n",
       "2       2023-10-29           paid-social              facebook   \n",
       "3       2023-10-29           paid-search                google   \n",
       "4       2023-10-29  sponsored-newsletter                  hrci   \n",
       "...            ...                   ...                   ...   \n",
       "11006   2023-06-05          659706244314          149096095629   \n",
       "11007   2023-06-05               webinar               webinar   \n",
       "11008   2023-06-05                   cpc                  bing   \n",
       "11009   2023-06-05           paid-social              facebook   \n",
       "11010   2023-06-05          642450914603          148350216607   \n",
       "\n",
       "                                            Utm Campaign  # Demo Occurred  \\\n",
       "0      nam-t1_acq_searchnonbranded_google_search_coun...              2.5   \n",
       "1         ww_acq_prosp_pmp_paidlist_cadpayroll-pmp-__all              2.5   \n",
       "2      nam-t1_consider_calculate_fb_image_all-reengag...              2.4   \n",
       "3      emea-t1a_acq_searchnonbranded_google_search_pa...              0.0   \n",
       "4      ww_engage_download_hrci_sponnewsletter_hr-hrbu...              0.0   \n",
       "...                                                  ...              ...   \n",
       "11006                                                NaN              1.9   \n",
       "11007           ww_acq_prosp_webinar__defaultcamp--__all              0.0   \n",
       "11008                                                NaN              0.0   \n",
       "11009          emea-t2_acq_prosp_fb_image_all-cb-__smbmm              3.1   \n",
       "11010                                                NaN              2.5   \n",
       "\n",
       "       # Sales Qualified Opportunity  # Closed Won Opportunity  \n",
       "0                                0.0                       0.0  \n",
       "1                                2.5                       0.0  \n",
       "2                                0.0                       0.0  \n",
       "3                                0.0                       0.0  \n",
       "4                                0.0                       0.0  \n",
       "...                              ...                       ...  \n",
       "11006                            2.5                       0.0  \n",
       "11007                            0.0                       0.0  \n",
       "11008                            0.0                       0.0  \n",
       "11009                            0.0                       0.0  \n",
       "11010                            0.0                       0.0  \n",
       "\n",
       "[11011 rows x 7 columns]"
      ]
     },
     "execution_count": 3,
     "metadata": {},
     "output_type": "execute_result"
    }
   ],
   "source": [
    "conversion = pd.read_csv(\"./../data/conversion_data.csv\")\n",
    "conversion"
   ]
  },
  {
   "cell_type": "markdown",
   "metadata": {},
   "source": [
    "# Task 1: Analyzing Sales Funnel Data"
   ]
  },
  {
   "cell_type": "markdown",
   "metadata": {},
   "source": [
    "## 1) Analyzing Seasonality in Sales:"
   ]
  },
  {
   "cell_type": "code",
   "execution_count": 78,
   "metadata": {},
   "outputs": [],
   "source": [
    "# Convert to datetime and extract the weekday\n",
    "conversion['Touched Date'] = pd.to_datetime(conversion['Touched Date'])\n",
    "conversion['Month'] = conversion['Touched Date'].dt.to_period('M')"
   ]
  },
  {
   "cell_type": "markdown",
   "metadata": {},
   "source": [
    "### By Monthly Level"
   ]
  },
  {
   "cell_type": "code",
   "execution_count": 87,
   "metadata": {},
   "outputs": [
    {
     "data": {
      "application/vnd.plotly.v1+json": {
       "config": {
        "plotlyServerURL": "https://plot.ly"
       },
       "data": [
        {
         "line": {
          "color": "royalblue"
         },
         "mode": "lines+markers",
         "name": "# Demo Occurred",
         "type": "scatter",
         "x": [
          "2023-06",
          "2023-07",
          "2023-08",
          "2023-09",
          "2023-10"
         ],
         "y": [
          3883.8,
          4008.2,
          4017.5,
          3832.6,
          4000.6
         ]
        },
        {
         "line": {
          "color": "royalblue",
          "dash": "dash"
         },
         "mode": "lines",
         "name": "Avg # Demo Occurred",
         "type": "scatter",
         "x": [
          "2023-06",
          "2023-07",
          "2023-08",
          "2023-09",
          "2023-10"
         ],
         "y": [
          3948.54,
          3948.54,
          3948.54,
          3948.54,
          3948.54
         ]
        },
        {
         "line": {
          "color": "firebrick"
         },
         "mode": "lines+markers",
         "name": "# Sales Qualified Opportunity",
         "type": "scatter",
         "x": [
          "2023-06",
          "2023-07",
          "2023-08",
          "2023-09",
          "2023-10"
         ],
         "y": [
          2242.9,
          1953.4,
          2122.1,
          2070.6,
          2143.1
         ]
        },
        {
         "line": {
          "color": "firebrick",
          "dash": "dash"
         },
         "mode": "lines",
         "name": "Avg # Sales Qualified Opportunity",
         "type": "scatter",
         "x": [
          "2023-06",
          "2023-07",
          "2023-08",
          "2023-09",
          "2023-10"
         ],
         "y": [
          2106.42,
          2106.42,
          2106.42,
          2106.42,
          2106.42
         ]
        },
        {
         "line": {
          "color": "green"
         },
         "mode": "lines+markers",
         "name": "# Closed Won Opportunity",
         "type": "scatter",
         "x": [
          "2023-06",
          "2023-07",
          "2023-08",
          "2023-09",
          "2023-10"
         ],
         "y": [
          632.5,
          575.8,
          458.5,
          426.09999999999997,
          254
         ]
        },
        {
         "line": {
          "color": "green",
          "dash": "dash"
         },
         "mode": "lines",
         "name": "Avg # Closed Won Opportunity",
         "type": "scatter",
         "x": [
          "2023-06",
          "2023-07",
          "2023-08",
          "2023-09",
          "2023-10"
         ],
         "y": [
          469.38,
          469.38,
          469.38,
          469.38,
          469.38
         ]
        }
       ],
       "layout": {
        "annotations": [
         {
          "showarrow": false,
          "text": "3883.80 (-1.64% vs avg)",
          "x": "2023-06",
          "y": 4123.8
         },
         {
          "showarrow": false,
          "text": "4008.20 (1.51% vs avg)",
          "x": "2023-07",
          "y": 4248.2
         },
         {
          "showarrow": false,
          "text": "4017.50 (1.75% vs avg)",
          "x": "2023-08",
          "y": 4257.5
         },
         {
          "showarrow": false,
          "text": "3832.60 (-2.94% vs avg)",
          "x": "2023-09",
          "y": 4072.6
         },
         {
          "showarrow": false,
          "text": "4000.60 (1.32% vs avg)",
          "x": "2023-10",
          "y": 4240.6
         },
         {
          "showarrow": false,
          "text": "2242.90 (6.48% vs avg)",
          "x": "2023-06",
          "y": 2482.9
         },
         {
          "showarrow": false,
          "text": "1953.40 (-7.26% vs avg)",
          "x": "2023-07",
          "y": 2193.4
         },
         {
          "showarrow": false,
          "text": "2122.10 (0.74% vs avg)",
          "x": "2023-08",
          "y": 2362.1
         },
         {
          "showarrow": false,
          "text": "2070.60 (-1.70% vs avg)",
          "x": "2023-09",
          "y": 2310.6
         },
         {
          "showarrow": false,
          "text": "2143.10 (1.74% vs avg)",
          "x": "2023-10",
          "y": 2383.1
         },
         {
          "showarrow": false,
          "text": "632.50 (34.75% vs avg)",
          "x": "2023-06",
          "y": 872.5
         },
         {
          "showarrow": false,
          "text": "575.80 (22.67% vs avg)",
          "x": "2023-07",
          "y": 815.8
         },
         {
          "showarrow": false,
          "text": "458.50 (-2.32% vs avg)",
          "x": "2023-08",
          "y": 698.5
         },
         {
          "showarrow": false,
          "text": "426.10 (-9.22% vs avg)",
          "x": "2023-09",
          "y": 666.0999999999999
         },
         {
          "showarrow": false,
          "text": "254.00 (-45.89% vs avg)",
          "x": "2023-10",
          "y": 494
         }
        ],
        "height": 600,
        "plot_bgcolor": "white",
        "template": {
         "data": {
          "bar": [
           {
            "error_x": {
             "color": "#2a3f5f"
            },
            "error_y": {
             "color": "#2a3f5f"
            },
            "marker": {
             "line": {
              "color": "#E5ECF6",
              "width": 0.5
             },
             "pattern": {
              "fillmode": "overlay",
              "size": 10,
              "solidity": 0.2
             }
            },
            "type": "bar"
           }
          ],
          "barpolar": [
           {
            "marker": {
             "line": {
              "color": "#E5ECF6",
              "width": 0.5
             },
             "pattern": {
              "fillmode": "overlay",
              "size": 10,
              "solidity": 0.2
             }
            },
            "type": "barpolar"
           }
          ],
          "carpet": [
           {
            "aaxis": {
             "endlinecolor": "#2a3f5f",
             "gridcolor": "white",
             "linecolor": "white",
             "minorgridcolor": "white",
             "startlinecolor": "#2a3f5f"
            },
            "baxis": {
             "endlinecolor": "#2a3f5f",
             "gridcolor": "white",
             "linecolor": "white",
             "minorgridcolor": "white",
             "startlinecolor": "#2a3f5f"
            },
            "type": "carpet"
           }
          ],
          "choropleth": [
           {
            "colorbar": {
             "outlinewidth": 0,
             "ticks": ""
            },
            "type": "choropleth"
           }
          ],
          "contour": [
           {
            "colorbar": {
             "outlinewidth": 0,
             "ticks": ""
            },
            "colorscale": [
             [
              0,
              "#0d0887"
             ],
             [
              0.1111111111111111,
              "#46039f"
             ],
             [
              0.2222222222222222,
              "#7201a8"
             ],
             [
              0.3333333333333333,
              "#9c179e"
             ],
             [
              0.4444444444444444,
              "#bd3786"
             ],
             [
              0.5555555555555556,
              "#d8576b"
             ],
             [
              0.6666666666666666,
              "#ed7953"
             ],
             [
              0.7777777777777778,
              "#fb9f3a"
             ],
             [
              0.8888888888888888,
              "#fdca26"
             ],
             [
              1,
              "#f0f921"
             ]
            ],
            "type": "contour"
           }
          ],
          "contourcarpet": [
           {
            "colorbar": {
             "outlinewidth": 0,
             "ticks": ""
            },
            "type": "contourcarpet"
           }
          ],
          "heatmap": [
           {
            "colorbar": {
             "outlinewidth": 0,
             "ticks": ""
            },
            "colorscale": [
             [
              0,
              "#0d0887"
             ],
             [
              0.1111111111111111,
              "#46039f"
             ],
             [
              0.2222222222222222,
              "#7201a8"
             ],
             [
              0.3333333333333333,
              "#9c179e"
             ],
             [
              0.4444444444444444,
              "#bd3786"
             ],
             [
              0.5555555555555556,
              "#d8576b"
             ],
             [
              0.6666666666666666,
              "#ed7953"
             ],
             [
              0.7777777777777778,
              "#fb9f3a"
             ],
             [
              0.8888888888888888,
              "#fdca26"
             ],
             [
              1,
              "#f0f921"
             ]
            ],
            "type": "heatmap"
           }
          ],
          "heatmapgl": [
           {
            "colorbar": {
             "outlinewidth": 0,
             "ticks": ""
            },
            "colorscale": [
             [
              0,
              "#0d0887"
             ],
             [
              0.1111111111111111,
              "#46039f"
             ],
             [
              0.2222222222222222,
              "#7201a8"
             ],
             [
              0.3333333333333333,
              "#9c179e"
             ],
             [
              0.4444444444444444,
              "#bd3786"
             ],
             [
              0.5555555555555556,
              "#d8576b"
             ],
             [
              0.6666666666666666,
              "#ed7953"
             ],
             [
              0.7777777777777778,
              "#fb9f3a"
             ],
             [
              0.8888888888888888,
              "#fdca26"
             ],
             [
              1,
              "#f0f921"
             ]
            ],
            "type": "heatmapgl"
           }
          ],
          "histogram": [
           {
            "marker": {
             "pattern": {
              "fillmode": "overlay",
              "size": 10,
              "solidity": 0.2
             }
            },
            "type": "histogram"
           }
          ],
          "histogram2d": [
           {
            "colorbar": {
             "outlinewidth": 0,
             "ticks": ""
            },
            "colorscale": [
             [
              0,
              "#0d0887"
             ],
             [
              0.1111111111111111,
              "#46039f"
             ],
             [
              0.2222222222222222,
              "#7201a8"
             ],
             [
              0.3333333333333333,
              "#9c179e"
             ],
             [
              0.4444444444444444,
              "#bd3786"
             ],
             [
              0.5555555555555556,
              "#d8576b"
             ],
             [
              0.6666666666666666,
              "#ed7953"
             ],
             [
              0.7777777777777778,
              "#fb9f3a"
             ],
             [
              0.8888888888888888,
              "#fdca26"
             ],
             [
              1,
              "#f0f921"
             ]
            ],
            "type": "histogram2d"
           }
          ],
          "histogram2dcontour": [
           {
            "colorbar": {
             "outlinewidth": 0,
             "ticks": ""
            },
            "colorscale": [
             [
              0,
              "#0d0887"
             ],
             [
              0.1111111111111111,
              "#46039f"
             ],
             [
              0.2222222222222222,
              "#7201a8"
             ],
             [
              0.3333333333333333,
              "#9c179e"
             ],
             [
              0.4444444444444444,
              "#bd3786"
             ],
             [
              0.5555555555555556,
              "#d8576b"
             ],
             [
              0.6666666666666666,
              "#ed7953"
             ],
             [
              0.7777777777777778,
              "#fb9f3a"
             ],
             [
              0.8888888888888888,
              "#fdca26"
             ],
             [
              1,
              "#f0f921"
             ]
            ],
            "type": "histogram2dcontour"
           }
          ],
          "mesh3d": [
           {
            "colorbar": {
             "outlinewidth": 0,
             "ticks": ""
            },
            "type": "mesh3d"
           }
          ],
          "parcoords": [
           {
            "line": {
             "colorbar": {
              "outlinewidth": 0,
              "ticks": ""
             }
            },
            "type": "parcoords"
           }
          ],
          "pie": [
           {
            "automargin": true,
            "type": "pie"
           }
          ],
          "scatter": [
           {
            "fillpattern": {
             "fillmode": "overlay",
             "size": 10,
             "solidity": 0.2
            },
            "type": "scatter"
           }
          ],
          "scatter3d": [
           {
            "line": {
             "colorbar": {
              "outlinewidth": 0,
              "ticks": ""
             }
            },
            "marker": {
             "colorbar": {
              "outlinewidth": 0,
              "ticks": ""
             }
            },
            "type": "scatter3d"
           }
          ],
          "scattercarpet": [
           {
            "marker": {
             "colorbar": {
              "outlinewidth": 0,
              "ticks": ""
             }
            },
            "type": "scattercarpet"
           }
          ],
          "scattergeo": [
           {
            "marker": {
             "colorbar": {
              "outlinewidth": 0,
              "ticks": ""
             }
            },
            "type": "scattergeo"
           }
          ],
          "scattergl": [
           {
            "marker": {
             "colorbar": {
              "outlinewidth": 0,
              "ticks": ""
             }
            },
            "type": "scattergl"
           }
          ],
          "scattermapbox": [
           {
            "marker": {
             "colorbar": {
              "outlinewidth": 0,
              "ticks": ""
             }
            },
            "type": "scattermapbox"
           }
          ],
          "scatterpolar": [
           {
            "marker": {
             "colorbar": {
              "outlinewidth": 0,
              "ticks": ""
             }
            },
            "type": "scatterpolar"
           }
          ],
          "scatterpolargl": [
           {
            "marker": {
             "colorbar": {
              "outlinewidth": 0,
              "ticks": ""
             }
            },
            "type": "scatterpolargl"
           }
          ],
          "scatterternary": [
           {
            "marker": {
             "colorbar": {
              "outlinewidth": 0,
              "ticks": ""
             }
            },
            "type": "scatterternary"
           }
          ],
          "surface": [
           {
            "colorbar": {
             "outlinewidth": 0,
             "ticks": ""
            },
            "colorscale": [
             [
              0,
              "#0d0887"
             ],
             [
              0.1111111111111111,
              "#46039f"
             ],
             [
              0.2222222222222222,
              "#7201a8"
             ],
             [
              0.3333333333333333,
              "#9c179e"
             ],
             [
              0.4444444444444444,
              "#bd3786"
             ],
             [
              0.5555555555555556,
              "#d8576b"
             ],
             [
              0.6666666666666666,
              "#ed7953"
             ],
             [
              0.7777777777777778,
              "#fb9f3a"
             ],
             [
              0.8888888888888888,
              "#fdca26"
             ],
             [
              1,
              "#f0f921"
             ]
            ],
            "type": "surface"
           }
          ],
          "table": [
           {
            "cells": {
             "fill": {
              "color": "#EBF0F8"
             },
             "line": {
              "color": "white"
             }
            },
            "header": {
             "fill": {
              "color": "#C8D4E3"
             },
             "line": {
              "color": "white"
             }
            },
            "type": "table"
           }
          ]
         },
         "layout": {
          "annotationdefaults": {
           "arrowcolor": "#2a3f5f",
           "arrowhead": 0,
           "arrowwidth": 1
          },
          "autotypenumbers": "strict",
          "coloraxis": {
           "colorbar": {
            "outlinewidth": 0,
            "ticks": ""
           }
          },
          "colorscale": {
           "diverging": [
            [
             0,
             "#8e0152"
            ],
            [
             0.1,
             "#c51b7d"
            ],
            [
             0.2,
             "#de77ae"
            ],
            [
             0.3,
             "#f1b6da"
            ],
            [
             0.4,
             "#fde0ef"
            ],
            [
             0.5,
             "#f7f7f7"
            ],
            [
             0.6,
             "#e6f5d0"
            ],
            [
             0.7,
             "#b8e186"
            ],
            [
             0.8,
             "#7fbc41"
            ],
            [
             0.9,
             "#4d9221"
            ],
            [
             1,
             "#276419"
            ]
           ],
           "sequential": [
            [
             0,
             "#0d0887"
            ],
            [
             0.1111111111111111,
             "#46039f"
            ],
            [
             0.2222222222222222,
             "#7201a8"
            ],
            [
             0.3333333333333333,
             "#9c179e"
            ],
            [
             0.4444444444444444,
             "#bd3786"
            ],
            [
             0.5555555555555556,
             "#d8576b"
            ],
            [
             0.6666666666666666,
             "#ed7953"
            ],
            [
             0.7777777777777778,
             "#fb9f3a"
            ],
            [
             0.8888888888888888,
             "#fdca26"
            ],
            [
             1,
             "#f0f921"
            ]
           ],
           "sequentialminus": [
            [
             0,
             "#0d0887"
            ],
            [
             0.1111111111111111,
             "#46039f"
            ],
            [
             0.2222222222222222,
             "#7201a8"
            ],
            [
             0.3333333333333333,
             "#9c179e"
            ],
            [
             0.4444444444444444,
             "#bd3786"
            ],
            [
             0.5555555555555556,
             "#d8576b"
            ],
            [
             0.6666666666666666,
             "#ed7953"
            ],
            [
             0.7777777777777778,
             "#fb9f3a"
            ],
            [
             0.8888888888888888,
             "#fdca26"
            ],
            [
             1,
             "#f0f921"
            ]
           ]
          },
          "colorway": [
           "#636efa",
           "#EF553B",
           "#00cc96",
           "#ab63fa",
           "#FFA15A",
           "#19d3f3",
           "#FF6692",
           "#B6E880",
           "#FF97FF",
           "#FECB52"
          ],
          "font": {
           "color": "#2a3f5f"
          },
          "geo": {
           "bgcolor": "white",
           "lakecolor": "white",
           "landcolor": "#E5ECF6",
           "showlakes": true,
           "showland": true,
           "subunitcolor": "white"
          },
          "hoverlabel": {
           "align": "left"
          },
          "hovermode": "closest",
          "mapbox": {
           "style": "light"
          },
          "paper_bgcolor": "white",
          "plot_bgcolor": "#E5ECF6",
          "polar": {
           "angularaxis": {
            "gridcolor": "white",
            "linecolor": "white",
            "ticks": ""
           },
           "bgcolor": "#E5ECF6",
           "radialaxis": {
            "gridcolor": "white",
            "linecolor": "white",
            "ticks": ""
           }
          },
          "scene": {
           "xaxis": {
            "backgroundcolor": "#E5ECF6",
            "gridcolor": "white",
            "gridwidth": 2,
            "linecolor": "white",
            "showbackground": true,
            "ticks": "",
            "zerolinecolor": "white"
           },
           "yaxis": {
            "backgroundcolor": "#E5ECF6",
            "gridcolor": "white",
            "gridwidth": 2,
            "linecolor": "white",
            "showbackground": true,
            "ticks": "",
            "zerolinecolor": "white"
           },
           "zaxis": {
            "backgroundcolor": "#E5ECF6",
            "gridcolor": "white",
            "gridwidth": 2,
            "linecolor": "white",
            "showbackground": true,
            "ticks": "",
            "zerolinecolor": "white"
           }
          },
          "shapedefaults": {
           "line": {
            "color": "#2a3f5f"
           }
          },
          "ternary": {
           "aaxis": {
            "gridcolor": "white",
            "linecolor": "white",
            "ticks": ""
           },
           "baxis": {
            "gridcolor": "white",
            "linecolor": "white",
            "ticks": ""
           },
           "bgcolor": "#E5ECF6",
           "caxis": {
            "gridcolor": "white",
            "linecolor": "white",
            "ticks": ""
           }
          },
          "title": {
           "x": 0.05
          },
          "xaxis": {
           "automargin": true,
           "gridcolor": "white",
           "linecolor": "white",
           "ticks": "",
           "title": {
            "standoff": 15
           },
           "zerolinecolor": "white",
           "zerolinewidth": 2
          },
          "yaxis": {
           "automargin": true,
           "gridcolor": "white",
           "linecolor": "white",
           "ticks": "",
           "title": {
            "standoff": 15
           },
           "zerolinecolor": "white",
           "zerolinewidth": 2
          }
         }
        },
        "title": {
         "text": "Monthly Trends of Conversion Metrics"
        },
        "xaxis": {
         "title": {
          "text": "Months"
         }
        },
        "yaxis": {
         "title": {
          "text": "Metric Values"
         }
        }
       }
      }
     },
     "metadata": {},
     "output_type": "display_data"
    }
   ],
   "source": [
    "\n",
    " \n",
    "avg_demo = monthly_data['# Demo Occurred'].mean()\n",
    "avg_sqo = monthly_data['# Sales Qualified Opportunity'].mean()\n",
    "avg_cwo = monthly_data['# Closed Won Opportunity'].mean()\n",
    "\n",
    " \n",
    "monthly_data['Demo % Diff'] = ((monthly_data['# Demo Occurred'] / avg_demo) - 1) * 100\n",
    "monthly_data['SQO % Diff'] = ((monthly_data['# Sales Qualified Opportunity'] / avg_sqo) - 1) * 100\n",
    "monthly_data['CWO % Diff'] = ((monthly_data['# Closed Won Opportunity'] / avg_cwo) - 1) * 100\n",
    "\n",
    " \n",
    "months = monthly_data['Month'].tolist()\n",
    "demo_values = monthly_data['# Demo Occurred'].tolist()\n",
    "sqo_values = monthly_data['# Sales Qualified Opportunity'].tolist()\n",
    "cwo_values = monthly_data['# Closed Won Opportunity'].tolist()\n",
    "demo_diff = monthly_data['Demo % Diff'].tolist()\n",
    "sqo_diff = monthly_data['SQO % Diff'].tolist()\n",
    "cwo_diff = monthly_data['CWO % Diff'].tolist()\n",
    "\n",
    " \n",
    "fig = go.Figure()  \n",
    "fig.add_trace(go.Scatter(x=months, y=demo_values,\n",
    "                         mode='lines+markers',\n",
    "                         name='# Demo Occurred',\n",
    "                         line=dict(color='royalblue')))\n",
    "\n",
    "# average line \n",
    "fig.add_trace(go.Scatter(x=months, y=[avg_demo] * len(months),\n",
    "                         mode='lines',\n",
    "                         name='Avg # Demo Occurred',\n",
    "                         line=dict(color='royalblue', dash='dash')))\n",
    "\n",
    " \n",
    "for i, (month, demo_val, demo_d) in enumerate(zip(months, demo_values, demo_diff)):\n",
    "    fig.add_annotation(x=month, y=demo_val + 240,\n",
    "                       text=f\"{demo_val:.2f} ({demo_d:.2f}% vs avg)\",\n",
    "                       showarrow=False)\n",
    "\n",
    "fig.add_trace(go.Scatter(x=months, y=sqo_values,\n",
    "                         mode='lines+markers',\n",
    "                         name='# Sales Qualified Opportunity',\n",
    "                         line=dict(color='firebrick')))\n",
    "\n",
    "# average line  \n",
    "fig.add_trace(go.Scatter(x=months, y=[avg_sqo] * len(months),\n",
    "                         mode='lines',\n",
    "                         name='Avg # Sales Qualified Opportunity',\n",
    "                         line=dict(color='firebrick', dash='dash')))\n",
    "\n",
    " \n",
    "for i, (month, sqo_val, sqo_d) in enumerate(zip(months, sqo_values, sqo_diff)):\n",
    "    fig.add_annotation(x=month, y=sqo_val + 240,\n",
    "                       text=f\"{sqo_val:.2f} ({sqo_d:.2f}% vs avg)\",\n",
    "                       showarrow=False)\n",
    "\n",
    "fig.add_trace(go.Scatter(x=months, y=cwo_values,\n",
    "                         mode='lines+markers',\n",
    "                         name='# Closed Won Opportunity',\n",
    "                         line=dict(color='green')))\n",
    "\n",
    " # average line \n",
    "fig.add_trace(go.Scatter(x=months, y=[avg_cwo] * len(months),\n",
    "                         mode='lines',\n",
    "                         name='Avg # Closed Won Opportunity',\n",
    "                         line=dict(color='green', dash='dash')))\n",
    "\n",
    " \n",
    "for i, (month, cwo_val, cwo_d) in enumerate(zip(months, cwo_values, cwo_diff)):\n",
    "    fig.add_annotation(x=month, y=cwo_val + 240,\n",
    "                       text=f\"{cwo_val:.2f} ({cwo_d:.2f}% vs avg)\",\n",
    "                       showarrow=False)\n",
    " \n",
    "fig.update_layout(title='Monthly Trends of Conversion Metrics',\n",
    "                  xaxis_title='Months',\n",
    "                  yaxis_title='Metric Values',\n",
    "                  plot_bgcolor='white',\n",
    "                  height=600)   \n",
    "fig.show()\n"
   ]
  },
  {
   "cell_type": "markdown",
   "metadata": {},
   "source": [
    ">__Demo Occurrences__: This metric shows good stability (small variability vs average), indicating a consistency on the initial engagement.\n",
    "\n",
    ">__Sales Qualified Opportunities__: Similar to Demo Occurrences.\n",
    "\n",
    ">__Closed Won Opportunities__: There's a noticeable decline trend. Specially in the last months. More information should be dig to find out why and where the decline is happening."
   ]
  },
  {
   "cell_type": "markdown",
   "metadata": {},
   "source": [
    "## Funnel"
   ]
  },
  {
   "cell_type": "code",
   "execution_count": 75,
   "metadata": {},
   "outputs": [
    {
     "data": {
      "text/html": [
       "<div>\n",
       "<style scoped>\n",
       "    .dataframe tbody tr th:only-of-type {\n",
       "        vertical-align: middle;\n",
       "    }\n",
       "\n",
       "    .dataframe tbody tr th {\n",
       "        vertical-align: top;\n",
       "    }\n",
       "\n",
       "    .dataframe thead th {\n",
       "        text-align: right;\n",
       "    }\n",
       "</style>\n",
       "<table border=\"1\" class=\"dataframe\">\n",
       "  <thead>\n",
       "    <tr style=\"text-align: right;\">\n",
       "      <th></th>\n",
       "      <th>Month</th>\n",
       "      <th># Demo Occurred</th>\n",
       "      <th># Sales Qualified Opportunity</th>\n",
       "      <th># Closed Won Opportunity</th>\n",
       "    </tr>\n",
       "  </thead>\n",
       "  <tbody>\n",
       "    <tr>\n",
       "      <th>0</th>\n",
       "      <td>2023-06</td>\n",
       "      <td>3883.8</td>\n",
       "      <td>2242.9</td>\n",
       "      <td>632.5</td>\n",
       "    </tr>\n",
       "    <tr>\n",
       "      <th>1</th>\n",
       "      <td>2023-07</td>\n",
       "      <td>4008.2</td>\n",
       "      <td>1953.4</td>\n",
       "      <td>575.8</td>\n",
       "    </tr>\n",
       "    <tr>\n",
       "      <th>2</th>\n",
       "      <td>2023-08</td>\n",
       "      <td>4017.5</td>\n",
       "      <td>2122.1</td>\n",
       "      <td>458.5</td>\n",
       "    </tr>\n",
       "    <tr>\n",
       "      <th>3</th>\n",
       "      <td>2023-09</td>\n",
       "      <td>3832.6</td>\n",
       "      <td>2070.6</td>\n",
       "      <td>426.1</td>\n",
       "    </tr>\n",
       "    <tr>\n",
       "      <th>4</th>\n",
       "      <td>2023-10</td>\n",
       "      <td>4000.6</td>\n",
       "      <td>2143.1</td>\n",
       "      <td>254.0</td>\n",
       "    </tr>\n",
       "  </tbody>\n",
       "</table>\n",
       "</div>"
      ],
      "text/plain": [
       "     Month  # Demo Occurred  # Sales Qualified Opportunity  \\\n",
       "0  2023-06           3883.8                         2242.9   \n",
       "1  2023-07           4008.2                         1953.4   \n",
       "2  2023-08           4017.5                         2122.1   \n",
       "3  2023-09           3832.6                         2070.6   \n",
       "4  2023-10           4000.6                         2143.1   \n",
       "\n",
       "   # Closed Won Opportunity  \n",
       "0                     632.5  \n",
       "1                     575.8  \n",
       "2                     458.5  \n",
       "3                     426.1  \n",
       "4                     254.0  "
      ]
     },
     "execution_count": 75,
     "metadata": {},
     "output_type": "execute_result"
    }
   ],
   "source": [
    "\n",
    "\n",
    "\n",
    "# Aggregate data by month\n",
    "monthly_data = conversion.groupby('Month').agg({\n",
    "    '# Demo Occurred': 'sum',\n",
    "    '# Sales Qualified Opportunity': 'sum',\n",
    "    '# Closed Won Opportunity': 'sum'\n",
    "}).reset_index()\n",
    "monthly_data"
   ]
  },
  {
   "cell_type": "code",
   "execution_count": 77,
   "metadata": {},
   "outputs": [
    {
     "data": {
      "application/vnd.plotly.v1+json": {
       "config": {
        "plotlyServerURL": "https://plot.ly"
       },
       "data": [
        {
         "name": "2023-06",
         "textinfo": "value+percent initial",
         "type": "funnel",
         "x": [
          3883.8,
          2242.9,
          632.5
         ],
         "y": [
          "# Demo Occurred",
          "# Sales Qualified Opportunity",
          "# Closed Won Opportunity"
         ]
        },
        {
         "name": "2023-07",
         "textinfo": "value+percent initial",
         "type": "funnel",
         "x": [
          4008.2,
          1953.4,
          575.8
         ],
         "y": [
          "# Demo Occurred",
          "# Sales Qualified Opportunity",
          "# Closed Won Opportunity"
         ]
        },
        {
         "name": "2023-08",
         "textinfo": "value+percent initial",
         "type": "funnel",
         "x": [
          4017.5,
          2122.1,
          458.5
         ],
         "y": [
          "# Demo Occurred",
          "# Sales Qualified Opportunity",
          "# Closed Won Opportunity"
         ]
        },
        {
         "name": "2023-09",
         "textinfo": "value+percent initial",
         "type": "funnel",
         "x": [
          3832.6,
          2070.6,
          426.09999999999997
         ],
         "y": [
          "# Demo Occurred",
          "# Sales Qualified Opportunity",
          "# Closed Won Opportunity"
         ]
        },
        {
         "name": "2023-10",
         "textinfo": "value+percent initial",
         "type": "funnel",
         "x": [
          4000.6,
          2143.1,
          254
         ],
         "y": [
          "# Demo Occurred",
          "# Sales Qualified Opportunity",
          "# Closed Won Opportunity"
         ]
        }
       ],
       "layout": {
        "template": {
         "data": {
          "bar": [
           {
            "error_x": {
             "color": "#2a3f5f"
            },
            "error_y": {
             "color": "#2a3f5f"
            },
            "marker": {
             "line": {
              "color": "#E5ECF6",
              "width": 0.5
             },
             "pattern": {
              "fillmode": "overlay",
              "size": 10,
              "solidity": 0.2
             }
            },
            "type": "bar"
           }
          ],
          "barpolar": [
           {
            "marker": {
             "line": {
              "color": "#E5ECF6",
              "width": 0.5
             },
             "pattern": {
              "fillmode": "overlay",
              "size": 10,
              "solidity": 0.2
             }
            },
            "type": "barpolar"
           }
          ],
          "carpet": [
           {
            "aaxis": {
             "endlinecolor": "#2a3f5f",
             "gridcolor": "white",
             "linecolor": "white",
             "minorgridcolor": "white",
             "startlinecolor": "#2a3f5f"
            },
            "baxis": {
             "endlinecolor": "#2a3f5f",
             "gridcolor": "white",
             "linecolor": "white",
             "minorgridcolor": "white",
             "startlinecolor": "#2a3f5f"
            },
            "type": "carpet"
           }
          ],
          "choropleth": [
           {
            "colorbar": {
             "outlinewidth": 0,
             "ticks": ""
            },
            "type": "choropleth"
           }
          ],
          "contour": [
           {
            "colorbar": {
             "outlinewidth": 0,
             "ticks": ""
            },
            "colorscale": [
             [
              0,
              "#0d0887"
             ],
             [
              0.1111111111111111,
              "#46039f"
             ],
             [
              0.2222222222222222,
              "#7201a8"
             ],
             [
              0.3333333333333333,
              "#9c179e"
             ],
             [
              0.4444444444444444,
              "#bd3786"
             ],
             [
              0.5555555555555556,
              "#d8576b"
             ],
             [
              0.6666666666666666,
              "#ed7953"
             ],
             [
              0.7777777777777778,
              "#fb9f3a"
             ],
             [
              0.8888888888888888,
              "#fdca26"
             ],
             [
              1,
              "#f0f921"
             ]
            ],
            "type": "contour"
           }
          ],
          "contourcarpet": [
           {
            "colorbar": {
             "outlinewidth": 0,
             "ticks": ""
            },
            "type": "contourcarpet"
           }
          ],
          "heatmap": [
           {
            "colorbar": {
             "outlinewidth": 0,
             "ticks": ""
            },
            "colorscale": [
             [
              0,
              "#0d0887"
             ],
             [
              0.1111111111111111,
              "#46039f"
             ],
             [
              0.2222222222222222,
              "#7201a8"
             ],
             [
              0.3333333333333333,
              "#9c179e"
             ],
             [
              0.4444444444444444,
              "#bd3786"
             ],
             [
              0.5555555555555556,
              "#d8576b"
             ],
             [
              0.6666666666666666,
              "#ed7953"
             ],
             [
              0.7777777777777778,
              "#fb9f3a"
             ],
             [
              0.8888888888888888,
              "#fdca26"
             ],
             [
              1,
              "#f0f921"
             ]
            ],
            "type": "heatmap"
           }
          ],
          "heatmapgl": [
           {
            "colorbar": {
             "outlinewidth": 0,
             "ticks": ""
            },
            "colorscale": [
             [
              0,
              "#0d0887"
             ],
             [
              0.1111111111111111,
              "#46039f"
             ],
             [
              0.2222222222222222,
              "#7201a8"
             ],
             [
              0.3333333333333333,
              "#9c179e"
             ],
             [
              0.4444444444444444,
              "#bd3786"
             ],
             [
              0.5555555555555556,
              "#d8576b"
             ],
             [
              0.6666666666666666,
              "#ed7953"
             ],
             [
              0.7777777777777778,
              "#fb9f3a"
             ],
             [
              0.8888888888888888,
              "#fdca26"
             ],
             [
              1,
              "#f0f921"
             ]
            ],
            "type": "heatmapgl"
           }
          ],
          "histogram": [
           {
            "marker": {
             "pattern": {
              "fillmode": "overlay",
              "size": 10,
              "solidity": 0.2
             }
            },
            "type": "histogram"
           }
          ],
          "histogram2d": [
           {
            "colorbar": {
             "outlinewidth": 0,
             "ticks": ""
            },
            "colorscale": [
             [
              0,
              "#0d0887"
             ],
             [
              0.1111111111111111,
              "#46039f"
             ],
             [
              0.2222222222222222,
              "#7201a8"
             ],
             [
              0.3333333333333333,
              "#9c179e"
             ],
             [
              0.4444444444444444,
              "#bd3786"
             ],
             [
              0.5555555555555556,
              "#d8576b"
             ],
             [
              0.6666666666666666,
              "#ed7953"
             ],
             [
              0.7777777777777778,
              "#fb9f3a"
             ],
             [
              0.8888888888888888,
              "#fdca26"
             ],
             [
              1,
              "#f0f921"
             ]
            ],
            "type": "histogram2d"
           }
          ],
          "histogram2dcontour": [
           {
            "colorbar": {
             "outlinewidth": 0,
             "ticks": ""
            },
            "colorscale": [
             [
              0,
              "#0d0887"
             ],
             [
              0.1111111111111111,
              "#46039f"
             ],
             [
              0.2222222222222222,
              "#7201a8"
             ],
             [
              0.3333333333333333,
              "#9c179e"
             ],
             [
              0.4444444444444444,
              "#bd3786"
             ],
             [
              0.5555555555555556,
              "#d8576b"
             ],
             [
              0.6666666666666666,
              "#ed7953"
             ],
             [
              0.7777777777777778,
              "#fb9f3a"
             ],
             [
              0.8888888888888888,
              "#fdca26"
             ],
             [
              1,
              "#f0f921"
             ]
            ],
            "type": "histogram2dcontour"
           }
          ],
          "mesh3d": [
           {
            "colorbar": {
             "outlinewidth": 0,
             "ticks": ""
            },
            "type": "mesh3d"
           }
          ],
          "parcoords": [
           {
            "line": {
             "colorbar": {
              "outlinewidth": 0,
              "ticks": ""
             }
            },
            "type": "parcoords"
           }
          ],
          "pie": [
           {
            "automargin": true,
            "type": "pie"
           }
          ],
          "scatter": [
           {
            "fillpattern": {
             "fillmode": "overlay",
             "size": 10,
             "solidity": 0.2
            },
            "type": "scatter"
           }
          ],
          "scatter3d": [
           {
            "line": {
             "colorbar": {
              "outlinewidth": 0,
              "ticks": ""
             }
            },
            "marker": {
             "colorbar": {
              "outlinewidth": 0,
              "ticks": ""
             }
            },
            "type": "scatter3d"
           }
          ],
          "scattercarpet": [
           {
            "marker": {
             "colorbar": {
              "outlinewidth": 0,
              "ticks": ""
             }
            },
            "type": "scattercarpet"
           }
          ],
          "scattergeo": [
           {
            "marker": {
             "colorbar": {
              "outlinewidth": 0,
              "ticks": ""
             }
            },
            "type": "scattergeo"
           }
          ],
          "scattergl": [
           {
            "marker": {
             "colorbar": {
              "outlinewidth": 0,
              "ticks": ""
             }
            },
            "type": "scattergl"
           }
          ],
          "scattermapbox": [
           {
            "marker": {
             "colorbar": {
              "outlinewidth": 0,
              "ticks": ""
             }
            },
            "type": "scattermapbox"
           }
          ],
          "scatterpolar": [
           {
            "marker": {
             "colorbar": {
              "outlinewidth": 0,
              "ticks": ""
             }
            },
            "type": "scatterpolar"
           }
          ],
          "scatterpolargl": [
           {
            "marker": {
             "colorbar": {
              "outlinewidth": 0,
              "ticks": ""
             }
            },
            "type": "scatterpolargl"
           }
          ],
          "scatterternary": [
           {
            "marker": {
             "colorbar": {
              "outlinewidth": 0,
              "ticks": ""
             }
            },
            "type": "scatterternary"
           }
          ],
          "surface": [
           {
            "colorbar": {
             "outlinewidth": 0,
             "ticks": ""
            },
            "colorscale": [
             [
              0,
              "#0d0887"
             ],
             [
              0.1111111111111111,
              "#46039f"
             ],
             [
              0.2222222222222222,
              "#7201a8"
             ],
             [
              0.3333333333333333,
              "#9c179e"
             ],
             [
              0.4444444444444444,
              "#bd3786"
             ],
             [
              0.5555555555555556,
              "#d8576b"
             ],
             [
              0.6666666666666666,
              "#ed7953"
             ],
             [
              0.7777777777777778,
              "#fb9f3a"
             ],
             [
              0.8888888888888888,
              "#fdca26"
             ],
             [
              1,
              "#f0f921"
             ]
            ],
            "type": "surface"
           }
          ],
          "table": [
           {
            "cells": {
             "fill": {
              "color": "#EBF0F8"
             },
             "line": {
              "color": "white"
             }
            },
            "header": {
             "fill": {
              "color": "#C8D4E3"
             },
             "line": {
              "color": "white"
             }
            },
            "type": "table"
           }
          ]
         },
         "layout": {
          "annotationdefaults": {
           "arrowcolor": "#2a3f5f",
           "arrowhead": 0,
           "arrowwidth": 1
          },
          "autotypenumbers": "strict",
          "coloraxis": {
           "colorbar": {
            "outlinewidth": 0,
            "ticks": ""
           }
          },
          "colorscale": {
           "diverging": [
            [
             0,
             "#8e0152"
            ],
            [
             0.1,
             "#c51b7d"
            ],
            [
             0.2,
             "#de77ae"
            ],
            [
             0.3,
             "#f1b6da"
            ],
            [
             0.4,
             "#fde0ef"
            ],
            [
             0.5,
             "#f7f7f7"
            ],
            [
             0.6,
             "#e6f5d0"
            ],
            [
             0.7,
             "#b8e186"
            ],
            [
             0.8,
             "#7fbc41"
            ],
            [
             0.9,
             "#4d9221"
            ],
            [
             1,
             "#276419"
            ]
           ],
           "sequential": [
            [
             0,
             "#0d0887"
            ],
            [
             0.1111111111111111,
             "#46039f"
            ],
            [
             0.2222222222222222,
             "#7201a8"
            ],
            [
             0.3333333333333333,
             "#9c179e"
            ],
            [
             0.4444444444444444,
             "#bd3786"
            ],
            [
             0.5555555555555556,
             "#d8576b"
            ],
            [
             0.6666666666666666,
             "#ed7953"
            ],
            [
             0.7777777777777778,
             "#fb9f3a"
            ],
            [
             0.8888888888888888,
             "#fdca26"
            ],
            [
             1,
             "#f0f921"
            ]
           ],
           "sequentialminus": [
            [
             0,
             "#0d0887"
            ],
            [
             0.1111111111111111,
             "#46039f"
            ],
            [
             0.2222222222222222,
             "#7201a8"
            ],
            [
             0.3333333333333333,
             "#9c179e"
            ],
            [
             0.4444444444444444,
             "#bd3786"
            ],
            [
             0.5555555555555556,
             "#d8576b"
            ],
            [
             0.6666666666666666,
             "#ed7953"
            ],
            [
             0.7777777777777778,
             "#fb9f3a"
            ],
            [
             0.8888888888888888,
             "#fdca26"
            ],
            [
             1,
             "#f0f921"
            ]
           ]
          },
          "colorway": [
           "#636efa",
           "#EF553B",
           "#00cc96",
           "#ab63fa",
           "#FFA15A",
           "#19d3f3",
           "#FF6692",
           "#B6E880",
           "#FF97FF",
           "#FECB52"
          ],
          "font": {
           "color": "#2a3f5f"
          },
          "geo": {
           "bgcolor": "white",
           "lakecolor": "white",
           "landcolor": "#E5ECF6",
           "showlakes": true,
           "showland": true,
           "subunitcolor": "white"
          },
          "hoverlabel": {
           "align": "left"
          },
          "hovermode": "closest",
          "mapbox": {
           "style": "light"
          },
          "paper_bgcolor": "white",
          "plot_bgcolor": "#E5ECF6",
          "polar": {
           "angularaxis": {
            "gridcolor": "white",
            "linecolor": "white",
            "ticks": ""
           },
           "bgcolor": "#E5ECF6",
           "radialaxis": {
            "gridcolor": "white",
            "linecolor": "white",
            "ticks": ""
           }
          },
          "scene": {
           "xaxis": {
            "backgroundcolor": "#E5ECF6",
            "gridcolor": "white",
            "gridwidth": 2,
            "linecolor": "white",
            "showbackground": true,
            "ticks": "",
            "zerolinecolor": "white"
           },
           "yaxis": {
            "backgroundcolor": "#E5ECF6",
            "gridcolor": "white",
            "gridwidth": 2,
            "linecolor": "white",
            "showbackground": true,
            "ticks": "",
            "zerolinecolor": "white"
           },
           "zaxis": {
            "backgroundcolor": "#E5ECF6",
            "gridcolor": "white",
            "gridwidth": 2,
            "linecolor": "white",
            "showbackground": true,
            "ticks": "",
            "zerolinecolor": "white"
           }
          },
          "shapedefaults": {
           "line": {
            "color": "#2a3f5f"
           }
          },
          "ternary": {
           "aaxis": {
            "gridcolor": "white",
            "linecolor": "white",
            "ticks": ""
           },
           "baxis": {
            "gridcolor": "white",
            "linecolor": "white",
            "ticks": ""
           },
           "bgcolor": "#E5ECF6",
           "caxis": {
            "gridcolor": "white",
            "linecolor": "white",
            "ticks": ""
           }
          },
          "title": {
           "x": 0.05
          },
          "xaxis": {
           "automargin": true,
           "gridcolor": "white",
           "linecolor": "white",
           "ticks": "",
           "title": {
            "standoff": 15
           },
           "zerolinecolor": "white",
           "zerolinewidth": 2
          },
          "yaxis": {
           "automargin": true,
           "gridcolor": "white",
           "linecolor": "white",
           "ticks": "",
           "title": {
            "standoff": 15
           },
           "zerolinecolor": "white",
           "zerolinewidth": 2
          }
         }
        }
       }
      }
     },
     "metadata": {},
     "output_type": "display_data"
    }
   ],
   "source": [
    " \n",
    "\n",
    "# Prepare data for funnel chart - assuming the funnel follows: # Demo Occurred -> # Sales Qualified Opportunity -> # Closed Won Opportunity\n",
    "funnel_stages = ['# Demo Occurred', '# Sales Qualified Opportunity', '# Closed Won Opportunity']\n",
    "\n",
    "# Convert 'Month' column to string type\n",
    "monthly_data['Month'] = monthly_data['Month'].astype(str)\n",
    "\n",
    "# Extract unique months\n",
    "months = monthly_data['Month'].unique().tolist()\n",
    "\n",
    "fig = go.Figure()\n",
    "for month_name in months:\n",
    "    month_data = monthly_data[monthly_data['Month'] == month_name]\n",
    "    x_values = [month_data[stage].values[0] for stage in funnel_stages]\n",
    "    fig.add_trace(go.Funnel(\n",
    "        name=month_name,\n",
    "        y=funnel_stages,\n",
    "        x=x_values,\n",
    "        textinfo=\"value+percent initial\"))\n",
    "\n",
    "fig.show()\n"
   ]
  },
  {
   "cell_type": "markdown",
   "metadata": {},
   "source": [
    "### By  Weekday level"
   ]
  },
  {
   "cell_type": "code",
   "execution_count": 18,
   "metadata": {},
   "outputs": [
    {
     "data": {
      "text/html": [
       "<div>\n",
       "<style scoped>\n",
       "    .dataframe tbody tr th:only-of-type {\n",
       "        vertical-align: middle;\n",
       "    }\n",
       "\n",
       "    .dataframe tbody tr th {\n",
       "        vertical-align: top;\n",
       "    }\n",
       "\n",
       "    .dataframe thead th {\n",
       "        text-align: right;\n",
       "    }\n",
       "</style>\n",
       "<table border=\"1\" class=\"dataframe\">\n",
       "  <thead>\n",
       "    <tr style=\"text-align: right;\">\n",
       "      <th></th>\n",
       "      <th>Touched Date</th>\n",
       "      <th>Utm Medium</th>\n",
       "      <th>Utm Source</th>\n",
       "      <th>Utm Campaign</th>\n",
       "      <th># Demo Occurred</th>\n",
       "      <th># Sales Qualified Opportunity</th>\n",
       "      <th># Closed Won Opportunity</th>\n",
       "      <th>Weekday</th>\n",
       "    </tr>\n",
       "  </thead>\n",
       "  <tbody>\n",
       "    <tr>\n",
       "      <th>0</th>\n",
       "      <td>2023-10-29</td>\n",
       "      <td>paid-search</td>\n",
       "      <td>google</td>\n",
       "      <td>nam-t1_acq_searchnonbranded_google_search_coun...</td>\n",
       "      <td>2.5</td>\n",
       "      <td>0.0</td>\n",
       "      <td>0.0</td>\n",
       "      <td>Sunday</td>\n",
       "    </tr>\n",
       "    <tr>\n",
       "      <th>1</th>\n",
       "      <td>2023-10-29</td>\n",
       "      <td>paid-listicle</td>\n",
       "      <td>peoplemanagingpeople</td>\n",
       "      <td>ww_acq_prosp_pmp_paidlist_cadpayroll-pmp-__all</td>\n",
       "      <td>2.5</td>\n",
       "      <td>2.5</td>\n",
       "      <td>0.0</td>\n",
       "      <td>Sunday</td>\n",
       "    </tr>\n",
       "    <tr>\n",
       "      <th>2</th>\n",
       "      <td>2023-10-29</td>\n",
       "      <td>paid-social</td>\n",
       "      <td>facebook</td>\n",
       "      <td>nam-t1_consider_calculate_fb_image_all-reengag...</td>\n",
       "      <td>2.4</td>\n",
       "      <td>0.0</td>\n",
       "      <td>0.0</td>\n",
       "      <td>Sunday</td>\n",
       "    </tr>\n",
       "    <tr>\n",
       "      <th>3</th>\n",
       "      <td>2023-10-29</td>\n",
       "      <td>paid-search</td>\n",
       "      <td>google</td>\n",
       "      <td>emea-t1a_acq_searchnonbranded_google_search_pa...</td>\n",
       "      <td>0.0</td>\n",
       "      <td>0.0</td>\n",
       "      <td>0.0</td>\n",
       "      <td>Sunday</td>\n",
       "    </tr>\n",
       "    <tr>\n",
       "      <th>4</th>\n",
       "      <td>2023-10-29</td>\n",
       "      <td>sponsored-newsletter</td>\n",
       "      <td>hrci</td>\n",
       "      <td>ww_engage_download_hrci_sponnewsletter_hr-hrbu...</td>\n",
       "      <td>0.0</td>\n",
       "      <td>0.0</td>\n",
       "      <td>0.0</td>\n",
       "      <td>Sunday</td>\n",
       "    </tr>\n",
       "    <tr>\n",
       "      <th>...</th>\n",
       "      <td>...</td>\n",
       "      <td>...</td>\n",
       "      <td>...</td>\n",
       "      <td>...</td>\n",
       "      <td>...</td>\n",
       "      <td>...</td>\n",
       "      <td>...</td>\n",
       "      <td>...</td>\n",
       "    </tr>\n",
       "    <tr>\n",
       "      <th>11006</th>\n",
       "      <td>2023-06-05</td>\n",
       "      <td>659706244314</td>\n",
       "      <td>149096095629</td>\n",
       "      <td>NaN</td>\n",
       "      <td>1.9</td>\n",
       "      <td>2.5</td>\n",
       "      <td>0.0</td>\n",
       "      <td>Monday</td>\n",
       "    </tr>\n",
       "    <tr>\n",
       "      <th>11007</th>\n",
       "      <td>2023-06-05</td>\n",
       "      <td>webinar</td>\n",
       "      <td>webinar</td>\n",
       "      <td>ww_acq_prosp_webinar__defaultcamp--__all</td>\n",
       "      <td>0.0</td>\n",
       "      <td>0.0</td>\n",
       "      <td>0.0</td>\n",
       "      <td>Monday</td>\n",
       "    </tr>\n",
       "    <tr>\n",
       "      <th>11008</th>\n",
       "      <td>2023-06-05</td>\n",
       "      <td>cpc</td>\n",
       "      <td>bing</td>\n",
       "      <td>NaN</td>\n",
       "      <td>0.0</td>\n",
       "      <td>0.0</td>\n",
       "      <td>0.0</td>\n",
       "      <td>Monday</td>\n",
       "    </tr>\n",
       "    <tr>\n",
       "      <th>11009</th>\n",
       "      <td>2023-06-05</td>\n",
       "      <td>paid-social</td>\n",
       "      <td>facebook</td>\n",
       "      <td>emea-t2_acq_prosp_fb_image_all-cb-__smbmm</td>\n",
       "      <td>3.1</td>\n",
       "      <td>0.0</td>\n",
       "      <td>0.0</td>\n",
       "      <td>Monday</td>\n",
       "    </tr>\n",
       "    <tr>\n",
       "      <th>11010</th>\n",
       "      <td>2023-06-05</td>\n",
       "      <td>642450914603</td>\n",
       "      <td>148350216607</td>\n",
       "      <td>NaN</td>\n",
       "      <td>2.5</td>\n",
       "      <td>0.0</td>\n",
       "      <td>0.0</td>\n",
       "      <td>Monday</td>\n",
       "    </tr>\n",
       "  </tbody>\n",
       "</table>\n",
       "<p>11011 rows × 8 columns</p>\n",
       "</div>"
      ],
      "text/plain": [
       "      Touched Date            Utm Medium            Utm Source  \\\n",
       "0       2023-10-29           paid-search                google   \n",
       "1       2023-10-29         paid-listicle  peoplemanagingpeople   \n",
       "2       2023-10-29           paid-social              facebook   \n",
       "3       2023-10-29           paid-search                google   \n",
       "4       2023-10-29  sponsored-newsletter                  hrci   \n",
       "...            ...                   ...                   ...   \n",
       "11006   2023-06-05          659706244314          149096095629   \n",
       "11007   2023-06-05               webinar               webinar   \n",
       "11008   2023-06-05                   cpc                  bing   \n",
       "11009   2023-06-05           paid-social              facebook   \n",
       "11010   2023-06-05          642450914603          148350216607   \n",
       "\n",
       "                                            Utm Campaign  # Demo Occurred  \\\n",
       "0      nam-t1_acq_searchnonbranded_google_search_coun...              2.5   \n",
       "1         ww_acq_prosp_pmp_paidlist_cadpayroll-pmp-__all              2.5   \n",
       "2      nam-t1_consider_calculate_fb_image_all-reengag...              2.4   \n",
       "3      emea-t1a_acq_searchnonbranded_google_search_pa...              0.0   \n",
       "4      ww_engage_download_hrci_sponnewsletter_hr-hrbu...              0.0   \n",
       "...                                                  ...              ...   \n",
       "11006                                                NaN              1.9   \n",
       "11007           ww_acq_prosp_webinar__defaultcamp--__all              0.0   \n",
       "11008                                                NaN              0.0   \n",
       "11009          emea-t2_acq_prosp_fb_image_all-cb-__smbmm              3.1   \n",
       "11010                                                NaN              2.5   \n",
       "\n",
       "       # Sales Qualified Opportunity  # Closed Won Opportunity Weekday  \n",
       "0                                0.0                       0.0  Sunday  \n",
       "1                                2.5                       0.0  Sunday  \n",
       "2                                0.0                       0.0  Sunday  \n",
       "3                                0.0                       0.0  Sunday  \n",
       "4                                0.0                       0.0  Sunday  \n",
       "...                              ...                       ...     ...  \n",
       "11006                            2.5                       0.0  Monday  \n",
       "11007                            0.0                       0.0  Monday  \n",
       "11008                            0.0                       0.0  Monday  \n",
       "11009                            0.0                       0.0  Monday  \n",
       "11010                            0.0                       0.0  Monday  \n",
       "\n",
       "[11011 rows x 8 columns]"
      ]
     },
     "execution_count": 18,
     "metadata": {},
     "output_type": "execute_result"
    }
   ],
   "source": [
    "conversion['Weekday'] = conversion['Touched Date'].dt.day_name()\n",
    "conversion"
   ]
  },
  {
   "cell_type": "code",
   "execution_count": 13,
   "metadata": {},
   "outputs": [],
   "source": [
    "weekly_data = conversion.groupby('Weekday').sum([['# Demo Occurred','# Sales Qualified Opportunity','# Closed Won Opportunity']])\\\n",
    "  .reindex(['Monday', 'Tuesday', 'Wednesday', 'Thursday', 'Friday', 'Saturday', 'Sunday'])"
   ]
  },
  {
   "cell_type": "code",
   "execution_count": 17,
   "metadata": {},
   "outputs": [
    {
     "data": {
      "application/vnd.plotly.v1+json": {
       "config": {
        "plotlyServerURL": "https://plot.ly"
       },
       "data": [
        {
         "marker": {
          "color": "royalblue"
         },
         "mode": "lines+markers+text",
         "name": "# Demo Occurred",
         "text": [
          "3600.50 (-7% vs max)",
          "3881.80 (+0% vs max)",
          "3775.90 (-3% vs max)",
          "3615.00 (-7% vs max)",
          "2954.70 (-24% vs max)",
          "848.60 (-78% vs max)",
          "1066.20 (-73% vs max)"
         ],
         "textposition": "top center",
         "type": "scatter",
         "x": [
          "Monday",
          "Tuesday",
          "Wednesday",
          "Thursday",
          "Friday",
          "Saturday",
          "Sunday"
         ],
         "y": [
          3600.5,
          3881.8,
          3775.9,
          3615,
          2954.7,
          848.6,
          1066.2
         ]
        },
        {
         "marker": {
          "color": "firebrick"
         },
         "mode": "lines+markers+text",
         "name": "# Sales Qualified Opportunity",
         "text": [
          "2038.20 (-8% vs max)",
          "2226.40 (+0% vs max)",
          "2022.20 (-9% vs max)",
          "2037.00 (-9% vs max)",
          "1572.90 (-29% vs max)",
          "294.80 (-87% vs max)",
          "340.60 (-85% vs max)"
         ],
         "textposition": "top center",
         "type": "scatter",
         "x": [
          "Monday",
          "Tuesday",
          "Wednesday",
          "Thursday",
          "Friday",
          "Saturday",
          "Sunday"
         ],
         "y": [
          2038.2,
          2226.4,
          2022.2,
          2037,
          1572.9,
          294.8,
          340.6
         ]
        },
        {
         "marker": {
          "color": "green"
         },
         "mode": "lines+markers+text",
         "name": "# Closed Won Opportunity",
         "text": [
          "411.40 (-21% vs max)",
          "523.70 (+0% vs max)",
          "471.10 (-10% vs max)",
          "507.40 (-3% vs max)",
          "337.20 (-36% vs max)",
          "36.70 (-93% vs max)",
          "59.40 (-89% vs max)"
         ],
         "textposition": "top center",
         "type": "scatter",
         "x": [
          "Monday",
          "Tuesday",
          "Wednesday",
          "Thursday",
          "Friday",
          "Saturday",
          "Sunday"
         ],
         "y": [
          411.4,
          523.7,
          471.1,
          507.4,
          337.2,
          36.7,
          59.4
         ]
        }
       ],
       "layout": {
        "plot_bgcolor": "white",
        "template": {
         "data": {
          "bar": [
           {
            "error_x": {
             "color": "#2a3f5f"
            },
            "error_y": {
             "color": "#2a3f5f"
            },
            "marker": {
             "line": {
              "color": "#E5ECF6",
              "width": 0.5
             },
             "pattern": {
              "fillmode": "overlay",
              "size": 10,
              "solidity": 0.2
             }
            },
            "type": "bar"
           }
          ],
          "barpolar": [
           {
            "marker": {
             "line": {
              "color": "#E5ECF6",
              "width": 0.5
             },
             "pattern": {
              "fillmode": "overlay",
              "size": 10,
              "solidity": 0.2
             }
            },
            "type": "barpolar"
           }
          ],
          "carpet": [
           {
            "aaxis": {
             "endlinecolor": "#2a3f5f",
             "gridcolor": "white",
             "linecolor": "white",
             "minorgridcolor": "white",
             "startlinecolor": "#2a3f5f"
            },
            "baxis": {
             "endlinecolor": "#2a3f5f",
             "gridcolor": "white",
             "linecolor": "white",
             "minorgridcolor": "white",
             "startlinecolor": "#2a3f5f"
            },
            "type": "carpet"
           }
          ],
          "choropleth": [
           {
            "colorbar": {
             "outlinewidth": 0,
             "ticks": ""
            },
            "type": "choropleth"
           }
          ],
          "contour": [
           {
            "colorbar": {
             "outlinewidth": 0,
             "ticks": ""
            },
            "colorscale": [
             [
              0,
              "#0d0887"
             ],
             [
              0.1111111111111111,
              "#46039f"
             ],
             [
              0.2222222222222222,
              "#7201a8"
             ],
             [
              0.3333333333333333,
              "#9c179e"
             ],
             [
              0.4444444444444444,
              "#bd3786"
             ],
             [
              0.5555555555555556,
              "#d8576b"
             ],
             [
              0.6666666666666666,
              "#ed7953"
             ],
             [
              0.7777777777777778,
              "#fb9f3a"
             ],
             [
              0.8888888888888888,
              "#fdca26"
             ],
             [
              1,
              "#f0f921"
             ]
            ],
            "type": "contour"
           }
          ],
          "contourcarpet": [
           {
            "colorbar": {
             "outlinewidth": 0,
             "ticks": ""
            },
            "type": "contourcarpet"
           }
          ],
          "heatmap": [
           {
            "colorbar": {
             "outlinewidth": 0,
             "ticks": ""
            },
            "colorscale": [
             [
              0,
              "#0d0887"
             ],
             [
              0.1111111111111111,
              "#46039f"
             ],
             [
              0.2222222222222222,
              "#7201a8"
             ],
             [
              0.3333333333333333,
              "#9c179e"
             ],
             [
              0.4444444444444444,
              "#bd3786"
             ],
             [
              0.5555555555555556,
              "#d8576b"
             ],
             [
              0.6666666666666666,
              "#ed7953"
             ],
             [
              0.7777777777777778,
              "#fb9f3a"
             ],
             [
              0.8888888888888888,
              "#fdca26"
             ],
             [
              1,
              "#f0f921"
             ]
            ],
            "type": "heatmap"
           }
          ],
          "heatmapgl": [
           {
            "colorbar": {
             "outlinewidth": 0,
             "ticks": ""
            },
            "colorscale": [
             [
              0,
              "#0d0887"
             ],
             [
              0.1111111111111111,
              "#46039f"
             ],
             [
              0.2222222222222222,
              "#7201a8"
             ],
             [
              0.3333333333333333,
              "#9c179e"
             ],
             [
              0.4444444444444444,
              "#bd3786"
             ],
             [
              0.5555555555555556,
              "#d8576b"
             ],
             [
              0.6666666666666666,
              "#ed7953"
             ],
             [
              0.7777777777777778,
              "#fb9f3a"
             ],
             [
              0.8888888888888888,
              "#fdca26"
             ],
             [
              1,
              "#f0f921"
             ]
            ],
            "type": "heatmapgl"
           }
          ],
          "histogram": [
           {
            "marker": {
             "pattern": {
              "fillmode": "overlay",
              "size": 10,
              "solidity": 0.2
             }
            },
            "type": "histogram"
           }
          ],
          "histogram2d": [
           {
            "colorbar": {
             "outlinewidth": 0,
             "ticks": ""
            },
            "colorscale": [
             [
              0,
              "#0d0887"
             ],
             [
              0.1111111111111111,
              "#46039f"
             ],
             [
              0.2222222222222222,
              "#7201a8"
             ],
             [
              0.3333333333333333,
              "#9c179e"
             ],
             [
              0.4444444444444444,
              "#bd3786"
             ],
             [
              0.5555555555555556,
              "#d8576b"
             ],
             [
              0.6666666666666666,
              "#ed7953"
             ],
             [
              0.7777777777777778,
              "#fb9f3a"
             ],
             [
              0.8888888888888888,
              "#fdca26"
             ],
             [
              1,
              "#f0f921"
             ]
            ],
            "type": "histogram2d"
           }
          ],
          "histogram2dcontour": [
           {
            "colorbar": {
             "outlinewidth": 0,
             "ticks": ""
            },
            "colorscale": [
             [
              0,
              "#0d0887"
             ],
             [
              0.1111111111111111,
              "#46039f"
             ],
             [
              0.2222222222222222,
              "#7201a8"
             ],
             [
              0.3333333333333333,
              "#9c179e"
             ],
             [
              0.4444444444444444,
              "#bd3786"
             ],
             [
              0.5555555555555556,
              "#d8576b"
             ],
             [
              0.6666666666666666,
              "#ed7953"
             ],
             [
              0.7777777777777778,
              "#fb9f3a"
             ],
             [
              0.8888888888888888,
              "#fdca26"
             ],
             [
              1,
              "#f0f921"
             ]
            ],
            "type": "histogram2dcontour"
           }
          ],
          "mesh3d": [
           {
            "colorbar": {
             "outlinewidth": 0,
             "ticks": ""
            },
            "type": "mesh3d"
           }
          ],
          "parcoords": [
           {
            "line": {
             "colorbar": {
              "outlinewidth": 0,
              "ticks": ""
             }
            },
            "type": "parcoords"
           }
          ],
          "pie": [
           {
            "automargin": true,
            "type": "pie"
           }
          ],
          "scatter": [
           {
            "fillpattern": {
             "fillmode": "overlay",
             "size": 10,
             "solidity": 0.2
            },
            "type": "scatter"
           }
          ],
          "scatter3d": [
           {
            "line": {
             "colorbar": {
              "outlinewidth": 0,
              "ticks": ""
             }
            },
            "marker": {
             "colorbar": {
              "outlinewidth": 0,
              "ticks": ""
             }
            },
            "type": "scatter3d"
           }
          ],
          "scattercarpet": [
           {
            "marker": {
             "colorbar": {
              "outlinewidth": 0,
              "ticks": ""
             }
            },
            "type": "scattercarpet"
           }
          ],
          "scattergeo": [
           {
            "marker": {
             "colorbar": {
              "outlinewidth": 0,
              "ticks": ""
             }
            },
            "type": "scattergeo"
           }
          ],
          "scattergl": [
           {
            "marker": {
             "colorbar": {
              "outlinewidth": 0,
              "ticks": ""
             }
            },
            "type": "scattergl"
           }
          ],
          "scattermapbox": [
           {
            "marker": {
             "colorbar": {
              "outlinewidth": 0,
              "ticks": ""
             }
            },
            "type": "scattermapbox"
           }
          ],
          "scatterpolar": [
           {
            "marker": {
             "colorbar": {
              "outlinewidth": 0,
              "ticks": ""
             }
            },
            "type": "scatterpolar"
           }
          ],
          "scatterpolargl": [
           {
            "marker": {
             "colorbar": {
              "outlinewidth": 0,
              "ticks": ""
             }
            },
            "type": "scatterpolargl"
           }
          ],
          "scatterternary": [
           {
            "marker": {
             "colorbar": {
              "outlinewidth": 0,
              "ticks": ""
             }
            },
            "type": "scatterternary"
           }
          ],
          "surface": [
           {
            "colorbar": {
             "outlinewidth": 0,
             "ticks": ""
            },
            "colorscale": [
             [
              0,
              "#0d0887"
             ],
             [
              0.1111111111111111,
              "#46039f"
             ],
             [
              0.2222222222222222,
              "#7201a8"
             ],
             [
              0.3333333333333333,
              "#9c179e"
             ],
             [
              0.4444444444444444,
              "#bd3786"
             ],
             [
              0.5555555555555556,
              "#d8576b"
             ],
             [
              0.6666666666666666,
              "#ed7953"
             ],
             [
              0.7777777777777778,
              "#fb9f3a"
             ],
             [
              0.8888888888888888,
              "#fdca26"
             ],
             [
              1,
              "#f0f921"
             ]
            ],
            "type": "surface"
           }
          ],
          "table": [
           {
            "cells": {
             "fill": {
              "color": "#EBF0F8"
             },
             "line": {
              "color": "white"
             }
            },
            "header": {
             "fill": {
              "color": "#C8D4E3"
             },
             "line": {
              "color": "white"
             }
            },
            "type": "table"
           }
          ]
         },
         "layout": {
          "annotationdefaults": {
           "arrowcolor": "#2a3f5f",
           "arrowhead": 0,
           "arrowwidth": 1
          },
          "autotypenumbers": "strict",
          "coloraxis": {
           "colorbar": {
            "outlinewidth": 0,
            "ticks": ""
           }
          },
          "colorscale": {
           "diverging": [
            [
             0,
             "#8e0152"
            ],
            [
             0.1,
             "#c51b7d"
            ],
            [
             0.2,
             "#de77ae"
            ],
            [
             0.3,
             "#f1b6da"
            ],
            [
             0.4,
             "#fde0ef"
            ],
            [
             0.5,
             "#f7f7f7"
            ],
            [
             0.6,
             "#e6f5d0"
            ],
            [
             0.7,
             "#b8e186"
            ],
            [
             0.8,
             "#7fbc41"
            ],
            [
             0.9,
             "#4d9221"
            ],
            [
             1,
             "#276419"
            ]
           ],
           "sequential": [
            [
             0,
             "#0d0887"
            ],
            [
             0.1111111111111111,
             "#46039f"
            ],
            [
             0.2222222222222222,
             "#7201a8"
            ],
            [
             0.3333333333333333,
             "#9c179e"
            ],
            [
             0.4444444444444444,
             "#bd3786"
            ],
            [
             0.5555555555555556,
             "#d8576b"
            ],
            [
             0.6666666666666666,
             "#ed7953"
            ],
            [
             0.7777777777777778,
             "#fb9f3a"
            ],
            [
             0.8888888888888888,
             "#fdca26"
            ],
            [
             1,
             "#f0f921"
            ]
           ],
           "sequentialminus": [
            [
             0,
             "#0d0887"
            ],
            [
             0.1111111111111111,
             "#46039f"
            ],
            [
             0.2222222222222222,
             "#7201a8"
            ],
            [
             0.3333333333333333,
             "#9c179e"
            ],
            [
             0.4444444444444444,
             "#bd3786"
            ],
            [
             0.5555555555555556,
             "#d8576b"
            ],
            [
             0.6666666666666666,
             "#ed7953"
            ],
            [
             0.7777777777777778,
             "#fb9f3a"
            ],
            [
             0.8888888888888888,
             "#fdca26"
            ],
            [
             1,
             "#f0f921"
            ]
           ]
          },
          "colorway": [
           "#636efa",
           "#EF553B",
           "#00cc96",
           "#ab63fa",
           "#FFA15A",
           "#19d3f3",
           "#FF6692",
           "#B6E880",
           "#FF97FF",
           "#FECB52"
          ],
          "font": {
           "color": "#2a3f5f"
          },
          "geo": {
           "bgcolor": "white",
           "lakecolor": "white",
           "landcolor": "#E5ECF6",
           "showlakes": true,
           "showland": true,
           "subunitcolor": "white"
          },
          "hoverlabel": {
           "align": "left"
          },
          "hovermode": "closest",
          "mapbox": {
           "style": "light"
          },
          "paper_bgcolor": "white",
          "plot_bgcolor": "#E5ECF6",
          "polar": {
           "angularaxis": {
            "gridcolor": "white",
            "linecolor": "white",
            "ticks": ""
           },
           "bgcolor": "#E5ECF6",
           "radialaxis": {
            "gridcolor": "white",
            "linecolor": "white",
            "ticks": ""
           }
          },
          "scene": {
           "xaxis": {
            "backgroundcolor": "#E5ECF6",
            "gridcolor": "white",
            "gridwidth": 2,
            "linecolor": "white",
            "showbackground": true,
            "ticks": "",
            "zerolinecolor": "white"
           },
           "yaxis": {
            "backgroundcolor": "#E5ECF6",
            "gridcolor": "white",
            "gridwidth": 2,
            "linecolor": "white",
            "showbackground": true,
            "ticks": "",
            "zerolinecolor": "white"
           },
           "zaxis": {
            "backgroundcolor": "#E5ECF6",
            "gridcolor": "white",
            "gridwidth": 2,
            "linecolor": "white",
            "showbackground": true,
            "ticks": "",
            "zerolinecolor": "white"
           }
          },
          "shapedefaults": {
           "line": {
            "color": "#2a3f5f"
           }
          },
          "ternary": {
           "aaxis": {
            "gridcolor": "white",
            "linecolor": "white",
            "ticks": ""
           },
           "baxis": {
            "gridcolor": "white",
            "linecolor": "white",
            "ticks": ""
           },
           "bgcolor": "#E5ECF6",
           "caxis": {
            "gridcolor": "white",
            "linecolor": "white",
            "ticks": ""
           }
          },
          "title": {
           "x": 0.05
          },
          "xaxis": {
           "automargin": true,
           "gridcolor": "white",
           "linecolor": "white",
           "ticks": "",
           "title": {
            "standoff": 15
           },
           "zerolinecolor": "white",
           "zerolinewidth": 2
          },
          "yaxis": {
           "automargin": true,
           "gridcolor": "white",
           "linecolor": "white",
           "ticks": "",
           "title": {
            "standoff": 15
           },
           "zerolinecolor": "white",
           "zerolinewidth": 2
          }
         }
        },
        "title": {
         "text": "Weekly Trends of Conversion Metrics"
        },
        "xaxis": {
         "title": {
          "text": "Weekday"
         }
        },
        "yaxis": {
         "title": {
          "text": "Metric Values"
         }
        }
       }
      }
     },
     "metadata": {},
     "output_type": "display_data"
    }
   ],
   "source": [
    "\n",
    "#get max values for each metric\n",
    "max_demo = weekly_data['# Demo Occurred'].max()\n",
    "max_sqo = weekly_data['# Sales Qualified Opportunity'].max()\n",
    "max_cwo = weekly_data['# Closed Won Opportunity'].max()\n",
    "\n",
    "#get % difference with max\n",
    "weekly_data['Demo % Diff'] = ((weekly_data['# Demo Occurred'] / max_demo) - 1) * 100\n",
    "weekly_data['SQO % Diff'] = ((weekly_data['# Sales Qualified Opportunity'] / max_sqo) - 1) * 100\n",
    "weekly_data['CWO % Diff'] = ((weekly_data['# Closed Won Opportunity'] / max_cwo) - 1) * 100\n",
    "\n",
    "\n",
    "fig = go.Figure()\n",
    "fig.add_trace(go.Scatter(x=weekly_data.index, y=weekly_data['# Demo Occurred'],\n",
    "                         mode='lines+markers+text',\n",
    "                         name='# Demo Occurred',\n",
    "                         text=[f\"{v:.2f} ({d:+.0f}% vs max)\" for v, d in zip(weekly_data['# Demo Occurred'], weekly_data['Demo % Diff'])],\n",
    "                         textposition=\"top center\",\n",
    "                         marker=dict(color='royalblue')))\n",
    "\n",
    "fig.add_trace(go.Scatter(x=weekly_data.index, y=weekly_data['# Sales Qualified Opportunity'],\n",
    "                         mode='lines+markers+text',\n",
    "                         name='# Sales Qualified Opportunity',\n",
    "                         text=[f\"{v:.2f} ({d:+.0f}% vs max)\" for v, d in zip(weekly_data['# Sales Qualified Opportunity'], weekly_data['SQO % Diff'])],\n",
    "                         textposition=\"top center\",\n",
    "                         marker=dict(color='firebrick')))\n",
    "\n",
    "fig.add_trace(go.Scatter(x=weekly_data.index, y=weekly_data['# Closed Won Opportunity'],\n",
    "                         mode='lines+markers+text',\n",
    "                         name='# Closed Won Opportunity',\n",
    "                         text=[f\"{v:.2f} ({d:+.0f}% vs max)\" for v, d in zip(weekly_data['# Closed Won Opportunity'], weekly_data['CWO % Diff'])],\n",
    "                         textposition=\"top center\",\n",
    "                         marker=dict(color='green')))\n",
    "\n",
    "# Update layout\n",
    "fig.update_layout(title='Weekly Trends of Conversion Metrics',\n",
    "                  xaxis_title='Weekday',\n",
    "                  yaxis_title='Metric Values',\n",
    "                  plot_bgcolor='white',)\n",
    "\n",
    "fig.show()"
   ]
  },
  {
   "cell_type": "code",
   "execution_count": null,
   "metadata": {},
   "outputs": [],
   "source": []
  },
  {
   "cell_type": "code",
   "execution_count": null,
   "metadata": {},
   "outputs": [],
   "source": []
  },
  {
   "cell_type": "markdown",
   "metadata": {},
   "source": [
    "## Autocorrolation"
   ]
  },
  {
   "cell_type": "code",
   "execution_count": null,
   "metadata": {},
   "outputs": [],
   "source": [
    "from statsmodels.graphics.tsaplots import plot_acf, plot_pacf\n",
    "\n",
    "plot_acf(df['your_column_name'])\n",
    "plt.title('Autocorrelation Function')\n",
    "plt.show()\n",
    "\n",
    "plot_pacf(df['your_column_name'])\n",
    "plt.title('Partial Autocorrelation Function')\n",
    "plt.show()\n"
   ]
  }
 ],
 "metadata": {
  "kernelspec": {
   "display_name": "base",
   "language": "python",
   "name": "python3"
  },
  "language_info": {
   "codemirror_mode": {
    "name": "ipython",
    "version": 3
   },
   "file_extension": ".py",
   "mimetype": "text/x-python",
   "name": "python",
   "nbconvert_exporter": "python",
   "pygments_lexer": "ipython3",
   "version": "3.11.5"
  }
 },
 "nbformat": 4,
 "nbformat_minor": 2
}
